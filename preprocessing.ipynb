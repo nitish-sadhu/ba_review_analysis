{
 "cells": [
  {
   "cell_type": "code",
   "execution_count": 48,
   "metadata": {},
   "outputs": [],
   "source": [
    "# importing necessary packages\n",
    "import pprint\n",
    "import pandas as pd\n",
    "import re\n",
    "\n",
    "import nltk\n",
    "from nltk.stem import WordNetLemmatizer\n",
    "\n",
    "import psycopg2\n",
    "from sqlalchemy import create_engine\n"
   ]
  },
  {
   "cell_type": "code",
   "execution_count": 52,
   "metadata": {},
   "outputs": [],
   "source": [
    "# making a client\n",
    "client = MongoClient()\n",
    "\n",
    "# collecting the reviews\n",
    "ba_database = client['ba_database']\n",
    "ba_col = ba_database['ba_review_col']\n"
   ]
  },
  {
   "cell_type": "code",
   "execution_count": 58,
   "metadata": {},
   "outputs": [],
   "source": [
    "# getting the reviews\n",
    "reviews = []\n",
    "for doc in ba_col.find({},{'_id':0, 'review':1}):\n",
    "        reviews.append(doc['review'])"
   ]
  },
  {
   "cell_type": "code",
   "execution_count": 60,
   "metadata": {},
   "outputs": [],
   "source": [
    "# downloading stopwords\n",
    "STOPWORDS = nltk.corpus.stopwords.words('english')"
   ]
  },
  {
   "cell_type": "code",
   "execution_count": 61,
   "metadata": {},
   "outputs": [],
   "source": [
    "# defining a word lemmatizer\n",
    "lemmatizer = WordNetLemmatizer()"
   ]
  },
  {
   "cell_type": "code",
   "execution_count": 62,
   "metadata": {},
   "outputs": [],
   "source": [
    "# function to preprocess the text\n",
    "def preprocess(text):\n",
    "        temp_rev = re.sub(r\".*\\|\", \"\", text.strip())                                    # removing characters before \"|\"\n",
    "        temp_rev = re.sub(r\"[^\\w\\s\\d]\", \"\", temp_rev)                                   # removing punctuations\n",
    "        temp_rev = temp_rev.lower()                                                     # converting to lowercase\n",
    "        temp_rev = temp_rev.split()                                                     # splitting the sentence into words\n",
    "        temp_rev = [word for word in temp_rev if word not in STOPWORDS]                 # removing stopwords\n",
    "        temp_rev = [lemmatizer.lemmatize(word) for word in temp_rev]                    # lammtizing the sentence\n",
    "        \n",
    "        return temp_rev   "
   ]
  },
  {
   "cell_type": "code",
   "execution_count": 63,
   "metadata": {},
   "outputs": [],
   "source": [
    "# removing the trip verified from the text and splitting the sentence into individual words\n",
    "tokens = []\n",
    "for rev in reviews:\n",
    "        tokens.append(preprocess(rev))                                          \n",
    "        \n"
   ]
  },
  {
   "cell_type": "code",
   "execution_count": 73,
   "metadata": {},
   "outputs": [],
   "source": [
    "# saving the tokens\n",
    "for i in range(len(tokens)):\n",
    "        ba_col.update_one({'_id':i},{'$set':{'tokens':tokens[i]}})"
   ]
  },
  {
   "cell_type": "code",
   "execution_count": null,
   "metadata": {},
   "outputs": [],
   "source": []
  }
 ],
 "metadata": {
  "kernelspec": {
   "display_name": "Python 3",
   "language": "python",
   "name": "python3"
  },
  "language_info": {
   "codemirror_mode": {
    "name": "ipython",
    "version": 3
   },
   "file_extension": ".py",
   "mimetype": "text/x-python",
   "name": "python",
   "nbconvert_exporter": "python",
   "pygments_lexer": "ipython3",
   "version": "3.9.0"
  }
 },
 "nbformat": 4,
 "nbformat_minor": 2
}

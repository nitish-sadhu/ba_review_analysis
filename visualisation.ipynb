{
 "cells": [
  {
   "cell_type": "code",
   "execution_count": 209,
   "metadata": {},
   "outputs": [],
   "source": [
    "import pandas as pd\n",
    "import matplotlib.pyplot as plt\n",
    "import seaborn as sns\n",
    "import plotly.express as px\n",
    "\n",
    "import datetime\n",
    "\n",
    "import pymongo\n",
    "from pymongo import MongoClient"
   ]
  },
  {
   "cell_type": "code",
   "execution_count": 145,
   "metadata": {},
   "outputs": [],
   "source": [
    "# creating a mongo client\n",
    "ba_client = MongoClient()\n",
    "\n",
    "# getting the database\n",
    "ba_database = ba_client['ba_database']\n",
    "\n",
    "# getting the reviews collection\n",
    "ba_col = ba_database['ba_review_col']"
   ]
  },
  {
   "cell_type": "code",
   "execution_count": 146,
   "metadata": {},
   "outputs": [
    {
     "data": {
      "text/plain": [
       "{'_id': 0,\n",
       " 'author': 'Graeme Boothman',\n",
       " 'country': 'United Kingdom',\n",
       " 'published': '2023-11-08',\n",
       " 'rating': '8',\n",
       " 'review': \"✅ Trip Verified |  Booked online months ago and the only hitch was replacement aircraft meaning chosen seats were different. I was informed of this prior to departure so could amend. Bag drop at MAN T3 wasn't smooth but I suspect that was MAN fault. Shuttle boarding was slow and delayed meaning a rush at LHR T5. The flight to CPT was full but we left more or less on time. The cabin was clean and PE was what we expected, sufficient leg and arm room plus a few little perks with drinks. Only complaint is the seats actually recline too far. Staff were very good during the first few hours of service, especially George. Food was quite tasty but one option wasn't loaded. Breakfast was also quite tasty and we landed on time. The fly in the ointment is both our cases arrived late on the carousel and only later did we notice both had been broken into, likely at CPT. All in all a pleasant surprise.\",\n",
       " 'tokens': ['booked',\n",
       "  'online',\n",
       "  'month',\n",
       "  'ago',\n",
       "  'hitch',\n",
       "  'replacement',\n",
       "  'aircraft',\n",
       "  'meaning',\n",
       "  'chosen',\n",
       "  'seat',\n",
       "  'different',\n",
       "  'informed',\n",
       "  'prior',\n",
       "  'departure',\n",
       "  'could',\n",
       "  'amend',\n",
       "  'bag',\n",
       "  'drop',\n",
       "  'man',\n",
       "  't3',\n",
       "  'wasnt',\n",
       "  'smooth',\n",
       "  'suspect',\n",
       "  'man',\n",
       "  'fault',\n",
       "  'shuttle',\n",
       "  'boarding',\n",
       "  'slow',\n",
       "  'delayed',\n",
       "  'meaning',\n",
       "  'rush',\n",
       "  'lhr',\n",
       "  't5',\n",
       "  'flight',\n",
       "  'cpt',\n",
       "  'full',\n",
       "  'left',\n",
       "  'le',\n",
       "  'time',\n",
       "  'cabin',\n",
       "  'clean',\n",
       "  'pe',\n",
       "  'expected',\n",
       "  'sufficient',\n",
       "  'leg',\n",
       "  'arm',\n",
       "  'room',\n",
       "  'plus',\n",
       "  'little',\n",
       "  'perk',\n",
       "  'drink',\n",
       "  'complaint',\n",
       "  'seat',\n",
       "  'actually',\n",
       "  'recline',\n",
       "  'far',\n",
       "  'staff',\n",
       "  'good',\n",
       "  'first',\n",
       "  'hour',\n",
       "  'service',\n",
       "  'especially',\n",
       "  'george',\n",
       "  'food',\n",
       "  'quite',\n",
       "  'tasty',\n",
       "  'one',\n",
       "  'option',\n",
       "  'wasnt',\n",
       "  'loaded',\n",
       "  'breakfast',\n",
       "  'also',\n",
       "  'quite',\n",
       "  'tasty',\n",
       "  'landed',\n",
       "  'time',\n",
       "  'fly',\n",
       "  'ointment',\n",
       "  'case',\n",
       "  'arrived',\n",
       "  'late',\n",
       "  'carousel',\n",
       "  'later',\n",
       "  'notice',\n",
       "  'broken',\n",
       "  'likely',\n",
       "  'cpt',\n",
       "  'pleasant',\n",
       "  'surprise'],\n",
       " 'sentiment': {'neg': 0.113, 'neu': 0.762, 'pos': 0.124, 'compound': 0.285}}"
      ]
     },
     "execution_count": 146,
     "metadata": {},
     "output_type": "execute_result"
    }
   ],
   "source": [
    "# example of a document\n",
    "ba_col.find_one()"
   ]
  },
  {
   "cell_type": "markdown",
   "metadata": {},
   "source": [
    "<h4>barchart of ratings</h4>"
   ]
  },
  {
   "cell_type": "code",
   "execution_count": 147,
   "metadata": {},
   "outputs": [],
   "source": [
    "# collecting the ratings\n",
    "ratings = []\n",
    "for rev in ba_col.find({},{'_id':0, 'rating':1}):\n",
    "        if 'na' in rev['rating']:\n",
    "                continue\n",
    "        else:\n",
    "                ratings.append(int(rev['rating']))\n",
    "\n",
    "\n",
    "# making dictionay with counts\n",
    "ratings_dict = {}\n",
    "for rate in ratings:\n",
    "        if rate in ratings_dict.keys():\n",
    "                        ratings_dict[rate] += 1\n",
    "        else:\n",
    "                        ratings_dict[rate] = 1"
   ]
  },
  {
   "cell_type": "code",
   "execution_count": 148,
   "metadata": {},
   "outputs": [
    {
     "data": {
      "text/html": [
       "<div>\n",
       "<style scoped>\n",
       "    .dataframe tbody tr th:only-of-type {\n",
       "        vertical-align: middle;\n",
       "    }\n",
       "\n",
       "    .dataframe tbody tr th {\n",
       "        vertical-align: top;\n",
       "    }\n",
       "\n",
       "    .dataframe thead th {\n",
       "        text-align: right;\n",
       "    }\n",
       "</style>\n",
       "<table border=\"1\" class=\"dataframe\">\n",
       "  <thead>\n",
       "    <tr style=\"text-align: right;\">\n",
       "      <th></th>\n",
       "      <th>count</th>\n",
       "    </tr>\n",
       "    <tr>\n",
       "      <th>rating</th>\n",
       "      <th></th>\n",
       "    </tr>\n",
       "  </thead>\n",
       "  <tbody>\n",
       "    <tr>\n",
       "      <th>1</th>\n",
       "      <td>862</td>\n",
       "    </tr>\n",
       "    <tr>\n",
       "      <th>2</th>\n",
       "      <td>426</td>\n",
       "    </tr>\n",
       "    <tr>\n",
       "      <th>3</th>\n",
       "      <td>406</td>\n",
       "    </tr>\n",
       "    <tr>\n",
       "      <th>4</th>\n",
       "      <td>253</td>\n",
       "    </tr>\n",
       "    <tr>\n",
       "      <th>5</th>\n",
       "      <td>234</td>\n",
       "    </tr>\n",
       "  </tbody>\n",
       "</table>\n",
       "</div>"
      ],
      "text/plain": [
       "        count\n",
       "rating       \n",
       "1         862\n",
       "2         426\n",
       "3         406\n",
       "4         253\n",
       "5         234"
      ]
     },
     "execution_count": 148,
     "metadata": {},
     "output_type": "execute_result"
    }
   ],
   "source": [
    "# making a dataframe for the count\n",
    "ratings_count_df = pd.DataFrame.from_dict(ratings_dict, orient='index')\n",
    "ratings_count_df.sort_index(inplace=True)\n",
    "ratings_count_df.columns = ['count']\n",
    "ratings_count_df.index.names = ['rating']\n",
    "ratings_count_df.head()"
   ]
  },
  {
   "cell_type": "code",
   "execution_count": 173,
   "metadata": {},
   "outputs": [
    {
     "data": {
      "application/vnd.plotly.v1+json": {
       "config": {
        "plotlyServerURL": "https://plot.ly"
       },
       "data": [
        {
         "alignmentgroup": "True",
         "hovertemplate": "rating=%{x}<br>count=%{y}<extra></extra>",
         "legendgroup": "",
         "marker": {
          "color": "#636efa",
          "pattern": {
           "shape": ""
          }
         },
         "name": "",
         "offsetgroup": "",
         "orientation": "v",
         "showlegend": false,
         "textposition": "auto",
         "type": "bar",
         "x": [
          1,
          2,
          3,
          4,
          5,
          6,
          7,
          8,
          9,
          10
         ],
         "xaxis": "x",
         "y": [
          862,
          426,
          406,
          253,
          234,
          190,
          314,
          369,
          311,
          325
         ],
         "yaxis": "y"
        }
       ],
       "layout": {
        "barmode": "relative",
        "legend": {
         "tracegroupgap": 0
        },
        "margin": {
         "t": 60
        },
        "template": {
         "data": {
          "bar": [
           {
            "error_x": {
             "color": "#2a3f5f"
            },
            "error_y": {
             "color": "#2a3f5f"
            },
            "marker": {
             "line": {
              "color": "#E5ECF6",
              "width": 0.5
             },
             "pattern": {
              "fillmode": "overlay",
              "size": 10,
              "solidity": 0.2
             }
            },
            "type": "bar"
           }
          ],
          "barpolar": [
           {
            "marker": {
             "line": {
              "color": "#E5ECF6",
              "width": 0.5
             },
             "pattern": {
              "fillmode": "overlay",
              "size": 10,
              "solidity": 0.2
             }
            },
            "type": "barpolar"
           }
          ],
          "carpet": [
           {
            "aaxis": {
             "endlinecolor": "#2a3f5f",
             "gridcolor": "white",
             "linecolor": "white",
             "minorgridcolor": "white",
             "startlinecolor": "#2a3f5f"
            },
            "baxis": {
             "endlinecolor": "#2a3f5f",
             "gridcolor": "white",
             "linecolor": "white",
             "minorgridcolor": "white",
             "startlinecolor": "#2a3f5f"
            },
            "type": "carpet"
           }
          ],
          "choropleth": [
           {
            "colorbar": {
             "outlinewidth": 0,
             "ticks": ""
            },
            "type": "choropleth"
           }
          ],
          "contour": [
           {
            "colorbar": {
             "outlinewidth": 0,
             "ticks": ""
            },
            "colorscale": [
             [
              0,
              "#0d0887"
             ],
             [
              0.1111111111111111,
              "#46039f"
             ],
             [
              0.2222222222222222,
              "#7201a8"
             ],
             [
              0.3333333333333333,
              "#9c179e"
             ],
             [
              0.4444444444444444,
              "#bd3786"
             ],
             [
              0.5555555555555556,
              "#d8576b"
             ],
             [
              0.6666666666666666,
              "#ed7953"
             ],
             [
              0.7777777777777778,
              "#fb9f3a"
             ],
             [
              0.8888888888888888,
              "#fdca26"
             ],
             [
              1,
              "#f0f921"
             ]
            ],
            "type": "contour"
           }
          ],
          "contourcarpet": [
           {
            "colorbar": {
             "outlinewidth": 0,
             "ticks": ""
            },
            "type": "contourcarpet"
           }
          ],
          "heatmap": [
           {
            "colorbar": {
             "outlinewidth": 0,
             "ticks": ""
            },
            "colorscale": [
             [
              0,
              "#0d0887"
             ],
             [
              0.1111111111111111,
              "#46039f"
             ],
             [
              0.2222222222222222,
              "#7201a8"
             ],
             [
              0.3333333333333333,
              "#9c179e"
             ],
             [
              0.4444444444444444,
              "#bd3786"
             ],
             [
              0.5555555555555556,
              "#d8576b"
             ],
             [
              0.6666666666666666,
              "#ed7953"
             ],
             [
              0.7777777777777778,
              "#fb9f3a"
             ],
             [
              0.8888888888888888,
              "#fdca26"
             ],
             [
              1,
              "#f0f921"
             ]
            ],
            "type": "heatmap"
           }
          ],
          "heatmapgl": [
           {
            "colorbar": {
             "outlinewidth": 0,
             "ticks": ""
            },
            "colorscale": [
             [
              0,
              "#0d0887"
             ],
             [
              0.1111111111111111,
              "#46039f"
             ],
             [
              0.2222222222222222,
              "#7201a8"
             ],
             [
              0.3333333333333333,
              "#9c179e"
             ],
             [
              0.4444444444444444,
              "#bd3786"
             ],
             [
              0.5555555555555556,
              "#d8576b"
             ],
             [
              0.6666666666666666,
              "#ed7953"
             ],
             [
              0.7777777777777778,
              "#fb9f3a"
             ],
             [
              0.8888888888888888,
              "#fdca26"
             ],
             [
              1,
              "#f0f921"
             ]
            ],
            "type": "heatmapgl"
           }
          ],
          "histogram": [
           {
            "marker": {
             "pattern": {
              "fillmode": "overlay",
              "size": 10,
              "solidity": 0.2
             }
            },
            "type": "histogram"
           }
          ],
          "histogram2d": [
           {
            "colorbar": {
             "outlinewidth": 0,
             "ticks": ""
            },
            "colorscale": [
             [
              0,
              "#0d0887"
             ],
             [
              0.1111111111111111,
              "#46039f"
             ],
             [
              0.2222222222222222,
              "#7201a8"
             ],
             [
              0.3333333333333333,
              "#9c179e"
             ],
             [
              0.4444444444444444,
              "#bd3786"
             ],
             [
              0.5555555555555556,
              "#d8576b"
             ],
             [
              0.6666666666666666,
              "#ed7953"
             ],
             [
              0.7777777777777778,
              "#fb9f3a"
             ],
             [
              0.8888888888888888,
              "#fdca26"
             ],
             [
              1,
              "#f0f921"
             ]
            ],
            "type": "histogram2d"
           }
          ],
          "histogram2dcontour": [
           {
            "colorbar": {
             "outlinewidth": 0,
             "ticks": ""
            },
            "colorscale": [
             [
              0,
              "#0d0887"
             ],
             [
              0.1111111111111111,
              "#46039f"
             ],
             [
              0.2222222222222222,
              "#7201a8"
             ],
             [
              0.3333333333333333,
              "#9c179e"
             ],
             [
              0.4444444444444444,
              "#bd3786"
             ],
             [
              0.5555555555555556,
              "#d8576b"
             ],
             [
              0.6666666666666666,
              "#ed7953"
             ],
             [
              0.7777777777777778,
              "#fb9f3a"
             ],
             [
              0.8888888888888888,
              "#fdca26"
             ],
             [
              1,
              "#f0f921"
             ]
            ],
            "type": "histogram2dcontour"
           }
          ],
          "mesh3d": [
           {
            "colorbar": {
             "outlinewidth": 0,
             "ticks": ""
            },
            "type": "mesh3d"
           }
          ],
          "parcoords": [
           {
            "line": {
             "colorbar": {
              "outlinewidth": 0,
              "ticks": ""
             }
            },
            "type": "parcoords"
           }
          ],
          "pie": [
           {
            "automargin": true,
            "type": "pie"
           }
          ],
          "scatter": [
           {
            "fillpattern": {
             "fillmode": "overlay",
             "size": 10,
             "solidity": 0.2
            },
            "type": "scatter"
           }
          ],
          "scatter3d": [
           {
            "line": {
             "colorbar": {
              "outlinewidth": 0,
              "ticks": ""
             }
            },
            "marker": {
             "colorbar": {
              "outlinewidth": 0,
              "ticks": ""
             }
            },
            "type": "scatter3d"
           }
          ],
          "scattercarpet": [
           {
            "marker": {
             "colorbar": {
              "outlinewidth": 0,
              "ticks": ""
             }
            },
            "type": "scattercarpet"
           }
          ],
          "scattergeo": [
           {
            "marker": {
             "colorbar": {
              "outlinewidth": 0,
              "ticks": ""
             }
            },
            "type": "scattergeo"
           }
          ],
          "scattergl": [
           {
            "marker": {
             "colorbar": {
              "outlinewidth": 0,
              "ticks": ""
             }
            },
            "type": "scattergl"
           }
          ],
          "scattermapbox": [
           {
            "marker": {
             "colorbar": {
              "outlinewidth": 0,
              "ticks": ""
             }
            },
            "type": "scattermapbox"
           }
          ],
          "scatterpolar": [
           {
            "marker": {
             "colorbar": {
              "outlinewidth": 0,
              "ticks": ""
             }
            },
            "type": "scatterpolar"
           }
          ],
          "scatterpolargl": [
           {
            "marker": {
             "colorbar": {
              "outlinewidth": 0,
              "ticks": ""
             }
            },
            "type": "scatterpolargl"
           }
          ],
          "scatterternary": [
           {
            "marker": {
             "colorbar": {
              "outlinewidth": 0,
              "ticks": ""
             }
            },
            "type": "scatterternary"
           }
          ],
          "surface": [
           {
            "colorbar": {
             "outlinewidth": 0,
             "ticks": ""
            },
            "colorscale": [
             [
              0,
              "#0d0887"
             ],
             [
              0.1111111111111111,
              "#46039f"
             ],
             [
              0.2222222222222222,
              "#7201a8"
             ],
             [
              0.3333333333333333,
              "#9c179e"
             ],
             [
              0.4444444444444444,
              "#bd3786"
             ],
             [
              0.5555555555555556,
              "#d8576b"
             ],
             [
              0.6666666666666666,
              "#ed7953"
             ],
             [
              0.7777777777777778,
              "#fb9f3a"
             ],
             [
              0.8888888888888888,
              "#fdca26"
             ],
             [
              1,
              "#f0f921"
             ]
            ],
            "type": "surface"
           }
          ],
          "table": [
           {
            "cells": {
             "fill": {
              "color": "#EBF0F8"
             },
             "line": {
              "color": "white"
             }
            },
            "header": {
             "fill": {
              "color": "#C8D4E3"
             },
             "line": {
              "color": "white"
             }
            },
            "type": "table"
           }
          ]
         },
         "layout": {
          "annotationdefaults": {
           "arrowcolor": "#2a3f5f",
           "arrowhead": 0,
           "arrowwidth": 1
          },
          "autotypenumbers": "strict",
          "coloraxis": {
           "colorbar": {
            "outlinewidth": 0,
            "ticks": ""
           }
          },
          "colorscale": {
           "diverging": [
            [
             0,
             "#8e0152"
            ],
            [
             0.1,
             "#c51b7d"
            ],
            [
             0.2,
             "#de77ae"
            ],
            [
             0.3,
             "#f1b6da"
            ],
            [
             0.4,
             "#fde0ef"
            ],
            [
             0.5,
             "#f7f7f7"
            ],
            [
             0.6,
             "#e6f5d0"
            ],
            [
             0.7,
             "#b8e186"
            ],
            [
             0.8,
             "#7fbc41"
            ],
            [
             0.9,
             "#4d9221"
            ],
            [
             1,
             "#276419"
            ]
           ],
           "sequential": [
            [
             0,
             "#0d0887"
            ],
            [
             0.1111111111111111,
             "#46039f"
            ],
            [
             0.2222222222222222,
             "#7201a8"
            ],
            [
             0.3333333333333333,
             "#9c179e"
            ],
            [
             0.4444444444444444,
             "#bd3786"
            ],
            [
             0.5555555555555556,
             "#d8576b"
            ],
            [
             0.6666666666666666,
             "#ed7953"
            ],
            [
             0.7777777777777778,
             "#fb9f3a"
            ],
            [
             0.8888888888888888,
             "#fdca26"
            ],
            [
             1,
             "#f0f921"
            ]
           ],
           "sequentialminus": [
            [
             0,
             "#0d0887"
            ],
            [
             0.1111111111111111,
             "#46039f"
            ],
            [
             0.2222222222222222,
             "#7201a8"
            ],
            [
             0.3333333333333333,
             "#9c179e"
            ],
            [
             0.4444444444444444,
             "#bd3786"
            ],
            [
             0.5555555555555556,
             "#d8576b"
            ],
            [
             0.6666666666666666,
             "#ed7953"
            ],
            [
             0.7777777777777778,
             "#fb9f3a"
            ],
            [
             0.8888888888888888,
             "#fdca26"
            ],
            [
             1,
             "#f0f921"
            ]
           ]
          },
          "colorway": [
           "#636efa",
           "#EF553B",
           "#00cc96",
           "#ab63fa",
           "#FFA15A",
           "#19d3f3",
           "#FF6692",
           "#B6E880",
           "#FF97FF",
           "#FECB52"
          ],
          "font": {
           "color": "#2a3f5f"
          },
          "geo": {
           "bgcolor": "white",
           "lakecolor": "white",
           "landcolor": "#E5ECF6",
           "showlakes": true,
           "showland": true,
           "subunitcolor": "white"
          },
          "hoverlabel": {
           "align": "left"
          },
          "hovermode": "closest",
          "mapbox": {
           "style": "light"
          },
          "paper_bgcolor": "white",
          "plot_bgcolor": "#E5ECF6",
          "polar": {
           "angularaxis": {
            "gridcolor": "white",
            "linecolor": "white",
            "ticks": ""
           },
           "bgcolor": "#E5ECF6",
           "radialaxis": {
            "gridcolor": "white",
            "linecolor": "white",
            "ticks": ""
           }
          },
          "scene": {
           "xaxis": {
            "backgroundcolor": "#E5ECF6",
            "gridcolor": "white",
            "gridwidth": 2,
            "linecolor": "white",
            "showbackground": true,
            "ticks": "",
            "zerolinecolor": "white"
           },
           "yaxis": {
            "backgroundcolor": "#E5ECF6",
            "gridcolor": "white",
            "gridwidth": 2,
            "linecolor": "white",
            "showbackground": true,
            "ticks": "",
            "zerolinecolor": "white"
           },
           "zaxis": {
            "backgroundcolor": "#E5ECF6",
            "gridcolor": "white",
            "gridwidth": 2,
            "linecolor": "white",
            "showbackground": true,
            "ticks": "",
            "zerolinecolor": "white"
           }
          },
          "shapedefaults": {
           "line": {
            "color": "#2a3f5f"
           }
          },
          "ternary": {
           "aaxis": {
            "gridcolor": "white",
            "linecolor": "white",
            "ticks": ""
           },
           "baxis": {
            "gridcolor": "white",
            "linecolor": "white",
            "ticks": ""
           },
           "bgcolor": "#E5ECF6",
           "caxis": {
            "gridcolor": "white",
            "linecolor": "white",
            "ticks": ""
           }
          },
          "title": {
           "x": 0.05
          },
          "xaxis": {
           "automargin": true,
           "gridcolor": "white",
           "linecolor": "white",
           "ticks": "",
           "title": {
            "standoff": 15
           },
           "zerolinecolor": "white",
           "zerolinewidth": 2
          },
          "yaxis": {
           "automargin": true,
           "gridcolor": "white",
           "linecolor": "white",
           "ticks": "",
           "title": {
            "standoff": 15
           },
           "zerolinecolor": "white",
           "zerolinewidth": 2
          }
         }
        },
        "xaxis": {
         "anchor": "y",
         "domain": [
          0,
          1
         ],
         "dtick": 1,
         "tick0": 1,
         "tickmode": "linear",
         "title": {
          "text": "rating"
         }
        },
        "yaxis": {
         "anchor": "x",
         "domain": [
          0,
          1
         ],
         "title": {
          "text": "count"
         }
        }
       }
      }
     },
     "metadata": {},
     "output_type": "display_data"
    }
   ],
   "source": [
    "# visualizing the ratings\n",
    "plot1 = px.bar(ratings_count_df, x = ratings_count_df.index,y='count')\n",
    "plot1.update_layout(\n",
    "    xaxis = dict(\n",
    "        tickmode = 'linear',\n",
    "        tick0 = 1,\n",
    "        dtick = 1\n",
    "    )\n",
    ")\n",
    "plot1.show()"
   ]
  },
  {
   "cell_type": "markdown",
   "metadata": {},
   "source": [
    "<h4>barchart with colored based on sentiment</h4>"
   ]
  },
  {
   "cell_type": "code",
   "execution_count": 150,
   "metadata": {},
   "outputs": [
    {
     "data": {
      "text/plain": [
       "{'_id': 0,\n",
       " 'author': 'Graeme Boothman',\n",
       " 'country': 'United Kingdom',\n",
       " 'published': '2023-11-08',\n",
       " 'rating': '8',\n",
       " 'review': \"✅ Trip Verified |  Booked online months ago and the only hitch was replacement aircraft meaning chosen seats were different. I was informed of this prior to departure so could amend. Bag drop at MAN T3 wasn't smooth but I suspect that was MAN fault. Shuttle boarding was slow and delayed meaning a rush at LHR T5. The flight to CPT was full but we left more or less on time. The cabin was clean and PE was what we expected, sufficient leg and arm room plus a few little perks with drinks. Only complaint is the seats actually recline too far. Staff were very good during the first few hours of service, especially George. Food was quite tasty but one option wasn't loaded. Breakfast was also quite tasty and we landed on time. The fly in the ointment is both our cases arrived late on the carousel and only later did we notice both had been broken into, likely at CPT. All in all a pleasant surprise.\",\n",
       " 'tokens': ['booked',\n",
       "  'online',\n",
       "  'month',\n",
       "  'ago',\n",
       "  'hitch',\n",
       "  'replacement',\n",
       "  'aircraft',\n",
       "  'meaning',\n",
       "  'chosen',\n",
       "  'seat',\n",
       "  'different',\n",
       "  'informed',\n",
       "  'prior',\n",
       "  'departure',\n",
       "  'could',\n",
       "  'amend',\n",
       "  'bag',\n",
       "  'drop',\n",
       "  'man',\n",
       "  't3',\n",
       "  'wasnt',\n",
       "  'smooth',\n",
       "  'suspect',\n",
       "  'man',\n",
       "  'fault',\n",
       "  'shuttle',\n",
       "  'boarding',\n",
       "  'slow',\n",
       "  'delayed',\n",
       "  'meaning',\n",
       "  'rush',\n",
       "  'lhr',\n",
       "  't5',\n",
       "  'flight',\n",
       "  'cpt',\n",
       "  'full',\n",
       "  'left',\n",
       "  'le',\n",
       "  'time',\n",
       "  'cabin',\n",
       "  'clean',\n",
       "  'pe',\n",
       "  'expected',\n",
       "  'sufficient',\n",
       "  'leg',\n",
       "  'arm',\n",
       "  'room',\n",
       "  'plus',\n",
       "  'little',\n",
       "  'perk',\n",
       "  'drink',\n",
       "  'complaint',\n",
       "  'seat',\n",
       "  'actually',\n",
       "  'recline',\n",
       "  'far',\n",
       "  'staff',\n",
       "  'good',\n",
       "  'first',\n",
       "  'hour',\n",
       "  'service',\n",
       "  'especially',\n",
       "  'george',\n",
       "  'food',\n",
       "  'quite',\n",
       "  'tasty',\n",
       "  'one',\n",
       "  'option',\n",
       "  'wasnt',\n",
       "  'loaded',\n",
       "  'breakfast',\n",
       "  'also',\n",
       "  'quite',\n",
       "  'tasty',\n",
       "  'landed',\n",
       "  'time',\n",
       "  'fly',\n",
       "  'ointment',\n",
       "  'case',\n",
       "  'arrived',\n",
       "  'late',\n",
       "  'carousel',\n",
       "  'later',\n",
       "  'notice',\n",
       "  'broken',\n",
       "  'likely',\n",
       "  'cpt',\n",
       "  'pleasant',\n",
       "  'surprise'],\n",
       " 'sentiment': {'neg': 0.113, 'neu': 0.762, 'pos': 0.124, 'compound': 0.285}}"
      ]
     },
     "execution_count": 150,
     "metadata": {},
     "output_type": "execute_result"
    }
   ],
   "source": [
    "ba_col.find_one()"
   ]
  },
  {
   "cell_type": "code",
   "execution_count": 151,
   "metadata": {},
   "outputs": [],
   "source": [
    "# collecting the sentiment\n",
    "sentiment_score = []\n",
    "for rev in ba_col.find({},{'_id':0, 'rating': 1, 'sentiment':1}):\n",
    "        if 'na' in rev['rating']:\n",
    "                continue\n",
    "        else:\n",
    "                sentiment_score.append(rev['sentiment']['compound'])\n",
    "        "
   ]
  },
  {
   "cell_type": "code",
   "execution_count": 152,
   "metadata": {},
   "outputs": [
    {
     "data": {
      "text/html": [
       "<div>\n",
       "<style scoped>\n",
       "    .dataframe tbody tr th:only-of-type {\n",
       "        vertical-align: middle;\n",
       "    }\n",
       "\n",
       "    .dataframe tbody tr th {\n",
       "        vertical-align: top;\n",
       "    }\n",
       "\n",
       "    .dataframe thead th {\n",
       "        text-align: right;\n",
       "    }\n",
       "</style>\n",
       "<table border=\"1\" class=\"dataframe\">\n",
       "  <thead>\n",
       "    <tr style=\"text-align: right;\">\n",
       "      <th></th>\n",
       "      <th>0</th>\n",
       "      <th>sentiment_score</th>\n",
       "    </tr>\n",
       "  </thead>\n",
       "  <tbody>\n",
       "    <tr>\n",
       "      <th>0</th>\n",
       "      <td>8</td>\n",
       "      <td>0.2850</td>\n",
       "    </tr>\n",
       "    <tr>\n",
       "      <th>1</th>\n",
       "      <td>7</td>\n",
       "      <td>0.2500</td>\n",
       "    </tr>\n",
       "    <tr>\n",
       "      <th>2</th>\n",
       "      <td>2</td>\n",
       "      <td>-0.6705</td>\n",
       "    </tr>\n",
       "    <tr>\n",
       "      <th>3</th>\n",
       "      <td>3</td>\n",
       "      <td>-0.1027</td>\n",
       "    </tr>\n",
       "    <tr>\n",
       "      <th>4</th>\n",
       "      <td>8</td>\n",
       "      <td>0.4951</td>\n",
       "    </tr>\n",
       "  </tbody>\n",
       "</table>\n",
       "</div>"
      ],
      "text/plain": [
       "   0  sentiment_score\n",
       "0  8           0.2850\n",
       "1  7           0.2500\n",
       "2  2          -0.6705\n",
       "3  3          -0.1027\n",
       "4  8           0.4951"
      ]
     },
     "execution_count": 152,
     "metadata": {},
     "output_type": "execute_result"
    }
   ],
   "source": [
    "# ratings dataframe\n",
    "ratings_df = pd.DataFrame(ratings)\n",
    "ratings_df['sentiment_score'] = sentiment_score\n",
    "ratings_df.head()"
   ]
  },
  {
   "cell_type": "code",
   "execution_count": 153,
   "metadata": {},
   "outputs": [],
   "source": [
    "# sentiments based on the score\n",
    "sentiment = []\n",
    "for i in range(len(sentiment_score)):\n",
    "        if sentiment_score[i] < 0:\n",
    "                    sentiment.append('negative')\n",
    "        elif 0 <= sentiment_score[i] < 0.4:\n",
    "                    sentiment.append('neutral')\n",
    "        else:\n",
    "                    sentiment.append('positive')"
   ]
  },
  {
   "cell_type": "code",
   "execution_count": 154,
   "metadata": {},
   "outputs": [
    {
     "data": {
      "text/html": [
       "<div>\n",
       "<style scoped>\n",
       "    .dataframe tbody tr th:only-of-type {\n",
       "        vertical-align: middle;\n",
       "    }\n",
       "\n",
       "    .dataframe tbody tr th {\n",
       "        vertical-align: top;\n",
       "    }\n",
       "\n",
       "    .dataframe thead th {\n",
       "        text-align: right;\n",
       "    }\n",
       "</style>\n",
       "<table border=\"1\" class=\"dataframe\">\n",
       "  <thead>\n",
       "    <tr style=\"text-align: right;\">\n",
       "      <th></th>\n",
       "      <th>rating</th>\n",
       "      <th>sentiment_score</th>\n",
       "      <th>sentiment</th>\n",
       "    </tr>\n",
       "  </thead>\n",
       "  <tbody>\n",
       "    <tr>\n",
       "      <th>0</th>\n",
       "      <td>8</td>\n",
       "      <td>0.2850</td>\n",
       "      <td>neutral</td>\n",
       "    </tr>\n",
       "    <tr>\n",
       "      <th>1</th>\n",
       "      <td>7</td>\n",
       "      <td>0.2500</td>\n",
       "      <td>neutral</td>\n",
       "    </tr>\n",
       "    <tr>\n",
       "      <th>2</th>\n",
       "      <td>2</td>\n",
       "      <td>-0.6705</td>\n",
       "      <td>negative</td>\n",
       "    </tr>\n",
       "    <tr>\n",
       "      <th>3</th>\n",
       "      <td>3</td>\n",
       "      <td>-0.1027</td>\n",
       "      <td>negative</td>\n",
       "    </tr>\n",
       "    <tr>\n",
       "      <th>4</th>\n",
       "      <td>8</td>\n",
       "      <td>0.4951</td>\n",
       "      <td>positive</td>\n",
       "    </tr>\n",
       "  </tbody>\n",
       "</table>\n",
       "</div>"
      ],
      "text/plain": [
       "   rating  sentiment_score sentiment\n",
       "0       8           0.2850   neutral\n",
       "1       7           0.2500   neutral\n",
       "2       2          -0.6705  negative\n",
       "3       3          -0.1027  negative\n",
       "4       8           0.4951  positive"
      ]
     },
     "execution_count": 154,
     "metadata": {},
     "output_type": "execute_result"
    }
   ],
   "source": [
    "# creating a new column in dataframe for sentiment\n",
    "ratings_df['sentiment'] = sentiment\n",
    "ratings_df.columns = ['rating', 'sentiment_score', 'sentiment']\n",
    "ratings_df.head()"
   ]
  },
  {
   "cell_type": "code",
   "execution_count": 155,
   "metadata": {},
   "outputs": [
    {
     "name": "stderr",
     "output_type": "stream",
     "text": [
      "C:\\Users\\snkri\\AppData\\Local\\Temp\\ipykernel_16480\\629530198.py:18: FutureWarning:\n",
      "\n",
      "Calling int on a single element Series is deprecated and will raise a TypeError in the future. Use int(ser.iloc[0]) instead\n",
      "\n",
      "C:\\Users\\snkri\\AppData\\Local\\Temp\\ipykernel_16480\\629530198.py:16: FutureWarning:\n",
      "\n",
      "Calling int on a single element Series is deprecated and will raise a TypeError in the future. Use int(ser.iloc[0]) instead\n",
      "\n",
      "C:\\Users\\snkri\\AppData\\Local\\Temp\\ipykernel_16480\\629530198.py:6: FutureWarning:\n",
      "\n",
      "Calling int on a single element Series is deprecated and will raise a TypeError in the future. Use int(ser.iloc[0]) instead\n",
      "\n",
      "C:\\Users\\snkri\\AppData\\Local\\Temp\\ipykernel_16480\\629530198.py:8: FutureWarning:\n",
      "\n",
      "Calling int on a single element Series is deprecated and will raise a TypeError in the future. Use int(ser.iloc[0]) instead\n",
      "\n",
      "C:\\Users\\snkri\\AppData\\Local\\Temp\\ipykernel_16480\\629530198.py:4: FutureWarning:\n",
      "\n",
      "Calling int on a single element Series is deprecated and will raise a TypeError in the future. Use int(ser.iloc[0]) instead\n",
      "\n",
      "C:\\Users\\snkri\\AppData\\Local\\Temp\\ipykernel_16480\\629530198.py:14: FutureWarning:\n",
      "\n",
      "Calling int on a single element Series is deprecated and will raise a TypeError in the future. Use int(ser.iloc[0]) instead\n",
      "\n",
      "C:\\Users\\snkri\\AppData\\Local\\Temp\\ipykernel_16480\\629530198.py:10: FutureWarning:\n",
      "\n",
      "Calling int on a single element Series is deprecated and will raise a TypeError in the future. Use int(ser.iloc[0]) instead\n",
      "\n",
      "C:\\Users\\snkri\\AppData\\Local\\Temp\\ipykernel_16480\\629530198.py:12: FutureWarning:\n",
      "\n",
      "Calling int on a single element Series is deprecated and will raise a TypeError in the future. Use int(ser.iloc[0]) instead\n",
      "\n",
      "C:\\Users\\snkri\\AppData\\Local\\Temp\\ipykernel_16480\\629530198.py:22: FutureWarning:\n",
      "\n",
      "Calling int on a single element Series is deprecated and will raise a TypeError in the future. Use int(ser.iloc[0]) instead\n",
      "\n",
      "C:\\Users\\snkri\\AppData\\Local\\Temp\\ipykernel_16480\\629530198.py:20: FutureWarning:\n",
      "\n",
      "Calling int on a single element Series is deprecated and will raise a TypeError in the future. Use int(ser.iloc[0]) instead\n",
      "\n"
     ]
    }
   ],
   "source": [
    "count = []\n",
    "for i in range(len(ratings_df)):\n",
    "        if ratings_df.iloc[i]['rating'] == 1:\n",
    "                        count.append(int(ratings_count_df[ratings_count_df.index == 1]['count']))\n",
    "        if ratings_df.iloc[i]['rating'] == 2:\n",
    "                        count.append(int(ratings_count_df[ratings_count_df.index == 2]['count']))\n",
    "        if ratings_df.iloc[i]['rating'] == 3:\n",
    "                        count.append(int(ratings_count_df[ratings_count_df.index == 3]['count']))\n",
    "        if ratings_df.iloc[i]['rating'] == 4:\n",
    "                        count.append(int(ratings_count_df[ratings_count_df.index == 4]['count']))\n",
    "        if ratings_df.iloc[i]['rating'] == 5:\n",
    "                        count.append(int(ratings_count_df[ratings_count_df.index == 5]['count']))\n",
    "        if ratings_df.iloc[i]['rating'] == 6:\n",
    "                        count.append(int(ratings_count_df[ratings_count_df.index == 6]['count']))\n",
    "        if ratings_df.iloc[i]['rating'] == 7:\n",
    "                        count.append(int(ratings_count_df[ratings_count_df.index == 7]['count']))\n",
    "        if ratings_df.iloc[i]['rating'] == 8:\n",
    "                        count.append(int(ratings_count_df[ratings_count_df.index == 8]['count']))\n",
    "        if ratings_df.iloc[i]['rating'] == 9:\n",
    "                        count.append(int(ratings_count_df[ratings_count_df.index == 9]['count']))\n",
    "        if ratings_df.iloc[i]['rating'] == 10:\n",
    "                        count.append(int(ratings_count_df[ratings_count_df.index == 10]['count']))\n",
    "        "
   ]
  },
  {
   "cell_type": "code",
   "execution_count": 157,
   "metadata": {},
   "outputs": [],
   "source": [
    "ratings_df['count'] = count"
   ]
  },
  {
   "cell_type": "code",
   "execution_count": 158,
   "metadata": {},
   "outputs": [
    {
     "data": {
      "text/html": [
       "<div>\n",
       "<style scoped>\n",
       "    .dataframe tbody tr th:only-of-type {\n",
       "        vertical-align: middle;\n",
       "    }\n",
       "\n",
       "    .dataframe tbody tr th {\n",
       "        vertical-align: top;\n",
       "    }\n",
       "\n",
       "    .dataframe thead th {\n",
       "        text-align: right;\n",
       "    }\n",
       "</style>\n",
       "<table border=\"1\" class=\"dataframe\">\n",
       "  <thead>\n",
       "    <tr style=\"text-align: right;\">\n",
       "      <th></th>\n",
       "      <th>rating</th>\n",
       "      <th>sentiment_score</th>\n",
       "      <th>sentiment</th>\n",
       "      <th>count</th>\n",
       "    </tr>\n",
       "  </thead>\n",
       "  <tbody>\n",
       "    <tr>\n",
       "      <th>0</th>\n",
       "      <td>8</td>\n",
       "      <td>0.2850</td>\n",
       "      <td>neutral</td>\n",
       "      <td>369</td>\n",
       "    </tr>\n",
       "    <tr>\n",
       "      <th>1</th>\n",
       "      <td>7</td>\n",
       "      <td>0.2500</td>\n",
       "      <td>neutral</td>\n",
       "      <td>314</td>\n",
       "    </tr>\n",
       "    <tr>\n",
       "      <th>2</th>\n",
       "      <td>2</td>\n",
       "      <td>-0.6705</td>\n",
       "      <td>negative</td>\n",
       "      <td>426</td>\n",
       "    </tr>\n",
       "    <tr>\n",
       "      <th>3</th>\n",
       "      <td>3</td>\n",
       "      <td>-0.1027</td>\n",
       "      <td>negative</td>\n",
       "      <td>406</td>\n",
       "    </tr>\n",
       "    <tr>\n",
       "      <th>4</th>\n",
       "      <td>8</td>\n",
       "      <td>0.4951</td>\n",
       "      <td>positive</td>\n",
       "      <td>369</td>\n",
       "    </tr>\n",
       "  </tbody>\n",
       "</table>\n",
       "</div>"
      ],
      "text/plain": [
       "   rating  sentiment_score sentiment  count\n",
       "0       8           0.2850   neutral    369\n",
       "1       7           0.2500   neutral    314\n",
       "2       2          -0.6705  negative    426\n",
       "3       3          -0.1027  negative    406\n",
       "4       8           0.4951  positive    369"
      ]
     },
     "execution_count": 158,
     "metadata": {},
     "output_type": "execute_result"
    }
   ],
   "source": [
    "#ratings_df[\"rating\"] = ratings_df['rating'].astype('numeric')\n",
    "ratings_df.head()"
   ]
  },
  {
   "cell_type": "code",
   "execution_count": 172,
   "metadata": {},
   "outputs": [
    {
     "data": {
      "application/vnd.plotly.v1+json": {
       "config": {
        "plotlyServerURL": "https://plot.ly"
       },
       "data": [
        {
         "alignmentgroup": "True",
         "hovertemplate": "sentiment=neutral<br>rating=%{x}<br>count=%{y}<extra></extra>",
         "legendgroup": "neutral",
         "marker": {
          "color": "#73848C",
          "line": {
           "width": 0
          },
          "pattern": {
           "shape": ""
          }
         },
         "name": "neutral",
         "offsetgroup": "neutral",
         "orientation": "v",
         "showlegend": true,
         "textposition": "auto",
         "type": "bar",
         "x": [
          8,
          7,
          1,
          2,
          2,
          4,
          6,
          1,
          2,
          1,
          4,
          5,
          1,
          1,
          1,
          4,
          4,
          9,
          1,
          4,
          1,
          3,
          1,
          1,
          1,
          1,
          5,
          2,
          9,
          1,
          1,
          1,
          4,
          3,
          1,
          1,
          2,
          1,
          7,
          1,
          1,
          2,
          3,
          1,
          2,
          10,
          4,
          3,
          1,
          2,
          1,
          3,
          1,
          3,
          1,
          3,
          5,
          3,
          8,
          1,
          5,
          5,
          1,
          4,
          10,
          1,
          1,
          10,
          8,
          2,
          5,
          1,
          2,
          3,
          1,
          1,
          2,
          2,
          3,
          1,
          1,
          5,
          6,
          3,
          8,
          7,
          3,
          1,
          4,
          4,
          1,
          1,
          1,
          3,
          1,
          4,
          8,
          3,
          7,
          1,
          1,
          7,
          8,
          2,
          1,
          4,
          3,
          1,
          2,
          2,
          6,
          4,
          5,
          6,
          3,
          4,
          2,
          2,
          2,
          5,
          3,
          1,
          2,
          5,
          2,
          1,
          1,
          3,
          1,
          1,
          2,
          1,
          3,
          1,
          2,
          2,
          1,
          3,
          1,
          3,
          9,
          5,
          9,
          7,
          5,
          8,
          1,
          2,
          1,
          3,
          4,
          2,
          4,
          10,
          3,
          4,
          2,
          1,
          1,
          2,
          7,
          6,
          1,
          1,
          2,
          2,
          9,
          3,
          2,
          1,
          3,
          2,
          4,
          3,
          1,
          2,
          4,
          4,
          1,
          2,
          3,
          6,
          1,
          6,
          3,
          1,
          3,
          5,
          7,
          3,
          8,
          4,
          3,
          1,
          3,
          1,
          2,
          3,
          1,
          2,
          6,
          7,
          1,
          3,
          6,
          6,
          3,
          2,
          1,
          3,
          3,
          8,
          6,
          1,
          5,
          4,
          1,
          7,
          3,
          1,
          1,
          5,
          2,
          2,
          1,
          1,
          4,
          1,
          3,
          2,
          3,
          8,
          3,
          5,
          1,
          7,
          4,
          7,
          2,
          4,
          8,
          1,
          3,
          3,
          8,
          1,
          5,
          4,
          2,
          4,
          6,
          1,
          6,
          1,
          1,
          2,
          1,
          7,
          6,
          3,
          6,
          7,
          10,
          2,
          2,
          1,
          7,
          8,
          4
         ],
         "xaxis": "x",
         "y": [
          369,
          314,
          862,
          426,
          426,
          253,
          190,
          862,
          426,
          862,
          253,
          234,
          862,
          862,
          862,
          253,
          253,
          311,
          862,
          253,
          862,
          406,
          862,
          862,
          862,
          862,
          234,
          426,
          311,
          862,
          862,
          862,
          253,
          406,
          862,
          862,
          426,
          862,
          314,
          862,
          862,
          426,
          406,
          862,
          426,
          325,
          253,
          406,
          862,
          426,
          862,
          406,
          862,
          406,
          862,
          406,
          234,
          406,
          369,
          862,
          234,
          234,
          862,
          253,
          325,
          862,
          862,
          325,
          369,
          426,
          234,
          862,
          426,
          406,
          862,
          862,
          426,
          426,
          406,
          862,
          862,
          234,
          190,
          406,
          369,
          314,
          406,
          862,
          253,
          253,
          862,
          862,
          862,
          406,
          862,
          253,
          369,
          406,
          314,
          862,
          862,
          314,
          369,
          426,
          862,
          253,
          406,
          862,
          426,
          426,
          190,
          253,
          234,
          190,
          406,
          253,
          426,
          426,
          426,
          234,
          406,
          862,
          426,
          234,
          426,
          862,
          862,
          406,
          862,
          862,
          426,
          862,
          406,
          862,
          426,
          426,
          862,
          406,
          862,
          406,
          311,
          234,
          311,
          314,
          234,
          369,
          862,
          426,
          862,
          406,
          253,
          426,
          253,
          325,
          406,
          253,
          426,
          862,
          862,
          426,
          314,
          190,
          862,
          862,
          426,
          426,
          311,
          406,
          426,
          862,
          406,
          426,
          253,
          406,
          862,
          426,
          253,
          253,
          862,
          426,
          406,
          190,
          862,
          190,
          406,
          862,
          406,
          234,
          314,
          406,
          369,
          253,
          406,
          862,
          406,
          862,
          426,
          406,
          862,
          426,
          190,
          314,
          862,
          406,
          190,
          190,
          406,
          426,
          862,
          406,
          406,
          369,
          190,
          862,
          234,
          253,
          862,
          314,
          406,
          862,
          862,
          234,
          426,
          426,
          862,
          862,
          253,
          862,
          406,
          426,
          406,
          369,
          406,
          234,
          862,
          314,
          253,
          314,
          426,
          253,
          369,
          862,
          406,
          406,
          369,
          862,
          234,
          253,
          426,
          253,
          190,
          862,
          190,
          862,
          862,
          426,
          862,
          314,
          190,
          406,
          190,
          314,
          325,
          426,
          426,
          862,
          314,
          369,
          253
         ],
         "yaxis": "y"
        },
        {
         "alignmentgroup": "True",
         "hovertemplate": "sentiment=negative<br>rating=%{x}<br>count=%{y}<extra></extra>",
         "legendgroup": "negative",
         "marker": {
          "color": "#E1341E",
          "line": {
           "width": 0
          },
          "pattern": {
           "shape": ""
          }
         },
         "name": "negative",
         "offsetgroup": "negative",
         "orientation": "v",
         "showlegend": true,
         "textposition": "auto",
         "type": "bar",
         "x": [
          2,
          3,
          1,
          1,
          1,
          1,
          3,
          4,
          1,
          1,
          1,
          1,
          1,
          2,
          2,
          3,
          1,
          3,
          4,
          1,
          1,
          1,
          1,
          1,
          1,
          1,
          1,
          1,
          1,
          1,
          1,
          1,
          1,
          1,
          1,
          1,
          1,
          1,
          3,
          1,
          1,
          1,
          1,
          2,
          2,
          1,
          1,
          1,
          1,
          1,
          2,
          1,
          1,
          4,
          1,
          2,
          2,
          1,
          1,
          1,
          2,
          1,
          1,
          1,
          2,
          1,
          1,
          1,
          2,
          1,
          1,
          1,
          1,
          3,
          4,
          1,
          2,
          3,
          1,
          1,
          2,
          10,
          1,
          1,
          2,
          2,
          2,
          1,
          1,
          1,
          1,
          1,
          1,
          1,
          1,
          2,
          1,
          2,
          5,
          1,
          3,
          3,
          1,
          1,
          2,
          1,
          1,
          2,
          4,
          1,
          3,
          1,
          3,
          1,
          1,
          1,
          3,
          2,
          3,
          1,
          1,
          1,
          2,
          2,
          1,
          2,
          1,
          1,
          1,
          2,
          1,
          1,
          1,
          1,
          2,
          3,
          2,
          3,
          4,
          1,
          4,
          3,
          1,
          1,
          1,
          1,
          2,
          5,
          1,
          3,
          3,
          4,
          3,
          1,
          1,
          1,
          1,
          6,
          2,
          1,
          7,
          1,
          1,
          2,
          2,
          1,
          4,
          1,
          1,
          1,
          1,
          2,
          2,
          5,
          1,
          1,
          2,
          1,
          6,
          1,
          1,
          1,
          4,
          4,
          1,
          4,
          4,
          1,
          1,
          8,
          1,
          1,
          1,
          1,
          1,
          3,
          2,
          4,
          2,
          1,
          1,
          1,
          4,
          1,
          2,
          1,
          5,
          1,
          2,
          2,
          1,
          1,
          3,
          1,
          4,
          1,
          1,
          1,
          2,
          1,
          5,
          1,
          1,
          2,
          1,
          5,
          1,
          3,
          6,
          3,
          3,
          1,
          2,
          1,
          3,
          1,
          1,
          1,
          2,
          1,
          6,
          1,
          1,
          2,
          2,
          2,
          3,
          1,
          1,
          1,
          3,
          7,
          1,
          1,
          1,
          1,
          1,
          2,
          1,
          1,
          1,
          4,
          1,
          4,
          1,
          1,
          1,
          1,
          1,
          1,
          1,
          1,
          1,
          2,
          1,
          1,
          1,
          1,
          1,
          1,
          1,
          1,
          2,
          1,
          1,
          3,
          1,
          2,
          4,
          6,
          1,
          4,
          1,
          1,
          1,
          7,
          1,
          3,
          2,
          1,
          2,
          1,
          3,
          1,
          3,
          2,
          1,
          1,
          1,
          1,
          1,
          7,
          1,
          1,
          3,
          3,
          4,
          1,
          2,
          3,
          1,
          1,
          1,
          1,
          3,
          1,
          1,
          1,
          2,
          4,
          2,
          1,
          1,
          5,
          1,
          1,
          1,
          4,
          5,
          1,
          1,
          5,
          1,
          3,
          2,
          2,
          2,
          1,
          1,
          2,
          1,
          2,
          6,
          1,
          3,
          1,
          1,
          2,
          2,
          1,
          2,
          1,
          1,
          1,
          1,
          1,
          2,
          1,
          3,
          2,
          1,
          1,
          3,
          1,
          3,
          1,
          3,
          1,
          3,
          1,
          3,
          4,
          1,
          1,
          1,
          1,
          5,
          1,
          5,
          3,
          1,
          1,
          2,
          1,
          2,
          1,
          2,
          4,
          1,
          1,
          1,
          1,
          3,
          2,
          1,
          2,
          1,
          1,
          3,
          3,
          1,
          2,
          1,
          1,
          3,
          6,
          5,
          3,
          2,
          2,
          9,
          1,
          6,
          2,
          1,
          2,
          3,
          2,
          3,
          2,
          1,
          1,
          1,
          3,
          4,
          2,
          3,
          1,
          1,
          1,
          4,
          1,
          1,
          1,
          1,
          1,
          2,
          2,
          4,
          1,
          1,
          1,
          1,
          1,
          3,
          2,
          1,
          2,
          2,
          1,
          1,
          3,
          2,
          1,
          5,
          3,
          3,
          1,
          1,
          1,
          1,
          1,
          3,
          3,
          6,
          2,
          1,
          2,
          3,
          2,
          1,
          1,
          1,
          1,
          1,
          3,
          2,
          5,
          1,
          1,
          3,
          4,
          3,
          3,
          2,
          3,
          1,
          2,
          1,
          1,
          1,
          10,
          1,
          2,
          1,
          5,
          3,
          2,
          2,
          1,
          1,
          1,
          3,
          1,
          1,
          4,
          5,
          1,
          1,
          2,
          2,
          2,
          1,
          1,
          3,
          1,
          2,
          1,
          1,
          1,
          7,
          3,
          1,
          2,
          1,
          1,
          4,
          1,
          1,
          1,
          1,
          1,
          7,
          2,
          1,
          1,
          1,
          3,
          1,
          3,
          1,
          1,
          3,
          1,
          1,
          1,
          1,
          4,
          1,
          1,
          2,
          1,
          1,
          2,
          2,
          2,
          2,
          1,
          1,
          1,
          1,
          3,
          1,
          1,
          7,
          4,
          2,
          1,
          2,
          3,
          3,
          3,
          2,
          4,
          1,
          3,
          1,
          3,
          2,
          1,
          4,
          3,
          2,
          1,
          1,
          1,
          1,
          1,
          3,
          2,
          1,
          2,
          2,
          3,
          2,
          3,
          1,
          1,
          1,
          2,
          5,
          3,
          1,
          3,
          1,
          1,
          1,
          1,
          4,
          1,
          1,
          3,
          1,
          3,
          4,
          2,
          1,
          2,
          1,
          1,
          1,
          2,
          3,
          1,
          1,
          1,
          2,
          1,
          5,
          1,
          1,
          1,
          1,
          1,
          1,
          1,
          1,
          3,
          1,
          1,
          3,
          1,
          2,
          1,
          1,
          4,
          6,
          1,
          8,
          1,
          1,
          3,
          3,
          1,
          1,
          1,
          1,
          2,
          1,
          1,
          1,
          2,
          6,
          2,
          2,
          1,
          4,
          1,
          1,
          4,
          1,
          1,
          1,
          2,
          1,
          1,
          1,
          1,
          4,
          3,
          1,
          4,
          2,
          3,
          3,
          4,
          2,
          1,
          1,
          1,
          5,
          4,
          3,
          2,
          1,
          2,
          3,
          4,
          3,
          1,
          2,
          4,
          1,
          2,
          3,
          1,
          1,
          8,
          2,
          4,
          1,
          8,
          1,
          3,
          2,
          1,
          2,
          1,
          3,
          2,
          1,
          5,
          1,
          1,
          1,
          2,
          4,
          2,
          1,
          6,
          4,
          1,
          5,
          3,
          1,
          3,
          6,
          2,
          1,
          6,
          2,
          1,
          2,
          2,
          3,
          2,
          1,
          1,
          2,
          6,
          1,
          4,
          1,
          10,
          1,
          1,
          2,
          1,
          3,
          1,
          1,
          5,
          1,
          3,
          2,
          1,
          1,
          1,
          1,
          1,
          6,
          3,
          1,
          1,
          1,
          2,
          1,
          7,
          2,
          4,
          1,
          4,
          3,
          4,
          8,
          2,
          4,
          4,
          4,
          1,
          1,
          5,
          1,
          1,
          4,
          1,
          3,
          5,
          3,
          1,
          2,
          4,
          2,
          1,
          5,
          1,
          8,
          2,
          4,
          1,
          1,
          3,
          2,
          4,
          4,
          1,
          4,
          1,
          2,
          2,
          1,
          3,
          2,
          1,
          4,
          1,
          3,
          5,
          7,
          5,
          1,
          1,
          1,
          6,
          7,
          5,
          1,
          3,
          3,
          1,
          3,
          1,
          2,
          2,
          2,
          2,
          1,
          1,
          3,
          2,
          8,
          2,
          2,
          2,
          1,
          1,
          2,
          4,
          2,
          4,
          5,
          2,
          1,
          1,
          5,
          1,
          2,
          1,
          7,
          3,
          1,
          2,
          5,
          1,
          1,
          3,
          2,
          1,
          2,
          4,
          6,
          2,
          6,
          7,
          2,
          1,
          1,
          7,
          1,
          2,
          9,
          3,
          1,
          3,
          2,
          1,
          6,
          1,
          1,
          2,
          3,
          5,
          1,
          1,
          3,
          6,
          1,
          4,
          7,
          1,
          3,
          1,
          1,
          2,
          2,
          1,
          3,
          1,
          2,
          1,
          1,
          5,
          1,
          3,
          1,
          1,
          4,
          1,
          6,
          3,
          3,
          6,
          1,
          4,
          1,
          9,
          1,
          1,
          2,
          4,
          4,
          1,
          3,
          1,
          3,
          1,
          10,
          5,
          6,
          5,
          1,
          2,
          3,
          2,
          3,
          5,
          2,
          4,
          2,
          4,
          4,
          2,
          3,
          2,
          1,
          1,
          3,
          4,
          4,
          4,
          1,
          6,
          3,
          3,
          2,
          1,
          5,
          4,
          1,
          6,
          3,
          3,
          4,
          2,
          3,
          5,
          3,
          1,
          1,
          2,
          2,
          1,
          1,
          4,
          2,
          1,
          1,
          1,
          6,
          1,
          1,
          2,
          1,
          2,
          8,
          3,
          3,
          3,
          1,
          1,
          7,
          3,
          1,
          10,
          1,
          4,
          4,
          2,
          1,
          1,
          3,
          1,
          1,
          1,
          1,
          2,
          3,
          1,
          1,
          1,
          6,
          2,
          3,
          1,
          5,
          2,
          3,
          1,
          5,
          1,
          1,
          2,
          1,
          8,
          3,
          2,
          4,
          4,
          2,
          3,
          1,
          1,
          4,
          3,
          1,
          2,
          1,
          2,
          4,
          1,
          4,
          7,
          2,
          3,
          1,
          1,
          3,
          7,
          9,
          6,
          1,
          2,
          1,
          4,
          4,
          5,
          3,
          4,
          3,
          1,
          3,
          1,
          3,
          5,
          4,
          8,
          5,
          4,
          2,
          1,
          1,
          2,
          3,
          2,
          1,
          2,
          5,
          4,
          1,
          3,
          3,
          6,
          5,
          5,
          1,
          1,
          2,
          3,
          4,
          4,
          3,
          6,
          1,
          1,
          6,
          4,
          5,
          1,
          2,
          1,
          2,
          2,
          1,
          4,
          1,
          1,
          1,
          2,
          8,
          9,
          6,
          4,
          4,
          1,
          1,
          2,
          3,
          3,
          4,
          1,
          3,
          1,
          1,
          1,
          1,
          1,
          1,
          5,
          5,
          5,
          6,
          4,
          9,
          1,
          2,
          1,
          2,
          5,
          2,
          2,
          1,
          1,
          1,
          4,
          2,
          3,
          2,
          2,
          5,
          5,
          1,
          1,
          2,
          1,
          1,
          1,
          1,
          1,
          7,
          3,
          3,
          7,
          3,
          3,
          3,
          3,
          1,
          1,
          3,
          3,
          2,
          3,
          6,
          1,
          6,
          5,
          5,
          6,
          1,
          3,
          5,
          1,
          3,
          2,
          8,
          5,
          2,
          1,
          4,
          2,
          5,
          3,
          1,
          2,
          5,
          3,
          2,
          6,
          3,
          2,
          9,
          2,
          3,
          2,
          1,
          1,
          4,
          5
         ],
         "xaxis": "x",
         "y": [
          426,
          406,
          862,
          862,
          862,
          862,
          406,
          253,
          862,
          862,
          862,
          862,
          862,
          426,
          426,
          406,
          862,
          406,
          253,
          862,
          862,
          862,
          862,
          862,
          862,
          862,
          862,
          862,
          862,
          862,
          862,
          862,
          862,
          862,
          862,
          862,
          862,
          862,
          406,
          862,
          862,
          862,
          862,
          426,
          426,
          862,
          862,
          862,
          862,
          862,
          426,
          862,
          862,
          253,
          862,
          426,
          426,
          862,
          862,
          862,
          426,
          862,
          862,
          862,
          426,
          862,
          862,
          862,
          426,
          862,
          862,
          862,
          862,
          406,
          253,
          862,
          426,
          406,
          862,
          862,
          426,
          325,
          862,
          862,
          426,
          426,
          426,
          862,
          862,
          862,
          862,
          862,
          862,
          862,
          862,
          426,
          862,
          426,
          234,
          862,
          406,
          406,
          862,
          862,
          426,
          862,
          862,
          426,
          253,
          862,
          406,
          862,
          406,
          862,
          862,
          862,
          406,
          426,
          406,
          862,
          862,
          862,
          426,
          426,
          862,
          426,
          862,
          862,
          862,
          426,
          862,
          862,
          862,
          862,
          426,
          406,
          426,
          406,
          253,
          862,
          253,
          406,
          862,
          862,
          862,
          862,
          426,
          234,
          862,
          406,
          406,
          253,
          406,
          862,
          862,
          862,
          862,
          190,
          426,
          862,
          314,
          862,
          862,
          426,
          426,
          862,
          253,
          862,
          862,
          862,
          862,
          426,
          426,
          234,
          862,
          862,
          426,
          862,
          190,
          862,
          862,
          862,
          253,
          253,
          862,
          253,
          253,
          862,
          862,
          369,
          862,
          862,
          862,
          862,
          862,
          406,
          426,
          253,
          426,
          862,
          862,
          862,
          253,
          862,
          426,
          862,
          234,
          862,
          426,
          426,
          862,
          862,
          406,
          862,
          253,
          862,
          862,
          862,
          426,
          862,
          234,
          862,
          862,
          426,
          862,
          234,
          862,
          406,
          190,
          406,
          406,
          862,
          426,
          862,
          406,
          862,
          862,
          862,
          426,
          862,
          190,
          862,
          862,
          426,
          426,
          426,
          406,
          862,
          862,
          862,
          406,
          314,
          862,
          862,
          862,
          862,
          862,
          426,
          862,
          862,
          862,
          253,
          862,
          253,
          862,
          862,
          862,
          862,
          862,
          862,
          862,
          862,
          862,
          426,
          862,
          862,
          862,
          862,
          862,
          862,
          862,
          862,
          426,
          862,
          862,
          406,
          862,
          426,
          253,
          190,
          862,
          253,
          862,
          862,
          862,
          314,
          862,
          406,
          426,
          862,
          426,
          862,
          406,
          862,
          406,
          426,
          862,
          862,
          862,
          862,
          862,
          314,
          862,
          862,
          406,
          406,
          253,
          862,
          426,
          406,
          862,
          862,
          862,
          862,
          406,
          862,
          862,
          862,
          426,
          253,
          426,
          862,
          862,
          234,
          862,
          862,
          862,
          253,
          234,
          862,
          862,
          234,
          862,
          406,
          426,
          426,
          426,
          862,
          862,
          426,
          862,
          426,
          190,
          862,
          406,
          862,
          862,
          426,
          426,
          862,
          426,
          862,
          862,
          862,
          862,
          862,
          426,
          862,
          406,
          426,
          862,
          862,
          406,
          862,
          406,
          862,
          406,
          862,
          406,
          862,
          406,
          253,
          862,
          862,
          862,
          862,
          234,
          862,
          234,
          406,
          862,
          862,
          426,
          862,
          426,
          862,
          426,
          253,
          862,
          862,
          862,
          862,
          406,
          426,
          862,
          426,
          862,
          862,
          406,
          406,
          862,
          426,
          862,
          862,
          406,
          190,
          234,
          406,
          426,
          426,
          311,
          862,
          190,
          426,
          862,
          426,
          406,
          426,
          406,
          426,
          862,
          862,
          862,
          406,
          253,
          426,
          406,
          862,
          862,
          862,
          253,
          862,
          862,
          862,
          862,
          862,
          426,
          426,
          253,
          862,
          862,
          862,
          862,
          862,
          406,
          426,
          862,
          426,
          426,
          862,
          862,
          406,
          426,
          862,
          234,
          406,
          406,
          862,
          862,
          862,
          862,
          862,
          406,
          406,
          190,
          426,
          862,
          426,
          406,
          426,
          862,
          862,
          862,
          862,
          862,
          406,
          426,
          234,
          862,
          862,
          406,
          253,
          406,
          406,
          426,
          406,
          862,
          426,
          862,
          862,
          862,
          325,
          862,
          426,
          862,
          234,
          406,
          426,
          426,
          862,
          862,
          862,
          406,
          862,
          862,
          253,
          234,
          862,
          862,
          426,
          426,
          426,
          862,
          862,
          406,
          862,
          426,
          862,
          862,
          862,
          314,
          406,
          862,
          426,
          862,
          862,
          253,
          862,
          862,
          862,
          862,
          862,
          314,
          426,
          862,
          862,
          862,
          406,
          862,
          406,
          862,
          862,
          406,
          862,
          862,
          862,
          862,
          253,
          862,
          862,
          426,
          862,
          862,
          426,
          426,
          426,
          426,
          862,
          862,
          862,
          862,
          406,
          862,
          862,
          314,
          253,
          426,
          862,
          426,
          406,
          406,
          406,
          426,
          253,
          862,
          406,
          862,
          406,
          426,
          862,
          253,
          406,
          426,
          862,
          862,
          862,
          862,
          862,
          406,
          426,
          862,
          426,
          426,
          406,
          426,
          406,
          862,
          862,
          862,
          426,
          234,
          406,
          862,
          406,
          862,
          862,
          862,
          862,
          253,
          862,
          862,
          406,
          862,
          406,
          253,
          426,
          862,
          426,
          862,
          862,
          862,
          426,
          406,
          862,
          862,
          862,
          426,
          862,
          234,
          862,
          862,
          862,
          862,
          862,
          862,
          862,
          862,
          406,
          862,
          862,
          406,
          862,
          426,
          862,
          862,
          253,
          190,
          862,
          369,
          862,
          862,
          406,
          406,
          862,
          862,
          862,
          862,
          426,
          862,
          862,
          862,
          426,
          190,
          426,
          426,
          862,
          253,
          862,
          862,
          253,
          862,
          862,
          862,
          426,
          862,
          862,
          862,
          862,
          253,
          406,
          862,
          253,
          426,
          406,
          406,
          253,
          426,
          862,
          862,
          862,
          234,
          253,
          406,
          426,
          862,
          426,
          406,
          253,
          406,
          862,
          426,
          253,
          862,
          426,
          406,
          862,
          862,
          369,
          426,
          253,
          862,
          369,
          862,
          406,
          426,
          862,
          426,
          862,
          406,
          426,
          862,
          234,
          862,
          862,
          862,
          426,
          253,
          426,
          862,
          190,
          253,
          862,
          234,
          406,
          862,
          406,
          190,
          426,
          862,
          190,
          426,
          862,
          426,
          426,
          406,
          426,
          862,
          862,
          426,
          190,
          862,
          253,
          862,
          325,
          862,
          862,
          426,
          862,
          406,
          862,
          862,
          234,
          862,
          406,
          426,
          862,
          862,
          862,
          862,
          862,
          190,
          406,
          862,
          862,
          862,
          426,
          862,
          314,
          426,
          253,
          862,
          253,
          406,
          253,
          369,
          426,
          253,
          253,
          253,
          862,
          862,
          234,
          862,
          862,
          253,
          862,
          406,
          234,
          406,
          862,
          426,
          253,
          426,
          862,
          234,
          862,
          369,
          426,
          253,
          862,
          862,
          406,
          426,
          253,
          253,
          862,
          253,
          862,
          426,
          426,
          862,
          406,
          426,
          862,
          253,
          862,
          406,
          234,
          314,
          234,
          862,
          862,
          862,
          190,
          314,
          234,
          862,
          406,
          406,
          862,
          406,
          862,
          426,
          426,
          426,
          426,
          862,
          862,
          406,
          426,
          369,
          426,
          426,
          426,
          862,
          862,
          426,
          253,
          426,
          253,
          234,
          426,
          862,
          862,
          234,
          862,
          426,
          862,
          314,
          406,
          862,
          426,
          234,
          862,
          862,
          406,
          426,
          862,
          426,
          253,
          190,
          426,
          190,
          314,
          426,
          862,
          862,
          314,
          862,
          426,
          311,
          406,
          862,
          406,
          426,
          862,
          190,
          862,
          862,
          426,
          406,
          234,
          862,
          862,
          406,
          190,
          862,
          253,
          314,
          862,
          406,
          862,
          862,
          426,
          426,
          862,
          406,
          862,
          426,
          862,
          862,
          234,
          862,
          406,
          862,
          862,
          253,
          862,
          190,
          406,
          406,
          190,
          862,
          253,
          862,
          311,
          862,
          862,
          426,
          253,
          253,
          862,
          406,
          862,
          406,
          862,
          325,
          234,
          190,
          234,
          862,
          426,
          406,
          426,
          406,
          234,
          426,
          253,
          426,
          253,
          253,
          426,
          406,
          426,
          862,
          862,
          406,
          253,
          253,
          253,
          862,
          190,
          406,
          406,
          426,
          862,
          234,
          253,
          862,
          190,
          406,
          406,
          253,
          426,
          406,
          234,
          406,
          862,
          862,
          426,
          426,
          862,
          862,
          253,
          426,
          862,
          862,
          862,
          190,
          862,
          862,
          426,
          862,
          426,
          369,
          406,
          406,
          406,
          862,
          862,
          314,
          406,
          862,
          325,
          862,
          253,
          253,
          426,
          862,
          862,
          406,
          862,
          862,
          862,
          862,
          426,
          406,
          862,
          862,
          862,
          190,
          426,
          406,
          862,
          234,
          426,
          406,
          862,
          234,
          862,
          862,
          426,
          862,
          369,
          406,
          426,
          253,
          253,
          426,
          406,
          862,
          862,
          253,
          406,
          862,
          426,
          862,
          426,
          253,
          862,
          253,
          314,
          426,
          406,
          862,
          862,
          406,
          314,
          311,
          190,
          862,
          426,
          862,
          253,
          253,
          234,
          406,
          253,
          406,
          862,
          406,
          862,
          406,
          234,
          253,
          369,
          234,
          253,
          426,
          862,
          862,
          426,
          406,
          426,
          862,
          426,
          234,
          253,
          862,
          406,
          406,
          190,
          234,
          234,
          862,
          862,
          426,
          406,
          253,
          253,
          406,
          190,
          862,
          862,
          190,
          253,
          234,
          862,
          426,
          862,
          426,
          426,
          862,
          253,
          862,
          862,
          862,
          426,
          369,
          311,
          190,
          253,
          253,
          862,
          862,
          426,
          406,
          406,
          253,
          862,
          406,
          862,
          862,
          862,
          862,
          862,
          862,
          234,
          234,
          234,
          190,
          253,
          311,
          862,
          426,
          862,
          426,
          234,
          426,
          426,
          862,
          862,
          862,
          253,
          426,
          406,
          426,
          426,
          234,
          234,
          862,
          862,
          426,
          862,
          862,
          862,
          862,
          862,
          314,
          406,
          406,
          314,
          406,
          406,
          406,
          406,
          862,
          862,
          406,
          406,
          426,
          406,
          190,
          862,
          190,
          234,
          234,
          190,
          862,
          406,
          234,
          862,
          406,
          426,
          369,
          234,
          426,
          862,
          253,
          426,
          234,
          406,
          862,
          426,
          234,
          406,
          426,
          190,
          406,
          426,
          311,
          426,
          406,
          426,
          862,
          862,
          253,
          234
         ],
         "yaxis": "y"
        },
        {
         "alignmentgroup": "True",
         "hovertemplate": "sentiment=positive<br>rating=%{x}<br>count=%{y}<extra></extra>",
         "legendgroup": "positive",
         "marker": {
          "color": "#1ECBE1",
          "line": {
           "width": 0
          },
          "pattern": {
           "shape": ""
          }
         },
         "name": "positive",
         "offsetgroup": "positive",
         "orientation": "v",
         "showlegend": true,
         "textposition": "auto",
         "type": "bar",
         "x": [
          8,
          6,
          8,
          7,
          8,
          3,
          4,
          1,
          5,
          5,
          10,
          1,
          2,
          1,
          6,
          8,
          8,
          8,
          2,
          1,
          8,
          7,
          8,
          10,
          10,
          1,
          9,
          1,
          8,
          2,
          2,
          1,
          9,
          4,
          4,
          3,
          3,
          10,
          1,
          7,
          7,
          1,
          3,
          1,
          9,
          9,
          1,
          10,
          10,
          4,
          3,
          3,
          2,
          5,
          1,
          10,
          4,
          9,
          7,
          9,
          10,
          1,
          8,
          1,
          7,
          8,
          10,
          8,
          6,
          7,
          1,
          4,
          5,
          8,
          9,
          10,
          10,
          10,
          9,
          9,
          9,
          2,
          9,
          1,
          3,
          5,
          1,
          2,
          8,
          6,
          4,
          8,
          3,
          2,
          6,
          8,
          6,
          9,
          2,
          7,
          7,
          2,
          5,
          1,
          1,
          9,
          9,
          3,
          9,
          8,
          7,
          8,
          9,
          1,
          10,
          3,
          6,
          8,
          3,
          9,
          10,
          10,
          4,
          5,
          7,
          10,
          9,
          10,
          10,
          8,
          8,
          1,
          1,
          7,
          10,
          8,
          1,
          4,
          1,
          1,
          1,
          1,
          1,
          1,
          5,
          1,
          8,
          5,
          10,
          10,
          10,
          9,
          2,
          1,
          8,
          3,
          10,
          1,
          10,
          8,
          10,
          1,
          9,
          1,
          1,
          7,
          10,
          3,
          9,
          9,
          8,
          7,
          5,
          9,
          4,
          2,
          3,
          4,
          6,
          1,
          5,
          5,
          9,
          10,
          10,
          10,
          10,
          8,
          8,
          10,
          1,
          1,
          3,
          7,
          9,
          9,
          3,
          9,
          9,
          6,
          2,
          4,
          8,
          5,
          4,
          10,
          6,
          10,
          9,
          8,
          8,
          10,
          6,
          10,
          7,
          9,
          8,
          2,
          8,
          2,
          5,
          10,
          8,
          6,
          8,
          7,
          1,
          8,
          9,
          9,
          9,
          8,
          5,
          10,
          4,
          1,
          9,
          10,
          7,
          9,
          10,
          5,
          10,
          2,
          10,
          2,
          8,
          1,
          10,
          8,
          1,
          7,
          1,
          3,
          10,
          1,
          1,
          1,
          2,
          8,
          9,
          9,
          8,
          10,
          9,
          8,
          3,
          7,
          3,
          8,
          10,
          8,
          5,
          6,
          7,
          9,
          1,
          9,
          8,
          3,
          7,
          8,
          7,
          9,
          10,
          3,
          10,
          5,
          9,
          6,
          9,
          7,
          10,
          1,
          1,
          1,
          4,
          1,
          9,
          9,
          8,
          9,
          8,
          8,
          3,
          5,
          4,
          7,
          10,
          1,
          9,
          1,
          10,
          2,
          2,
          9,
          9,
          10,
          10,
          9,
          10,
          1,
          4,
          8,
          9,
          1,
          3,
          10,
          10,
          1,
          10,
          2,
          2,
          10,
          8,
          5,
          8,
          9,
          9,
          10,
          10,
          8,
          6,
          10,
          8,
          7,
          1,
          4,
          9,
          1,
          10,
          8,
          7,
          9,
          9,
          3,
          5,
          10,
          9,
          8,
          8,
          4,
          2,
          10,
          10,
          9,
          10,
          5,
          10,
          9,
          6,
          10,
          1,
          1,
          3,
          8,
          9,
          6,
          3,
          2,
          5,
          6,
          8,
          5,
          10,
          9,
          8,
          2,
          7,
          1,
          9,
          2,
          10,
          10,
          1,
          7,
          10,
          10,
          10,
          6,
          8,
          1,
          5,
          5,
          6,
          7,
          3,
          5,
          10,
          6,
          8,
          10,
          9,
          10,
          9,
          7,
          4,
          3,
          3,
          4,
          10,
          8,
          6,
          7,
          8,
          1,
          9,
          8,
          10,
          1,
          9,
          10,
          10,
          8,
          9,
          7,
          4,
          10,
          5,
          6,
          9,
          6,
          10,
          3,
          1,
          10,
          7,
          10,
          2,
          7,
          8,
          6,
          1,
          2,
          9,
          9,
          2,
          10,
          9,
          5,
          10,
          3,
          1,
          10,
          8,
          10,
          8,
          10,
          3,
          9,
          7,
          9,
          10,
          2,
          1,
          7,
          6,
          7,
          4,
          6,
          7,
          8,
          9,
          2,
          1,
          10,
          7,
          5,
          10,
          6,
          5,
          3,
          10,
          7,
          10,
          8,
          7,
          6,
          10,
          4,
          8,
          2,
          6,
          2,
          1,
          10,
          10,
          7,
          3,
          9,
          9,
          7,
          1,
          8,
          5,
          3,
          7,
          4,
          1,
          9,
          9,
          3,
          8,
          4,
          9,
          2,
          3,
          8,
          4,
          1,
          2,
          10,
          9,
          1,
          6,
          7,
          1,
          2,
          10,
          7,
          6,
          9,
          1,
          8,
          4,
          7,
          10,
          1,
          4,
          7,
          10,
          10,
          5,
          8,
          7,
          10,
          7,
          7,
          7,
          5,
          8,
          4,
          1,
          8,
          8,
          7,
          8,
          4,
          1,
          8,
          7,
          7,
          6,
          9,
          7,
          8,
          2,
          7,
          10,
          1,
          5,
          1,
          8,
          6,
          7,
          4,
          10,
          3,
          10,
          4,
          7,
          2,
          8,
          10,
          8,
          10,
          6,
          2,
          10,
          9,
          2,
          4,
          4,
          7,
          7,
          5,
          3,
          8,
          5,
          5,
          7,
          9,
          8,
          5,
          8,
          7,
          8,
          3,
          2,
          8,
          1,
          9,
          4,
          3,
          2,
          1,
          4,
          10,
          2,
          6,
          7,
          10,
          7,
          7,
          1,
          4,
          7,
          3,
          10,
          10,
          3,
          7,
          5,
          7,
          3,
          7,
          2,
          5,
          6,
          8,
          1,
          3,
          4,
          7,
          2,
          2,
          3,
          6,
          8,
          8,
          10,
          7,
          2,
          2,
          8,
          7,
          2,
          8,
          5,
          5,
          8,
          10,
          9,
          5,
          8,
          8,
          2,
          10,
          9,
          1,
          8,
          9,
          7,
          3,
          1,
          1,
          9,
          8,
          8,
          8,
          3,
          2,
          3,
          3,
          8,
          9,
          10,
          2,
          5,
          1,
          3,
          1,
          9,
          5,
          7,
          7,
          6,
          5,
          2,
          1,
          8,
          3,
          3,
          6,
          6,
          5,
          8,
          2,
          1,
          6,
          3,
          1,
          5,
          8,
          2,
          3,
          5,
          8,
          7,
          3,
          3,
          4,
          7,
          5,
          2,
          9,
          7,
          2,
          7,
          10,
          10,
          1,
          2,
          8,
          1,
          4,
          5,
          10,
          6,
          2,
          7,
          6,
          6,
          3,
          9,
          7,
          7,
          9,
          10,
          8,
          6,
          3,
          6,
          9,
          8,
          8,
          8,
          9,
          8,
          6,
          5,
          7,
          8,
          9,
          3,
          7,
          3,
          10,
          2,
          5,
          1,
          9,
          3,
          3,
          10,
          3,
          2,
          2,
          8,
          1,
          10,
          2,
          7,
          1,
          1,
          5,
          3,
          1,
          7,
          5,
          5,
          9,
          2,
          8,
          8,
          8,
          5,
          6,
          1,
          7,
          2,
          5,
          6,
          1,
          10,
          2,
          1,
          4,
          2,
          5,
          8,
          7,
          4,
          3,
          7,
          2,
          2,
          8,
          6,
          8,
          1,
          3,
          3,
          6,
          3,
          9,
          10,
          2,
          2,
          1,
          3,
          3,
          2,
          6,
          5,
          4,
          9,
          6,
          4,
          8,
          9,
          3,
          2,
          10,
          1,
          8,
          6,
          6,
          1,
          9,
          7,
          7,
          7,
          10,
          8,
          7,
          2,
          7,
          8,
          8,
          1,
          9,
          6,
          7,
          10,
          2,
          3,
          9,
          7,
          5,
          1,
          3,
          5,
          1,
          2,
          5,
          10,
          2,
          9,
          10,
          2,
          4,
          1,
          1,
          8,
          1,
          1,
          1,
          5,
          2,
          6,
          7,
          10,
          3,
          4,
          3,
          5,
          6,
          3,
          3,
          4,
          2,
          1,
          3,
          9,
          4,
          5,
          1,
          3,
          1,
          5,
          5,
          5,
          7,
          3,
          7,
          10,
          4,
          9,
          10,
          2,
          4,
          6,
          2,
          7,
          7,
          1,
          8,
          5,
          7,
          7,
          3,
          9,
          1,
          3,
          1,
          9,
          8,
          8,
          8,
          8,
          9,
          3,
          8,
          2,
          8,
          2,
          10,
          7,
          3,
          9,
          2,
          5,
          6,
          8,
          7,
          2,
          1,
          10,
          2,
          2,
          1,
          7,
          4,
          3,
          2,
          1,
          8,
          8,
          10,
          2,
          9,
          5,
          5,
          1,
          10,
          7,
          9,
          7,
          5,
          7,
          1,
          2,
          9,
          3,
          6,
          9,
          4,
          4,
          8,
          10,
          6,
          9,
          9,
          2,
          7,
          2,
          7,
          4,
          8,
          6,
          3,
          3,
          1,
          9,
          8,
          7,
          10,
          9,
          9,
          7,
          7,
          6,
          5,
          10,
          2,
          8,
          8,
          9,
          1,
          5,
          1,
          3,
          9,
          9,
          3,
          10,
          3,
          9,
          8,
          9,
          3,
          3,
          10,
          2,
          9,
          2,
          7,
          3,
          6,
          4,
          9,
          9,
          2,
          3,
          2,
          10,
          9,
          7,
          9,
          10,
          10,
          6,
          3,
          4,
          8,
          1,
          8,
          1,
          3,
          4,
          3,
          2,
          1,
          3,
          10,
          7,
          2,
          4,
          5,
          8,
          9,
          4,
          7,
          5,
          7,
          3,
          2,
          9,
          5,
          8,
          8,
          8,
          7,
          5,
          8,
          9,
          8,
          1,
          3,
          5,
          8,
          1,
          3,
          6,
          4,
          2,
          8,
          5,
          3,
          8,
          6,
          4,
          8,
          9,
          6,
          7,
          3,
          5,
          8,
          10,
          6,
          4,
          7,
          5,
          3,
          4,
          9,
          7,
          3,
          8,
          10,
          7,
          10,
          8,
          7,
          8,
          6,
          7,
          8,
          8,
          10,
          5,
          1,
          1,
          4,
          10,
          10,
          7,
          7,
          1,
          4,
          1,
          9,
          8,
          8,
          8,
          9,
          1,
          3,
          3,
          10,
          8,
          10,
          1,
          5,
          3,
          10,
          8,
          4,
          7,
          10,
          8,
          8,
          4,
          10,
          4,
          5,
          9,
          3,
          8,
          8,
          8,
          9,
          7,
          5,
          2,
          10,
          8,
          10,
          6,
          5,
          8,
          7,
          8,
          5,
          2,
          7,
          3,
          9,
          1,
          1,
          8,
          5,
          5,
          3,
          10,
          2,
          9,
          3,
          7,
          8,
          7,
          7,
          10,
          5,
          1,
          7,
          9,
          10,
          10,
          4,
          6,
          2,
          4,
          3,
          10,
          8,
          8,
          8,
          7,
          8,
          10,
          8,
          9,
          8,
          5,
          7,
          10,
          5,
          8,
          9,
          10,
          3,
          4,
          7,
          7,
          7,
          8,
          3,
          8,
          7,
          7,
          5,
          10,
          10,
          3,
          6,
          3,
          9,
          7,
          9,
          10,
          1,
          10,
          5,
          8,
          4,
          10,
          3,
          9,
          5,
          8,
          1,
          8,
          8,
          8,
          4,
          7,
          9,
          9,
          8,
          7,
          5,
          4,
          8,
          9,
          7,
          3,
          8,
          9,
          9,
          2,
          8,
          3,
          8,
          9,
          7,
          3,
          8,
          8,
          8,
          9,
          8,
          4,
          8,
          10,
          8,
          8,
          10,
          7,
          2,
          7,
          7,
          4,
          3,
          10,
          10,
          1,
          6,
          7,
          8,
          2,
          8,
          4,
          8,
          2,
          8,
          2,
          7,
          8,
          7,
          8,
          6,
          3,
          8,
          7,
          9,
          1,
          2,
          6,
          8,
          9,
          5,
          7,
          4,
          10,
          5,
          4,
          3,
          9,
          9,
          1,
          9,
          9,
          7,
          7,
          5,
          9,
          10,
          10,
          10,
          9,
          7,
          10,
          2,
          3,
          10,
          10,
          8,
          6,
          9,
          9,
          3,
          9,
          7,
          10,
          8,
          7,
          3,
          8,
          6,
          2,
          5,
          6,
          8,
          9,
          4,
          4,
          7,
          8,
          8,
          8,
          1,
          5,
          7,
          7,
          8,
          6,
          6,
          3,
          7,
          8,
          8,
          8,
          10,
          5,
          3,
          3,
          5,
          5,
          3,
          3,
          9,
          7,
          5,
          7,
          9,
          3,
          1,
          8,
          1,
          10,
          10,
          4,
          5,
          9,
          6,
          3,
          9,
          3,
          5,
          3,
          7,
          9,
          6,
          9,
          8,
          7,
          10,
          9,
          2,
          7,
          1,
          5,
          5,
          8,
          9,
          3,
          8,
          3,
          7,
          5,
          8,
          9,
          1,
          3,
          9,
          6,
          9,
          7,
          9,
          6,
          7,
          6,
          8,
          5,
          7,
          2,
          9,
          6,
          8,
          4,
          9,
          3,
          8,
          6,
          5,
          8,
          4,
          8,
          7,
          7,
          8,
          10,
          5,
          8,
          10,
          10,
          1,
          7,
          3,
          9,
          8,
          4,
          8,
          9,
          10,
          7,
          8,
          7,
          4,
          9,
          1,
          9,
          7,
          3,
          6,
          9,
          7,
          5,
          6,
          3,
          7,
          10,
          10,
          5,
          3,
          5,
          8,
          4,
          6,
          8,
          1,
          2,
          8,
          6,
          8,
          8,
          10,
          8,
          3,
          3,
          9,
          3,
          10,
          10,
          9,
          1,
          7,
          1,
          9,
          10,
          8,
          7,
          4,
          9,
          9,
          7,
          9,
          3,
          7,
          8,
          1,
          2,
          6,
          8,
          3,
          3,
          4,
          7,
          3,
          3,
          2,
          4,
          7,
          1,
          10,
          10,
          9,
          7,
          8,
          4,
          3,
          3,
          7,
          7,
          7,
          8,
          3,
          6,
          8,
          5,
          10,
          10,
          4,
          1,
          8,
          3,
          9,
          8,
          4,
          8,
          9,
          9,
          7,
          3,
          1,
          10,
          1,
          10,
          6,
          8,
          3,
          8,
          3,
          8,
          8,
          7,
          8,
          7,
          10,
          9,
          1,
          6,
          6,
          10,
          9,
          6,
          9,
          8,
          9,
          9,
          10,
          5,
          8,
          8,
          7,
          5,
          7,
          8,
          4,
          8,
          7,
          2,
          4,
          8,
          7,
          7,
          10,
          2,
          8,
          10,
          9,
          9,
          8,
          7,
          9,
          8,
          9,
          8,
          8,
          10,
          8,
          10,
          10,
          8,
          10,
          1,
          7,
          2,
          10,
          8,
          5,
          2,
          10,
          9,
          10,
          9,
          9,
          10,
          9,
          10,
          7,
          10,
          10,
          9,
          10,
          9,
          7,
          9,
          10,
          2,
          9,
          10,
          9,
          10,
          10,
          9,
          3,
          9,
          7,
          9,
          8,
          9,
          10,
          7,
          2,
          3,
          10,
          6,
          8,
          7,
          5,
          8,
          10,
          2,
          7,
          7,
          7,
          6,
          3,
          3,
          10,
          7,
          7,
          9,
          1,
          8,
          9,
          10,
          7,
          5,
          9,
          2,
          9,
          4,
          10,
          10,
          6,
          8,
          8,
          9,
          1,
          7,
          7,
          5,
          7,
          5,
          9,
          10,
          7,
          9,
          10,
          7,
          7,
          5,
          6,
          3,
          8,
          2,
          2,
          6,
          9,
          1,
          5,
          3,
          8,
          9,
          9,
          7,
          10,
          8,
          4,
          5,
          7,
          10,
          9,
          2,
          9,
          10,
          6,
          4,
          10,
          10,
          7,
          4,
          8,
          1,
          6,
          8,
          2,
          7,
          8,
          9,
          9,
          7,
          10,
          9,
          10,
          8,
          2,
          2,
          8,
          8,
          5,
          7,
          6,
          7,
          8,
          2,
          10,
          10,
          6,
          8,
          6,
          8,
          8,
          7,
          10,
          10,
          6,
          8,
          10,
          10,
          10,
          7,
          7,
          9,
          2,
          2,
          9,
          5,
          3,
          3,
          10,
          7,
          8,
          4,
          3,
          9,
          2,
          6,
          5,
          9,
          5,
          3,
          7,
          1,
          7,
          8,
          6,
          10,
          8,
          3,
          6,
          10,
          10,
          10,
          10,
          7,
          8,
          2,
          3,
          9,
          10,
          10,
          7,
          9,
          8,
          7,
          9,
          5,
          5,
          10,
          10,
          4,
          3,
          5,
          8,
          1,
          8,
          10,
          6,
          10,
          1,
          10,
          7,
          9,
          9,
          9,
          5,
          10,
          7,
          4,
          9,
          10,
          9,
          8,
          10,
          6,
          5,
          6,
          9,
          8,
          6,
          3,
          2,
          9,
          6,
          9,
          9,
          10,
          10,
          9,
          8,
          5,
          4,
          8,
          8,
          3,
          3,
          8,
          6,
          7,
          9,
          3,
          9,
          2,
          1,
          7,
          1,
          9,
          9,
          9,
          4,
          8,
          10,
          9,
          10,
          3,
          10,
          10,
          8,
          3,
          4,
          9,
          8,
          1,
          10,
          8,
          2,
          4,
          9,
          9,
          7,
          1,
          8,
          2,
          10,
          1,
          3,
          7,
          8,
          10,
          1,
          7,
          6,
          8,
          9,
          8,
          7,
          9,
          10,
          9,
          9,
          1,
          9,
          9,
          1,
          7,
          7,
          5,
          7,
          9,
          8,
          9,
          8,
          8,
          2,
          9,
          10,
          10,
          9,
          1,
          1,
          7,
          10,
          9,
          1,
          7,
          5,
          7,
          8,
          1,
          7,
          2,
          9,
          4,
          8,
          4,
          9,
          6,
          5,
          6,
          6,
          1,
          10,
          2,
          10,
          9,
          7,
          4,
          10,
          10,
          8,
          9,
          8,
          4,
          9,
          7,
          1,
          7,
          8,
          5,
          1,
          6,
          7,
          10,
          8,
          10,
          9,
          4,
          9,
          8,
          8,
          1,
          9,
          10,
          6,
          10,
          8,
          7,
          10,
          5,
          8,
          4,
          7,
          7,
          10,
          9,
          9,
          4,
          8,
          8,
          2,
          3,
          9,
          6,
          7,
          9,
          8,
          9,
          6,
          7,
          8,
          10,
          8,
          9,
          10,
          7,
          7,
          8,
          7,
          5,
          10,
          8,
          4,
          2,
          7,
          10,
          8,
          9,
          7,
          5,
          7,
          10,
          7,
          5,
          4,
          2,
          2,
          9,
          10,
          7,
          5,
          1,
          10,
          6,
          1,
          5,
          10,
          7,
          9,
          9,
          10,
          10,
          10,
          10,
          8,
          1,
          9,
          7,
          10,
          5,
          9,
          10,
          6,
          7,
          1,
          5,
          10,
          10,
          9,
          6,
          9,
          10,
          7,
          2,
          9,
          8,
          4,
          9,
          8,
          7,
          5,
          10,
          6,
          5,
          7,
          6,
          8,
          6,
          9,
          6,
          10,
          10,
          2,
          7,
          10,
          1,
          9,
          8,
          7,
          1,
          10,
          10,
          8,
          9,
          8,
          10,
          9,
          8,
          7,
          5,
          6,
          7,
          10,
          10,
          2,
          8,
          8,
          4,
          4,
          6,
          8,
          10,
          7,
          4,
          1,
          9,
          5,
          4
         ],
         "xaxis": "x",
         "y": [
          369,
          190,
          369,
          314,
          369,
          406,
          253,
          862,
          234,
          234,
          325,
          862,
          426,
          862,
          190,
          369,
          369,
          369,
          426,
          862,
          369,
          314,
          369,
          325,
          325,
          862,
          311,
          862,
          369,
          426,
          426,
          862,
          311,
          253,
          253,
          406,
          406,
          325,
          862,
          314,
          314,
          862,
          406,
          862,
          311,
          311,
          862,
          325,
          325,
          253,
          406,
          406,
          426,
          234,
          862,
          325,
          253,
          311,
          314,
          311,
          325,
          862,
          369,
          862,
          314,
          369,
          325,
          369,
          190,
          314,
          862,
          253,
          234,
          369,
          311,
          325,
          325,
          325,
          311,
          311,
          311,
          426,
          311,
          862,
          406,
          234,
          862,
          426,
          369,
          190,
          253,
          369,
          406,
          426,
          190,
          369,
          190,
          311,
          426,
          314,
          314,
          426,
          234,
          862,
          862,
          311,
          311,
          406,
          311,
          369,
          314,
          369,
          311,
          862,
          325,
          406,
          190,
          369,
          406,
          311,
          325,
          325,
          253,
          234,
          314,
          325,
          311,
          325,
          325,
          369,
          369,
          862,
          862,
          314,
          325,
          369,
          862,
          253,
          862,
          862,
          862,
          862,
          862,
          862,
          234,
          862,
          369,
          234,
          325,
          325,
          325,
          311,
          426,
          862,
          369,
          406,
          325,
          862,
          325,
          369,
          325,
          862,
          311,
          862,
          862,
          314,
          325,
          406,
          311,
          311,
          369,
          314,
          234,
          311,
          253,
          426,
          406,
          253,
          190,
          862,
          234,
          234,
          311,
          325,
          325,
          325,
          325,
          369,
          369,
          325,
          862,
          862,
          406,
          314,
          311,
          311,
          406,
          311,
          311,
          190,
          426,
          253,
          369,
          234,
          253,
          325,
          190,
          325,
          311,
          369,
          369,
          325,
          190,
          325,
          314,
          311,
          369,
          426,
          369,
          426,
          234,
          325,
          369,
          190,
          369,
          314,
          862,
          369,
          311,
          311,
          311,
          369,
          234,
          325,
          253,
          862,
          311,
          325,
          314,
          311,
          325,
          234,
          325,
          426,
          325,
          426,
          369,
          862,
          325,
          369,
          862,
          314,
          862,
          406,
          325,
          862,
          862,
          862,
          426,
          369,
          311,
          311,
          369,
          325,
          311,
          369,
          406,
          314,
          406,
          369,
          325,
          369,
          234,
          190,
          314,
          311,
          862,
          311,
          369,
          406,
          314,
          369,
          314,
          311,
          325,
          406,
          325,
          234,
          311,
          190,
          311,
          314,
          325,
          862,
          862,
          862,
          253,
          862,
          311,
          311,
          369,
          311,
          369,
          369,
          406,
          234,
          253,
          314,
          325,
          862,
          311,
          862,
          325,
          426,
          426,
          311,
          311,
          325,
          325,
          311,
          325,
          862,
          253,
          369,
          311,
          862,
          406,
          325,
          325,
          862,
          325,
          426,
          426,
          325,
          369,
          234,
          369,
          311,
          311,
          325,
          325,
          369,
          190,
          325,
          369,
          314,
          862,
          253,
          311,
          862,
          325,
          369,
          314,
          311,
          311,
          406,
          234,
          325,
          311,
          369,
          369,
          253,
          426,
          325,
          325,
          311,
          325,
          234,
          325,
          311,
          190,
          325,
          862,
          862,
          406,
          369,
          311,
          190,
          406,
          426,
          234,
          190,
          369,
          234,
          325,
          311,
          369,
          426,
          314,
          862,
          311,
          426,
          325,
          325,
          862,
          314,
          325,
          325,
          325,
          190,
          369,
          862,
          234,
          234,
          190,
          314,
          406,
          234,
          325,
          190,
          369,
          325,
          311,
          325,
          311,
          314,
          253,
          406,
          406,
          253,
          325,
          369,
          190,
          314,
          369,
          862,
          311,
          369,
          325,
          862,
          311,
          325,
          325,
          369,
          311,
          314,
          253,
          325,
          234,
          190,
          311,
          190,
          325,
          406,
          862,
          325,
          314,
          325,
          426,
          314,
          369,
          190,
          862,
          426,
          311,
          311,
          426,
          325,
          311,
          234,
          325,
          406,
          862,
          325,
          369,
          325,
          369,
          325,
          406,
          311,
          314,
          311,
          325,
          426,
          862,
          314,
          190,
          314,
          253,
          190,
          314,
          369,
          311,
          426,
          862,
          325,
          314,
          234,
          325,
          190,
          234,
          406,
          325,
          314,
          325,
          369,
          314,
          190,
          325,
          253,
          369,
          426,
          190,
          426,
          862,
          325,
          325,
          314,
          406,
          311,
          311,
          314,
          862,
          369,
          234,
          406,
          314,
          253,
          862,
          311,
          311,
          406,
          369,
          253,
          311,
          426,
          406,
          369,
          253,
          862,
          426,
          325,
          311,
          862,
          190,
          314,
          862,
          426,
          325,
          314,
          190,
          311,
          862,
          369,
          253,
          314,
          325,
          862,
          253,
          314,
          325,
          325,
          234,
          369,
          314,
          325,
          314,
          314,
          314,
          234,
          369,
          253,
          862,
          369,
          369,
          314,
          369,
          253,
          862,
          369,
          314,
          314,
          190,
          311,
          314,
          369,
          426,
          314,
          325,
          862,
          234,
          862,
          369,
          190,
          314,
          253,
          325,
          406,
          325,
          253,
          314,
          426,
          369,
          325,
          369,
          325,
          190,
          426,
          325,
          311,
          426,
          253,
          253,
          314,
          314,
          234,
          406,
          369,
          234,
          234,
          314,
          311,
          369,
          234,
          369,
          314,
          369,
          406,
          426,
          369,
          862,
          311,
          253,
          406,
          426,
          862,
          253,
          325,
          426,
          190,
          314,
          325,
          314,
          314,
          862,
          253,
          314,
          406,
          325,
          325,
          406,
          314,
          234,
          314,
          406,
          314,
          426,
          234,
          190,
          369,
          862,
          406,
          253,
          314,
          426,
          426,
          406,
          190,
          369,
          369,
          325,
          314,
          426,
          426,
          369,
          314,
          426,
          369,
          234,
          234,
          369,
          325,
          311,
          234,
          369,
          369,
          426,
          325,
          311,
          862,
          369,
          311,
          314,
          406,
          862,
          862,
          311,
          369,
          369,
          369,
          406,
          426,
          406,
          406,
          369,
          311,
          325,
          426,
          234,
          862,
          406,
          862,
          311,
          234,
          314,
          314,
          190,
          234,
          426,
          862,
          369,
          406,
          406,
          190,
          190,
          234,
          369,
          426,
          862,
          190,
          406,
          862,
          234,
          369,
          426,
          406,
          234,
          369,
          314,
          406,
          406,
          253,
          314,
          234,
          426,
          311,
          314,
          426,
          314,
          325,
          325,
          862,
          426,
          369,
          862,
          253,
          234,
          325,
          190,
          426,
          314,
          190,
          190,
          406,
          311,
          314,
          314,
          311,
          325,
          369,
          190,
          406,
          190,
          311,
          369,
          369,
          369,
          311,
          369,
          190,
          234,
          314,
          369,
          311,
          406,
          314,
          406,
          325,
          426,
          234,
          862,
          311,
          406,
          406,
          325,
          406,
          426,
          426,
          369,
          862,
          325,
          426,
          314,
          862,
          862,
          234,
          406,
          862,
          314,
          234,
          234,
          311,
          426,
          369,
          369,
          369,
          234,
          190,
          862,
          314,
          426,
          234,
          190,
          862,
          325,
          426,
          862,
          253,
          426,
          234,
          369,
          314,
          253,
          406,
          314,
          426,
          426,
          369,
          190,
          369,
          862,
          406,
          406,
          190,
          406,
          311,
          325,
          426,
          426,
          862,
          406,
          406,
          426,
          190,
          234,
          253,
          311,
          190,
          253,
          369,
          311,
          406,
          426,
          325,
          862,
          369,
          190,
          190,
          862,
          311,
          314,
          314,
          314,
          325,
          369,
          314,
          426,
          314,
          369,
          369,
          862,
          311,
          190,
          314,
          325,
          426,
          406,
          311,
          314,
          234,
          862,
          406,
          234,
          862,
          426,
          234,
          325,
          426,
          311,
          325,
          426,
          253,
          862,
          862,
          369,
          862,
          862,
          862,
          234,
          426,
          190,
          314,
          325,
          406,
          253,
          406,
          234,
          190,
          406,
          406,
          253,
          426,
          862,
          406,
          311,
          253,
          234,
          862,
          406,
          862,
          234,
          234,
          234,
          314,
          406,
          314,
          325,
          253,
          311,
          325,
          426,
          253,
          190,
          426,
          314,
          314,
          862,
          369,
          234,
          314,
          314,
          406,
          311,
          862,
          406,
          862,
          311,
          369,
          369,
          369,
          369,
          311,
          406,
          369,
          426,
          369,
          426,
          325,
          314,
          406,
          311,
          426,
          234,
          190,
          369,
          314,
          426,
          862,
          325,
          426,
          426,
          862,
          314,
          253,
          406,
          426,
          862,
          369,
          369,
          325,
          426,
          311,
          234,
          234,
          862,
          325,
          314,
          311,
          314,
          234,
          314,
          862,
          426,
          311,
          406,
          190,
          311,
          253,
          253,
          369,
          325,
          190,
          311,
          311,
          426,
          314,
          426,
          314,
          253,
          369,
          190,
          406,
          406,
          862,
          311,
          369,
          314,
          325,
          311,
          311,
          314,
          314,
          190,
          234,
          325,
          426,
          369,
          369,
          311,
          862,
          234,
          862,
          406,
          311,
          311,
          406,
          325,
          406,
          311,
          369,
          311,
          406,
          406,
          325,
          426,
          311,
          426,
          314,
          406,
          190,
          253,
          311,
          311,
          426,
          406,
          426,
          325,
          311,
          314,
          311,
          325,
          325,
          190,
          406,
          253,
          369,
          862,
          369,
          862,
          406,
          253,
          406,
          426,
          862,
          406,
          325,
          314,
          426,
          253,
          234,
          369,
          311,
          253,
          314,
          234,
          314,
          406,
          426,
          311,
          234,
          369,
          369,
          369,
          314,
          234,
          369,
          311,
          369,
          862,
          406,
          234,
          369,
          862,
          406,
          190,
          253,
          426,
          369,
          234,
          406,
          369,
          190,
          253,
          369,
          311,
          190,
          314,
          406,
          234,
          369,
          325,
          190,
          253,
          314,
          234,
          406,
          253,
          311,
          314,
          406,
          369,
          325,
          314,
          325,
          369,
          314,
          369,
          190,
          314,
          369,
          369,
          325,
          234,
          862,
          862,
          253,
          325,
          325,
          314,
          314,
          862,
          253,
          862,
          311,
          369,
          369,
          369,
          311,
          862,
          406,
          406,
          325,
          369,
          325,
          862,
          234,
          406,
          325,
          369,
          253,
          314,
          325,
          369,
          369,
          253,
          325,
          253,
          234,
          311,
          406,
          369,
          369,
          369,
          311,
          314,
          234,
          426,
          325,
          369,
          325,
          190,
          234,
          369,
          314,
          369,
          234,
          426,
          314,
          406,
          311,
          862,
          862,
          369,
          234,
          234,
          406,
          325,
          426,
          311,
          406,
          314,
          369,
          314,
          314,
          325,
          234,
          862,
          314,
          311,
          325,
          325,
          253,
          190,
          426,
          253,
          406,
          325,
          369,
          369,
          369,
          314,
          369,
          325,
          369,
          311,
          369,
          234,
          314,
          325,
          234,
          369,
          311,
          325,
          406,
          253,
          314,
          314,
          314,
          369,
          406,
          369,
          314,
          314,
          234,
          325,
          325,
          406,
          190,
          406,
          311,
          314,
          311,
          325,
          862,
          325,
          234,
          369,
          253,
          325,
          406,
          311,
          234,
          369,
          862,
          369,
          369,
          369,
          253,
          314,
          311,
          311,
          369,
          314,
          234,
          253,
          369,
          311,
          314,
          406,
          369,
          311,
          311,
          426,
          369,
          406,
          369,
          311,
          314,
          406,
          369,
          369,
          369,
          311,
          369,
          253,
          369,
          325,
          369,
          369,
          325,
          314,
          426,
          314,
          314,
          253,
          406,
          325,
          325,
          862,
          190,
          314,
          369,
          426,
          369,
          253,
          369,
          426,
          369,
          426,
          314,
          369,
          314,
          369,
          190,
          406,
          369,
          314,
          311,
          862,
          426,
          190,
          369,
          311,
          234,
          314,
          253,
          325,
          234,
          253,
          406,
          311,
          311,
          862,
          311,
          311,
          314,
          314,
          234,
          311,
          325,
          325,
          325,
          311,
          314,
          325,
          426,
          406,
          325,
          325,
          369,
          190,
          311,
          311,
          406,
          311,
          314,
          325,
          369,
          314,
          406,
          369,
          190,
          426,
          234,
          190,
          369,
          311,
          253,
          253,
          314,
          369,
          369,
          369,
          862,
          234,
          314,
          314,
          369,
          190,
          190,
          406,
          314,
          369,
          369,
          369,
          325,
          234,
          406,
          406,
          234,
          234,
          406,
          406,
          311,
          314,
          234,
          314,
          311,
          406,
          862,
          369,
          862,
          325,
          325,
          253,
          234,
          311,
          190,
          406,
          311,
          406,
          234,
          406,
          314,
          311,
          190,
          311,
          369,
          314,
          325,
          311,
          426,
          314,
          862,
          234,
          234,
          369,
          311,
          406,
          369,
          406,
          314,
          234,
          369,
          311,
          862,
          406,
          311,
          190,
          311,
          314,
          311,
          190,
          314,
          190,
          369,
          234,
          314,
          426,
          311,
          190,
          369,
          253,
          311,
          406,
          369,
          190,
          234,
          369,
          253,
          369,
          314,
          314,
          369,
          325,
          234,
          369,
          325,
          325,
          862,
          314,
          406,
          311,
          369,
          253,
          369,
          311,
          325,
          314,
          369,
          314,
          253,
          311,
          862,
          311,
          314,
          406,
          190,
          311,
          314,
          234,
          190,
          406,
          314,
          325,
          325,
          234,
          406,
          234,
          369,
          253,
          190,
          369,
          862,
          426,
          369,
          190,
          369,
          369,
          325,
          369,
          406,
          406,
          311,
          406,
          325,
          325,
          311,
          862,
          314,
          862,
          311,
          325,
          369,
          314,
          253,
          311,
          311,
          314,
          311,
          406,
          314,
          369,
          862,
          426,
          190,
          369,
          406,
          406,
          253,
          314,
          406,
          406,
          426,
          253,
          314,
          862,
          325,
          325,
          311,
          314,
          369,
          253,
          406,
          406,
          314,
          314,
          314,
          369,
          406,
          190,
          369,
          234,
          325,
          325,
          253,
          862,
          369,
          406,
          311,
          369,
          253,
          369,
          311,
          311,
          314,
          406,
          862,
          325,
          862,
          325,
          190,
          369,
          406,
          369,
          406,
          369,
          369,
          314,
          369,
          314,
          325,
          311,
          862,
          190,
          190,
          325,
          311,
          190,
          311,
          369,
          311,
          311,
          325,
          234,
          369,
          369,
          314,
          234,
          314,
          369,
          253,
          369,
          314,
          426,
          253,
          369,
          314,
          314,
          325,
          426,
          369,
          325,
          311,
          311,
          369,
          314,
          311,
          369,
          311,
          369,
          369,
          325,
          369,
          325,
          325,
          369,
          325,
          862,
          314,
          426,
          325,
          369,
          234,
          426,
          325,
          311,
          325,
          311,
          311,
          325,
          311,
          325,
          314,
          325,
          325,
          311,
          325,
          311,
          314,
          311,
          325,
          426,
          311,
          325,
          311,
          325,
          325,
          311,
          406,
          311,
          314,
          311,
          369,
          311,
          325,
          314,
          426,
          406,
          325,
          190,
          369,
          314,
          234,
          369,
          325,
          426,
          314,
          314,
          314,
          190,
          406,
          406,
          325,
          314,
          314,
          311,
          862,
          369,
          311,
          325,
          314,
          234,
          311,
          426,
          311,
          253,
          325,
          325,
          190,
          369,
          369,
          311,
          862,
          314,
          314,
          234,
          314,
          234,
          311,
          325,
          314,
          311,
          325,
          314,
          314,
          234,
          190,
          406,
          369,
          426,
          426,
          190,
          311,
          862,
          234,
          406,
          369,
          311,
          311,
          314,
          325,
          369,
          253,
          234,
          314,
          325,
          311,
          426,
          311,
          325,
          190,
          253,
          325,
          325,
          314,
          253,
          369,
          862,
          190,
          369,
          426,
          314,
          369,
          311,
          311,
          314,
          325,
          311,
          325,
          369,
          426,
          426,
          369,
          369,
          234,
          314,
          190,
          314,
          369,
          426,
          325,
          325,
          190,
          369,
          190,
          369,
          369,
          314,
          325,
          325,
          190,
          369,
          325,
          325,
          325,
          314,
          314,
          311,
          426,
          426,
          311,
          234,
          406,
          406,
          325,
          314,
          369,
          253,
          406,
          311,
          426,
          190,
          234,
          311,
          234,
          406,
          314,
          862,
          314,
          369,
          190,
          325,
          369,
          406,
          190,
          325,
          325,
          325,
          325,
          314,
          369,
          426,
          406,
          311,
          325,
          325,
          314,
          311,
          369,
          314,
          311,
          234,
          234,
          325,
          325,
          253,
          406,
          234,
          369,
          862,
          369,
          325,
          190,
          325,
          862,
          325,
          314,
          311,
          311,
          311,
          234,
          325,
          314,
          253,
          311,
          325,
          311,
          369,
          325,
          190,
          234,
          190,
          311,
          369,
          190,
          406,
          426,
          311,
          190,
          311,
          311,
          325,
          325,
          311,
          369,
          234,
          253,
          369,
          369,
          406,
          406,
          369,
          190,
          314,
          311,
          406,
          311,
          426,
          862,
          314,
          862,
          311,
          311,
          311,
          253,
          369,
          325,
          311,
          325,
          406,
          325,
          325,
          369,
          406,
          253,
          311,
          369,
          862,
          325,
          369,
          426,
          253,
          311,
          311,
          314,
          862,
          369,
          426,
          325,
          862,
          406,
          314,
          369,
          325,
          862,
          314,
          190,
          369,
          311,
          369,
          314,
          311,
          325,
          311,
          311,
          862,
          311,
          311,
          862,
          314,
          314,
          234,
          314,
          311,
          369,
          311,
          369,
          369,
          426,
          311,
          325,
          325,
          311,
          862,
          862,
          314,
          325,
          311,
          862,
          314,
          234,
          314,
          369,
          862,
          314,
          426,
          311,
          253,
          369,
          253,
          311,
          190,
          234,
          190,
          190,
          862,
          325,
          426,
          325,
          311,
          314,
          253,
          325,
          325,
          369,
          311,
          369,
          253,
          311,
          314,
          862,
          314,
          369,
          234,
          862,
          190,
          314,
          325,
          369,
          325,
          311,
          253,
          311,
          369,
          369,
          862,
          311,
          325,
          190,
          325,
          369,
          314,
          325,
          234,
          369,
          253,
          314,
          314,
          325,
          311,
          311,
          253,
          369,
          369,
          426,
          406,
          311,
          190,
          314,
          311,
          369,
          311,
          190,
          314,
          369,
          325,
          369,
          311,
          325,
          314,
          314,
          369,
          314,
          234,
          325,
          369,
          253,
          426,
          314,
          325,
          369,
          311,
          314,
          234,
          314,
          325,
          314,
          234,
          253,
          426,
          426,
          311,
          325,
          314,
          234,
          862,
          325,
          190,
          862,
          234,
          325,
          314,
          311,
          311,
          325,
          325,
          325,
          325,
          369,
          862,
          311,
          314,
          325,
          234,
          311,
          325,
          190,
          314,
          862,
          234,
          325,
          325,
          311,
          190,
          311,
          325,
          314,
          426,
          311,
          369,
          253,
          311,
          369,
          314,
          234,
          325,
          190,
          234,
          314,
          190,
          369,
          190,
          311,
          190,
          325,
          325,
          426,
          314,
          325,
          862,
          311,
          369,
          314,
          862,
          325,
          325,
          369,
          311,
          369,
          325,
          311,
          369,
          314,
          234,
          190,
          314,
          325,
          325,
          426,
          369,
          369,
          253,
          253,
          190,
          369,
          325,
          314,
          253,
          862,
          311,
          234,
          253
         ],
         "yaxis": "y"
        }
       ],
       "layout": {
        "barmode": "relative",
        "legend": {
         "title": {
          "text": "sentiment"
         },
         "tracegroupgap": 0
        },
        "margin": {
         "t": 60
        },
        "template": {
         "data": {
          "bar": [
           {
            "error_x": {
             "color": "#2a3f5f"
            },
            "error_y": {
             "color": "#2a3f5f"
            },
            "marker": {
             "line": {
              "color": "#E5ECF6",
              "width": 0.5
             },
             "pattern": {
              "fillmode": "overlay",
              "size": 10,
              "solidity": 0.2
             }
            },
            "type": "bar"
           }
          ],
          "barpolar": [
           {
            "marker": {
             "line": {
              "color": "#E5ECF6",
              "width": 0.5
             },
             "pattern": {
              "fillmode": "overlay",
              "size": 10,
              "solidity": 0.2
             }
            },
            "type": "barpolar"
           }
          ],
          "carpet": [
           {
            "aaxis": {
             "endlinecolor": "#2a3f5f",
             "gridcolor": "white",
             "linecolor": "white",
             "minorgridcolor": "white",
             "startlinecolor": "#2a3f5f"
            },
            "baxis": {
             "endlinecolor": "#2a3f5f",
             "gridcolor": "white",
             "linecolor": "white",
             "minorgridcolor": "white",
             "startlinecolor": "#2a3f5f"
            },
            "type": "carpet"
           }
          ],
          "choropleth": [
           {
            "colorbar": {
             "outlinewidth": 0,
             "ticks": ""
            },
            "type": "choropleth"
           }
          ],
          "contour": [
           {
            "colorbar": {
             "outlinewidth": 0,
             "ticks": ""
            },
            "colorscale": [
             [
              0,
              "#0d0887"
             ],
             [
              0.1111111111111111,
              "#46039f"
             ],
             [
              0.2222222222222222,
              "#7201a8"
             ],
             [
              0.3333333333333333,
              "#9c179e"
             ],
             [
              0.4444444444444444,
              "#bd3786"
             ],
             [
              0.5555555555555556,
              "#d8576b"
             ],
             [
              0.6666666666666666,
              "#ed7953"
             ],
             [
              0.7777777777777778,
              "#fb9f3a"
             ],
             [
              0.8888888888888888,
              "#fdca26"
             ],
             [
              1,
              "#f0f921"
             ]
            ],
            "type": "contour"
           }
          ],
          "contourcarpet": [
           {
            "colorbar": {
             "outlinewidth": 0,
             "ticks": ""
            },
            "type": "contourcarpet"
           }
          ],
          "heatmap": [
           {
            "colorbar": {
             "outlinewidth": 0,
             "ticks": ""
            },
            "colorscale": [
             [
              0,
              "#0d0887"
             ],
             [
              0.1111111111111111,
              "#46039f"
             ],
             [
              0.2222222222222222,
              "#7201a8"
             ],
             [
              0.3333333333333333,
              "#9c179e"
             ],
             [
              0.4444444444444444,
              "#bd3786"
             ],
             [
              0.5555555555555556,
              "#d8576b"
             ],
             [
              0.6666666666666666,
              "#ed7953"
             ],
             [
              0.7777777777777778,
              "#fb9f3a"
             ],
             [
              0.8888888888888888,
              "#fdca26"
             ],
             [
              1,
              "#f0f921"
             ]
            ],
            "type": "heatmap"
           }
          ],
          "heatmapgl": [
           {
            "colorbar": {
             "outlinewidth": 0,
             "ticks": ""
            },
            "colorscale": [
             [
              0,
              "#0d0887"
             ],
             [
              0.1111111111111111,
              "#46039f"
             ],
             [
              0.2222222222222222,
              "#7201a8"
             ],
             [
              0.3333333333333333,
              "#9c179e"
             ],
             [
              0.4444444444444444,
              "#bd3786"
             ],
             [
              0.5555555555555556,
              "#d8576b"
             ],
             [
              0.6666666666666666,
              "#ed7953"
             ],
             [
              0.7777777777777778,
              "#fb9f3a"
             ],
             [
              0.8888888888888888,
              "#fdca26"
             ],
             [
              1,
              "#f0f921"
             ]
            ],
            "type": "heatmapgl"
           }
          ],
          "histogram": [
           {
            "marker": {
             "pattern": {
              "fillmode": "overlay",
              "size": 10,
              "solidity": 0.2
             }
            },
            "type": "histogram"
           }
          ],
          "histogram2d": [
           {
            "colorbar": {
             "outlinewidth": 0,
             "ticks": ""
            },
            "colorscale": [
             [
              0,
              "#0d0887"
             ],
             [
              0.1111111111111111,
              "#46039f"
             ],
             [
              0.2222222222222222,
              "#7201a8"
             ],
             [
              0.3333333333333333,
              "#9c179e"
             ],
             [
              0.4444444444444444,
              "#bd3786"
             ],
             [
              0.5555555555555556,
              "#d8576b"
             ],
             [
              0.6666666666666666,
              "#ed7953"
             ],
             [
              0.7777777777777778,
              "#fb9f3a"
             ],
             [
              0.8888888888888888,
              "#fdca26"
             ],
             [
              1,
              "#f0f921"
             ]
            ],
            "type": "histogram2d"
           }
          ],
          "histogram2dcontour": [
           {
            "colorbar": {
             "outlinewidth": 0,
             "ticks": ""
            },
            "colorscale": [
             [
              0,
              "#0d0887"
             ],
             [
              0.1111111111111111,
              "#46039f"
             ],
             [
              0.2222222222222222,
              "#7201a8"
             ],
             [
              0.3333333333333333,
              "#9c179e"
             ],
             [
              0.4444444444444444,
              "#bd3786"
             ],
             [
              0.5555555555555556,
              "#d8576b"
             ],
             [
              0.6666666666666666,
              "#ed7953"
             ],
             [
              0.7777777777777778,
              "#fb9f3a"
             ],
             [
              0.8888888888888888,
              "#fdca26"
             ],
             [
              1,
              "#f0f921"
             ]
            ],
            "type": "histogram2dcontour"
           }
          ],
          "mesh3d": [
           {
            "colorbar": {
             "outlinewidth": 0,
             "ticks": ""
            },
            "type": "mesh3d"
           }
          ],
          "parcoords": [
           {
            "line": {
             "colorbar": {
              "outlinewidth": 0,
              "ticks": ""
             }
            },
            "type": "parcoords"
           }
          ],
          "pie": [
           {
            "automargin": true,
            "type": "pie"
           }
          ],
          "scatter": [
           {
            "fillpattern": {
             "fillmode": "overlay",
             "size": 10,
             "solidity": 0.2
            },
            "type": "scatter"
           }
          ],
          "scatter3d": [
           {
            "line": {
             "colorbar": {
              "outlinewidth": 0,
              "ticks": ""
             }
            },
            "marker": {
             "colorbar": {
              "outlinewidth": 0,
              "ticks": ""
             }
            },
            "type": "scatter3d"
           }
          ],
          "scattercarpet": [
           {
            "marker": {
             "colorbar": {
              "outlinewidth": 0,
              "ticks": ""
             }
            },
            "type": "scattercarpet"
           }
          ],
          "scattergeo": [
           {
            "marker": {
             "colorbar": {
              "outlinewidth": 0,
              "ticks": ""
             }
            },
            "type": "scattergeo"
           }
          ],
          "scattergl": [
           {
            "marker": {
             "colorbar": {
              "outlinewidth": 0,
              "ticks": ""
             }
            },
            "type": "scattergl"
           }
          ],
          "scattermapbox": [
           {
            "marker": {
             "colorbar": {
              "outlinewidth": 0,
              "ticks": ""
             }
            },
            "type": "scattermapbox"
           }
          ],
          "scatterpolar": [
           {
            "marker": {
             "colorbar": {
              "outlinewidth": 0,
              "ticks": ""
             }
            },
            "type": "scatterpolar"
           }
          ],
          "scatterpolargl": [
           {
            "marker": {
             "colorbar": {
              "outlinewidth": 0,
              "ticks": ""
             }
            },
            "type": "scatterpolargl"
           }
          ],
          "scatterternary": [
           {
            "marker": {
             "colorbar": {
              "outlinewidth": 0,
              "ticks": ""
             }
            },
            "type": "scatterternary"
           }
          ],
          "surface": [
           {
            "colorbar": {
             "outlinewidth": 0,
             "ticks": ""
            },
            "colorscale": [
             [
              0,
              "#0d0887"
             ],
             [
              0.1111111111111111,
              "#46039f"
             ],
             [
              0.2222222222222222,
              "#7201a8"
             ],
             [
              0.3333333333333333,
              "#9c179e"
             ],
             [
              0.4444444444444444,
              "#bd3786"
             ],
             [
              0.5555555555555556,
              "#d8576b"
             ],
             [
              0.6666666666666666,
              "#ed7953"
             ],
             [
              0.7777777777777778,
              "#fb9f3a"
             ],
             [
              0.8888888888888888,
              "#fdca26"
             ],
             [
              1,
              "#f0f921"
             ]
            ],
            "type": "surface"
           }
          ],
          "table": [
           {
            "cells": {
             "fill": {
              "color": "#EBF0F8"
             },
             "line": {
              "color": "white"
             }
            },
            "header": {
             "fill": {
              "color": "#C8D4E3"
             },
             "line": {
              "color": "white"
             }
            },
            "type": "table"
           }
          ]
         },
         "layout": {
          "annotationdefaults": {
           "arrowcolor": "#2a3f5f",
           "arrowhead": 0,
           "arrowwidth": 1
          },
          "autotypenumbers": "strict",
          "coloraxis": {
           "colorbar": {
            "outlinewidth": 0,
            "ticks": ""
           }
          },
          "colorscale": {
           "diverging": [
            [
             0,
             "#8e0152"
            ],
            [
             0.1,
             "#c51b7d"
            ],
            [
             0.2,
             "#de77ae"
            ],
            [
             0.3,
             "#f1b6da"
            ],
            [
             0.4,
             "#fde0ef"
            ],
            [
             0.5,
             "#f7f7f7"
            ],
            [
             0.6,
             "#e6f5d0"
            ],
            [
             0.7,
             "#b8e186"
            ],
            [
             0.8,
             "#7fbc41"
            ],
            [
             0.9,
             "#4d9221"
            ],
            [
             1,
             "#276419"
            ]
           ],
           "sequential": [
            [
             0,
             "#0d0887"
            ],
            [
             0.1111111111111111,
             "#46039f"
            ],
            [
             0.2222222222222222,
             "#7201a8"
            ],
            [
             0.3333333333333333,
             "#9c179e"
            ],
            [
             0.4444444444444444,
             "#bd3786"
            ],
            [
             0.5555555555555556,
             "#d8576b"
            ],
            [
             0.6666666666666666,
             "#ed7953"
            ],
            [
             0.7777777777777778,
             "#fb9f3a"
            ],
            [
             0.8888888888888888,
             "#fdca26"
            ],
            [
             1,
             "#f0f921"
            ]
           ],
           "sequentialminus": [
            [
             0,
             "#0d0887"
            ],
            [
             0.1111111111111111,
             "#46039f"
            ],
            [
             0.2222222222222222,
             "#7201a8"
            ],
            [
             0.3333333333333333,
             "#9c179e"
            ],
            [
             0.4444444444444444,
             "#bd3786"
            ],
            [
             0.5555555555555556,
             "#d8576b"
            ],
            [
             0.6666666666666666,
             "#ed7953"
            ],
            [
             0.7777777777777778,
             "#fb9f3a"
            ],
            [
             0.8888888888888888,
             "#fdca26"
            ],
            [
             1,
             "#f0f921"
            ]
           ]
          },
          "colorway": [
           "#636efa",
           "#EF553B",
           "#00cc96",
           "#ab63fa",
           "#FFA15A",
           "#19d3f3",
           "#FF6692",
           "#B6E880",
           "#FF97FF",
           "#FECB52"
          ],
          "font": {
           "color": "#2a3f5f"
          },
          "geo": {
           "bgcolor": "white",
           "lakecolor": "white",
           "landcolor": "#E5ECF6",
           "showlakes": true,
           "showland": true,
           "subunitcolor": "white"
          },
          "hoverlabel": {
           "align": "left"
          },
          "hovermode": "closest",
          "mapbox": {
           "style": "light"
          },
          "paper_bgcolor": "white",
          "plot_bgcolor": "#E5ECF6",
          "polar": {
           "angularaxis": {
            "gridcolor": "white",
            "linecolor": "white",
            "ticks": ""
           },
           "bgcolor": "#E5ECF6",
           "radialaxis": {
            "gridcolor": "white",
            "linecolor": "white",
            "ticks": ""
           }
          },
          "scene": {
           "xaxis": {
            "backgroundcolor": "#E5ECF6",
            "gridcolor": "white",
            "gridwidth": 2,
            "linecolor": "white",
            "showbackground": true,
            "ticks": "",
            "zerolinecolor": "white"
           },
           "yaxis": {
            "backgroundcolor": "#E5ECF6",
            "gridcolor": "white",
            "gridwidth": 2,
            "linecolor": "white",
            "showbackground": true,
            "ticks": "",
            "zerolinecolor": "white"
           },
           "zaxis": {
            "backgroundcolor": "#E5ECF6",
            "gridcolor": "white",
            "gridwidth": 2,
            "linecolor": "white",
            "showbackground": true,
            "ticks": "",
            "zerolinecolor": "white"
           }
          },
          "shapedefaults": {
           "line": {
            "color": "#2a3f5f"
           }
          },
          "ternary": {
           "aaxis": {
            "gridcolor": "white",
            "linecolor": "white",
            "ticks": ""
           },
           "baxis": {
            "gridcolor": "white",
            "linecolor": "white",
            "ticks": ""
           },
           "bgcolor": "#E5ECF6",
           "caxis": {
            "gridcolor": "white",
            "linecolor": "white",
            "ticks": ""
           }
          },
          "title": {
           "x": 0.05
          },
          "xaxis": {
           "automargin": true,
           "gridcolor": "white",
           "linecolor": "white",
           "ticks": "",
           "title": {
            "standoff": 15
           },
           "zerolinecolor": "white",
           "zerolinewidth": 2
          },
          "yaxis": {
           "automargin": true,
           "gridcolor": "white",
           "linecolor": "white",
           "ticks": "",
           "title": {
            "standoff": 15
           },
           "zerolinecolor": "white",
           "zerolinewidth": 2
          }
         }
        },
        "xaxis": {
         "anchor": "y",
         "domain": [
          0,
          1
         ],
         "dtick": 1,
         "tick0": 1,
         "tickmode": "linear",
         "title": {
          "text": "rating"
         }
        },
        "yaxis": {
         "anchor": "x",
         "domain": [
          0,
          1
         ],
         "title": {
          "text": "count"
         }
        }
       }
      }
     },
     "metadata": {},
     "output_type": "display_data"
    }
   ],
   "source": [
    "# barplot for visualizing ratings and separating based on sentiment\n",
    "plot = px.bar(ratings_df, x='rating', y='count' ,color=\"sentiment\",\n",
    "              color_discrete_map = {'positive': '#1ECBE1', 'neutral': '#73848C', 'negative': '#E1341E'})\n",
    "plot.update_traces(dict(marker_line_width=0))\n",
    "plot.update_layout(\n",
    "    xaxis = dict(\n",
    "        tickmode = 'linear',\n",
    "        tick0 = 1,\n",
    "        dtick = 1\n",
    "    )\n",
    ")\n",
    "plot.show()"
   ]
  },
  {
   "cell_type": "code",
   "execution_count": 200,
   "metadata": {},
   "outputs": [
    {
     "data": {
      "text/html": [
       "<div>\n",
       "<style scoped>\n",
       "    .dataframe tbody tr th:only-of-type {\n",
       "        vertical-align: middle;\n",
       "    }\n",
       "\n",
       "    .dataframe tbody tr th {\n",
       "        vertical-align: top;\n",
       "    }\n",
       "\n",
       "    .dataframe thead th {\n",
       "        text-align: right;\n",
       "    }\n",
       "</style>\n",
       "<table border=\"1\" class=\"dataframe\">\n",
       "  <thead>\n",
       "    <tr style=\"text-align: right;\">\n",
       "      <th></th>\n",
       "      <th>sentiment</th>\n",
       "      <th>rating</th>\n",
       "      <th>sentiment_score</th>\n",
       "      <th>count</th>\n",
       "    </tr>\n",
       "  </thead>\n",
       "  <tbody>\n",
       "    <tr>\n",
       "      <th>0</th>\n",
       "      <td>negative</td>\n",
       "      <td>1238</td>\n",
       "      <td>1238</td>\n",
       "      <td>1238</td>\n",
       "    </tr>\n",
       "    <tr>\n",
       "      <th>1</th>\n",
       "      <td>neutral</td>\n",
       "      <td>269</td>\n",
       "      <td>269</td>\n",
       "      <td>269</td>\n",
       "    </tr>\n",
       "    <tr>\n",
       "      <th>2</th>\n",
       "      <td>positive</td>\n",
       "      <td>2183</td>\n",
       "      <td>2183</td>\n",
       "      <td>2183</td>\n",
       "    </tr>\n",
       "  </tbody>\n",
       "</table>\n",
       "</div>"
      ],
      "text/plain": [
       "  sentiment  rating  sentiment_score  count\n",
       "0  negative    1238             1238   1238\n",
       "1   neutral     269              269    269\n",
       "2  positive    2183             2183   2183"
      ]
     },
     "execution_count": 200,
     "metadata": {},
     "output_type": "execute_result"
    }
   ],
   "source": [
    "sentiment_df = ratings_df.groupby('sentiment', as_index=False).count()\n",
    "sentiment_df.head()"
   ]
  },
  {
   "cell_type": "code",
   "execution_count": 251,
   "metadata": {},
   "outputs": [
    {
     "data": {
      "application/vnd.plotly.v1+json": {
       "config": {
        "plotlyServerURL": "https://plot.ly"
       },
       "data": [
        {
         "alignmentgroup": "True",
         "hovertemplate": "sentiment=%{x}<br>count=%{y}<extra></extra>",
         "legendgroup": "",
         "marker": {
          "color": "#636efa",
          "pattern": {
           "shape": ""
          }
         },
         "name": "",
         "offsetgroup": "",
         "orientation": "v",
         "showlegend": false,
         "textposition": "auto",
         "type": "bar",
         "x": [
          "negative",
          "neutral",
          "positive"
         ],
         "xaxis": "x",
         "y": [
          1238,
          269,
          2183
         ],
         "yaxis": "y"
        }
       ],
       "layout": {
        "barmode": "relative",
        "legend": {
         "tracegroupgap": 0
        },
        "margin": {
         "t": 60
        },
        "template": {
         "data": {
          "bar": [
           {
            "error_x": {
             "color": "#2a3f5f"
            },
            "error_y": {
             "color": "#2a3f5f"
            },
            "marker": {
             "line": {
              "color": "#E5ECF6",
              "width": 0.5
             },
             "pattern": {
              "fillmode": "overlay",
              "size": 10,
              "solidity": 0.2
             }
            },
            "type": "bar"
           }
          ],
          "barpolar": [
           {
            "marker": {
             "line": {
              "color": "#E5ECF6",
              "width": 0.5
             },
             "pattern": {
              "fillmode": "overlay",
              "size": 10,
              "solidity": 0.2
             }
            },
            "type": "barpolar"
           }
          ],
          "carpet": [
           {
            "aaxis": {
             "endlinecolor": "#2a3f5f",
             "gridcolor": "white",
             "linecolor": "white",
             "minorgridcolor": "white",
             "startlinecolor": "#2a3f5f"
            },
            "baxis": {
             "endlinecolor": "#2a3f5f",
             "gridcolor": "white",
             "linecolor": "white",
             "minorgridcolor": "white",
             "startlinecolor": "#2a3f5f"
            },
            "type": "carpet"
           }
          ],
          "choropleth": [
           {
            "colorbar": {
             "outlinewidth": 0,
             "ticks": ""
            },
            "type": "choropleth"
           }
          ],
          "contour": [
           {
            "colorbar": {
             "outlinewidth": 0,
             "ticks": ""
            },
            "colorscale": [
             [
              0,
              "#0d0887"
             ],
             [
              0.1111111111111111,
              "#46039f"
             ],
             [
              0.2222222222222222,
              "#7201a8"
             ],
             [
              0.3333333333333333,
              "#9c179e"
             ],
             [
              0.4444444444444444,
              "#bd3786"
             ],
             [
              0.5555555555555556,
              "#d8576b"
             ],
             [
              0.6666666666666666,
              "#ed7953"
             ],
             [
              0.7777777777777778,
              "#fb9f3a"
             ],
             [
              0.8888888888888888,
              "#fdca26"
             ],
             [
              1,
              "#f0f921"
             ]
            ],
            "type": "contour"
           }
          ],
          "contourcarpet": [
           {
            "colorbar": {
             "outlinewidth": 0,
             "ticks": ""
            },
            "type": "contourcarpet"
           }
          ],
          "heatmap": [
           {
            "colorbar": {
             "outlinewidth": 0,
             "ticks": ""
            },
            "colorscale": [
             [
              0,
              "#0d0887"
             ],
             [
              0.1111111111111111,
              "#46039f"
             ],
             [
              0.2222222222222222,
              "#7201a8"
             ],
             [
              0.3333333333333333,
              "#9c179e"
             ],
             [
              0.4444444444444444,
              "#bd3786"
             ],
             [
              0.5555555555555556,
              "#d8576b"
             ],
             [
              0.6666666666666666,
              "#ed7953"
             ],
             [
              0.7777777777777778,
              "#fb9f3a"
             ],
             [
              0.8888888888888888,
              "#fdca26"
             ],
             [
              1,
              "#f0f921"
             ]
            ],
            "type": "heatmap"
           }
          ],
          "heatmapgl": [
           {
            "colorbar": {
             "outlinewidth": 0,
             "ticks": ""
            },
            "colorscale": [
             [
              0,
              "#0d0887"
             ],
             [
              0.1111111111111111,
              "#46039f"
             ],
             [
              0.2222222222222222,
              "#7201a8"
             ],
             [
              0.3333333333333333,
              "#9c179e"
             ],
             [
              0.4444444444444444,
              "#bd3786"
             ],
             [
              0.5555555555555556,
              "#d8576b"
             ],
             [
              0.6666666666666666,
              "#ed7953"
             ],
             [
              0.7777777777777778,
              "#fb9f3a"
             ],
             [
              0.8888888888888888,
              "#fdca26"
             ],
             [
              1,
              "#f0f921"
             ]
            ],
            "type": "heatmapgl"
           }
          ],
          "histogram": [
           {
            "marker": {
             "pattern": {
              "fillmode": "overlay",
              "size": 10,
              "solidity": 0.2
             }
            },
            "type": "histogram"
           }
          ],
          "histogram2d": [
           {
            "colorbar": {
             "outlinewidth": 0,
             "ticks": ""
            },
            "colorscale": [
             [
              0,
              "#0d0887"
             ],
             [
              0.1111111111111111,
              "#46039f"
             ],
             [
              0.2222222222222222,
              "#7201a8"
             ],
             [
              0.3333333333333333,
              "#9c179e"
             ],
             [
              0.4444444444444444,
              "#bd3786"
             ],
             [
              0.5555555555555556,
              "#d8576b"
             ],
             [
              0.6666666666666666,
              "#ed7953"
             ],
             [
              0.7777777777777778,
              "#fb9f3a"
             ],
             [
              0.8888888888888888,
              "#fdca26"
             ],
             [
              1,
              "#f0f921"
             ]
            ],
            "type": "histogram2d"
           }
          ],
          "histogram2dcontour": [
           {
            "colorbar": {
             "outlinewidth": 0,
             "ticks": ""
            },
            "colorscale": [
             [
              0,
              "#0d0887"
             ],
             [
              0.1111111111111111,
              "#46039f"
             ],
             [
              0.2222222222222222,
              "#7201a8"
             ],
             [
              0.3333333333333333,
              "#9c179e"
             ],
             [
              0.4444444444444444,
              "#bd3786"
             ],
             [
              0.5555555555555556,
              "#d8576b"
             ],
             [
              0.6666666666666666,
              "#ed7953"
             ],
             [
              0.7777777777777778,
              "#fb9f3a"
             ],
             [
              0.8888888888888888,
              "#fdca26"
             ],
             [
              1,
              "#f0f921"
             ]
            ],
            "type": "histogram2dcontour"
           }
          ],
          "mesh3d": [
           {
            "colorbar": {
             "outlinewidth": 0,
             "ticks": ""
            },
            "type": "mesh3d"
           }
          ],
          "parcoords": [
           {
            "line": {
             "colorbar": {
              "outlinewidth": 0,
              "ticks": ""
             }
            },
            "type": "parcoords"
           }
          ],
          "pie": [
           {
            "automargin": true,
            "type": "pie"
           }
          ],
          "scatter": [
           {
            "fillpattern": {
             "fillmode": "overlay",
             "size": 10,
             "solidity": 0.2
            },
            "type": "scatter"
           }
          ],
          "scatter3d": [
           {
            "line": {
             "colorbar": {
              "outlinewidth": 0,
              "ticks": ""
             }
            },
            "marker": {
             "colorbar": {
              "outlinewidth": 0,
              "ticks": ""
             }
            },
            "type": "scatter3d"
           }
          ],
          "scattercarpet": [
           {
            "marker": {
             "colorbar": {
              "outlinewidth": 0,
              "ticks": ""
             }
            },
            "type": "scattercarpet"
           }
          ],
          "scattergeo": [
           {
            "marker": {
             "colorbar": {
              "outlinewidth": 0,
              "ticks": ""
             }
            },
            "type": "scattergeo"
           }
          ],
          "scattergl": [
           {
            "marker": {
             "colorbar": {
              "outlinewidth": 0,
              "ticks": ""
             }
            },
            "type": "scattergl"
           }
          ],
          "scattermapbox": [
           {
            "marker": {
             "colorbar": {
              "outlinewidth": 0,
              "ticks": ""
             }
            },
            "type": "scattermapbox"
           }
          ],
          "scatterpolar": [
           {
            "marker": {
             "colorbar": {
              "outlinewidth": 0,
              "ticks": ""
             }
            },
            "type": "scatterpolar"
           }
          ],
          "scatterpolargl": [
           {
            "marker": {
             "colorbar": {
              "outlinewidth": 0,
              "ticks": ""
             }
            },
            "type": "scatterpolargl"
           }
          ],
          "scatterternary": [
           {
            "marker": {
             "colorbar": {
              "outlinewidth": 0,
              "ticks": ""
             }
            },
            "type": "scatterternary"
           }
          ],
          "surface": [
           {
            "colorbar": {
             "outlinewidth": 0,
             "ticks": ""
            },
            "colorscale": [
             [
              0,
              "#0d0887"
             ],
             [
              0.1111111111111111,
              "#46039f"
             ],
             [
              0.2222222222222222,
              "#7201a8"
             ],
             [
              0.3333333333333333,
              "#9c179e"
             ],
             [
              0.4444444444444444,
              "#bd3786"
             ],
             [
              0.5555555555555556,
              "#d8576b"
             ],
             [
              0.6666666666666666,
              "#ed7953"
             ],
             [
              0.7777777777777778,
              "#fb9f3a"
             ],
             [
              0.8888888888888888,
              "#fdca26"
             ],
             [
              1,
              "#f0f921"
             ]
            ],
            "type": "surface"
           }
          ],
          "table": [
           {
            "cells": {
             "fill": {
              "color": "#EBF0F8"
             },
             "line": {
              "color": "white"
             }
            },
            "header": {
             "fill": {
              "color": "#C8D4E3"
             },
             "line": {
              "color": "white"
             }
            },
            "type": "table"
           }
          ]
         },
         "layout": {
          "annotationdefaults": {
           "arrowcolor": "#2a3f5f",
           "arrowhead": 0,
           "arrowwidth": 1
          },
          "autotypenumbers": "strict",
          "coloraxis": {
           "colorbar": {
            "outlinewidth": 0,
            "ticks": ""
           }
          },
          "colorscale": {
           "diverging": [
            [
             0,
             "#8e0152"
            ],
            [
             0.1,
             "#c51b7d"
            ],
            [
             0.2,
             "#de77ae"
            ],
            [
             0.3,
             "#f1b6da"
            ],
            [
             0.4,
             "#fde0ef"
            ],
            [
             0.5,
             "#f7f7f7"
            ],
            [
             0.6,
             "#e6f5d0"
            ],
            [
             0.7,
             "#b8e186"
            ],
            [
             0.8,
             "#7fbc41"
            ],
            [
             0.9,
             "#4d9221"
            ],
            [
             1,
             "#276419"
            ]
           ],
           "sequential": [
            [
             0,
             "#0d0887"
            ],
            [
             0.1111111111111111,
             "#46039f"
            ],
            [
             0.2222222222222222,
             "#7201a8"
            ],
            [
             0.3333333333333333,
             "#9c179e"
            ],
            [
             0.4444444444444444,
             "#bd3786"
            ],
            [
             0.5555555555555556,
             "#d8576b"
            ],
            [
             0.6666666666666666,
             "#ed7953"
            ],
            [
             0.7777777777777778,
             "#fb9f3a"
            ],
            [
             0.8888888888888888,
             "#fdca26"
            ],
            [
             1,
             "#f0f921"
            ]
           ],
           "sequentialminus": [
            [
             0,
             "#0d0887"
            ],
            [
             0.1111111111111111,
             "#46039f"
            ],
            [
             0.2222222222222222,
             "#7201a8"
            ],
            [
             0.3333333333333333,
             "#9c179e"
            ],
            [
             0.4444444444444444,
             "#bd3786"
            ],
            [
             0.5555555555555556,
             "#d8576b"
            ],
            [
             0.6666666666666666,
             "#ed7953"
            ],
            [
             0.7777777777777778,
             "#fb9f3a"
            ],
            [
             0.8888888888888888,
             "#fdca26"
            ],
            [
             1,
             "#f0f921"
            ]
           ]
          },
          "colorway": [
           "#636efa",
           "#EF553B",
           "#00cc96",
           "#ab63fa",
           "#FFA15A",
           "#19d3f3",
           "#FF6692",
           "#B6E880",
           "#FF97FF",
           "#FECB52"
          ],
          "font": {
           "color": "#2a3f5f"
          },
          "geo": {
           "bgcolor": "white",
           "lakecolor": "white",
           "landcolor": "#E5ECF6",
           "showlakes": true,
           "showland": true,
           "subunitcolor": "white"
          },
          "hoverlabel": {
           "align": "left"
          },
          "hovermode": "closest",
          "mapbox": {
           "style": "light"
          },
          "paper_bgcolor": "white",
          "plot_bgcolor": "#E5ECF6",
          "polar": {
           "angularaxis": {
            "gridcolor": "white",
            "linecolor": "white",
            "ticks": ""
           },
           "bgcolor": "#E5ECF6",
           "radialaxis": {
            "gridcolor": "white",
            "linecolor": "white",
            "ticks": ""
           }
          },
          "scene": {
           "xaxis": {
            "backgroundcolor": "#E5ECF6",
            "gridcolor": "white",
            "gridwidth": 2,
            "linecolor": "white",
            "showbackground": true,
            "ticks": "",
            "zerolinecolor": "white"
           },
           "yaxis": {
            "backgroundcolor": "#E5ECF6",
            "gridcolor": "white",
            "gridwidth": 2,
            "linecolor": "white",
            "showbackground": true,
            "ticks": "",
            "zerolinecolor": "white"
           },
           "zaxis": {
            "backgroundcolor": "#E5ECF6",
            "gridcolor": "white",
            "gridwidth": 2,
            "linecolor": "white",
            "showbackground": true,
            "ticks": "",
            "zerolinecolor": "white"
           }
          },
          "shapedefaults": {
           "line": {
            "color": "#2a3f5f"
           }
          },
          "ternary": {
           "aaxis": {
            "gridcolor": "white",
            "linecolor": "white",
            "ticks": ""
           },
           "baxis": {
            "gridcolor": "white",
            "linecolor": "white",
            "ticks": ""
           },
           "bgcolor": "#E5ECF6",
           "caxis": {
            "gridcolor": "white",
            "linecolor": "white",
            "ticks": ""
           }
          },
          "title": {
           "x": 0.05
          },
          "xaxis": {
           "automargin": true,
           "gridcolor": "white",
           "linecolor": "white",
           "ticks": "",
           "title": {
            "standoff": 15
           },
           "zerolinecolor": "white",
           "zerolinewidth": 2
          },
          "yaxis": {
           "automargin": true,
           "gridcolor": "white",
           "linecolor": "white",
           "ticks": "",
           "title": {
            "standoff": 15
           },
           "zerolinecolor": "white",
           "zerolinewidth": 2
          }
         }
        },
        "xaxis": {
         "anchor": "y",
         "domain": [
          0,
          1
         ],
         "title": {
          "text": "sentiment"
         }
        },
        "yaxis": {
         "anchor": "x",
         "domain": [
          0,
          1
         ],
         "title": {
          "text": "count"
         }
        }
       }
      }
     },
     "metadata": {},
     "output_type": "display_data"
    }
   ],
   "source": [
    "senti_fig = px.bar(sentiment_df, x='sentiment', y='count')\n",
    "senti_fig.show()"
   ]
  },
  {
   "cell_type": "markdown",
   "metadata": {},
   "source": [
    "<h4>Rating based on countries</h4>"
   ]
  },
  {
   "cell_type": "code",
   "execution_count": 176,
   "metadata": {},
   "outputs": [],
   "source": [
    "# collecting the ratings and countries\n",
    "countries = []\n",
    "for country in ba_col.find({},{'_id':0, 'country':1, 'rating':1}):\n",
    "        if 'na' in country['rating']:\n",
    "                continue\n",
    "        else:\n",
    "                countries.append(country)"
   ]
  },
  {
   "cell_type": "code",
   "execution_count": 183,
   "metadata": {},
   "outputs": [
    {
     "data": {
      "text/html": [
       "<div>\n",
       "<style scoped>\n",
       "    .dataframe tbody tr th:only-of-type {\n",
       "        vertical-align: middle;\n",
       "    }\n",
       "\n",
       "    .dataframe tbody tr th {\n",
       "        vertical-align: top;\n",
       "    }\n",
       "\n",
       "    .dataframe thead th {\n",
       "        text-align: right;\n",
       "    }\n",
       "</style>\n",
       "<table border=\"1\" class=\"dataframe\">\n",
       "  <thead>\n",
       "    <tr style=\"text-align: right;\">\n",
       "      <th></th>\n",
       "      <th>country</th>\n",
       "      <th>rating</th>\n",
       "    </tr>\n",
       "  </thead>\n",
       "  <tbody>\n",
       "    <tr>\n",
       "      <th>0</th>\n",
       "      <td>United Kingdom</td>\n",
       "      <td>8</td>\n",
       "    </tr>\n",
       "    <tr>\n",
       "      <th>1</th>\n",
       "      <td>United Kingdom</td>\n",
       "      <td>7</td>\n",
       "    </tr>\n",
       "    <tr>\n",
       "      <th>2</th>\n",
       "      <td>Italy</td>\n",
       "      <td>2</td>\n",
       "    </tr>\n",
       "    <tr>\n",
       "      <th>3</th>\n",
       "      <td>United Kingdom</td>\n",
       "      <td>3</td>\n",
       "    </tr>\n",
       "    <tr>\n",
       "      <th>4</th>\n",
       "      <td>Ireland</td>\n",
       "      <td>8</td>\n",
       "    </tr>\n",
       "  </tbody>\n",
       "</table>\n",
       "</div>"
      ],
      "text/plain": [
       "          country  rating\n",
       "0  United Kingdom       8\n",
       "1  United Kingdom       7\n",
       "2           Italy       2\n",
       "3  United Kingdom       3\n",
       "4         Ireland       8"
      ]
     },
     "execution_count": 183,
     "metadata": {},
     "output_type": "execute_result"
    }
   ],
   "source": [
    "countries_rating = pd.DataFrame(countries)\n",
    "countries_rating[\"rating\"] = pd.to_numeric(countries_rating[\"rating\"])\n",
    "countries_rating.head()"
   ]
  },
  {
   "cell_type": "code",
   "execution_count": 186,
   "metadata": {},
   "outputs": [],
   "source": [
    "mean_df = countries_rating.groupby('country', as_index=False)['rating'].mean()"
   ]
  },
  {
   "cell_type": "code",
   "execution_count": 187,
   "metadata": {},
   "outputs": [],
   "source": [
    "count_df = countries_rating.groupby('country', as_index=False)['rating'].count()"
   ]
  },
  {
   "cell_type": "code",
   "execution_count": 190,
   "metadata": {},
   "outputs": [
    {
     "data": {
      "text/html": [
       "<div>\n",
       "<style scoped>\n",
       "    .dataframe tbody tr th:only-of-type {\n",
       "        vertical-align: middle;\n",
       "    }\n",
       "\n",
       "    .dataframe tbody tr th {\n",
       "        vertical-align: top;\n",
       "    }\n",
       "\n",
       "    .dataframe thead th {\n",
       "        text-align: right;\n",
       "    }\n",
       "</style>\n",
       "<table border=\"1\" class=\"dataframe\">\n",
       "  <thead>\n",
       "    <tr style=\"text-align: right;\">\n",
       "      <th></th>\n",
       "      <th>country</th>\n",
       "      <th>mean</th>\n",
       "      <th>count</th>\n",
       "    </tr>\n",
       "  </thead>\n",
       "  <tbody>\n",
       "    <tr>\n",
       "      <th>0</th>\n",
       "      <td>Argentina</td>\n",
       "      <td>4.833333</td>\n",
       "      <td>6</td>\n",
       "    </tr>\n",
       "    <tr>\n",
       "      <th>1</th>\n",
       "      <td>Australia</td>\n",
       "      <td>4.490446</td>\n",
       "      <td>157</td>\n",
       "    </tr>\n",
       "    <tr>\n",
       "      <th>2</th>\n",
       "      <td>Austria</td>\n",
       "      <td>5.800000</td>\n",
       "      <td>10</td>\n",
       "    </tr>\n",
       "    <tr>\n",
       "      <th>3</th>\n",
       "      <td>Bahrain</td>\n",
       "      <td>1.000000</td>\n",
       "      <td>1</td>\n",
       "    </tr>\n",
       "    <tr>\n",
       "      <th>4</th>\n",
       "      <td>Barbados</td>\n",
       "      <td>10.000000</td>\n",
       "      <td>1</td>\n",
       "    </tr>\n",
       "  </tbody>\n",
       "</table>\n",
       "</div>"
      ],
      "text/plain": [
       "     country       mean  count\n",
       "0  Argentina   4.833333      6\n",
       "1  Australia   4.490446    157\n",
       "2    Austria   5.800000     10\n",
       "3    Bahrain   1.000000      1\n",
       "4   Barbados  10.000000      1"
      ]
     },
     "execution_count": 190,
     "metadata": {},
     "output_type": "execute_result"
    }
   ],
   "source": [
    "countries_df = pd.merge(mean_df, count_df, on='country')\n",
    "countries_df.columns = ['country', 'mean', 'count']\n",
    "countries_df.head()"
   ]
  },
  {
   "cell_type": "code",
   "execution_count": 195,
   "metadata": {},
   "outputs": [],
   "source": [
    "top_country_df = countries_df[countries_df['count'] >= 10] "
   ]
  },
  {
   "cell_type": "code",
   "execution_count": 198,
   "metadata": {},
   "outputs": [
    {
     "data": {
      "application/vnd.plotly.v1+json": {
       "config": {
        "plotlyServerURL": "https://plot.ly"
       },
       "data": [
        {
         "alignmentgroup": "True",
         "hovertemplate": "country=%{x}<br>mean=%{y}<extra></extra>",
         "legendgroup": "",
         "marker": {
          "color": "#636efa",
          "pattern": {
           "shape": ""
          }
         },
         "name": "",
         "offsetgroup": "",
         "orientation": "v",
         "showlegend": false,
         "textposition": "auto",
         "type": "bar",
         "x": [
          "Australia",
          "Austria",
          "Belgium",
          "Canada",
          "China",
          "Denmark",
          "France",
          "Germany",
          "Greece",
          "Hong Kong",
          "India",
          "Ireland",
          "Italy",
          "Malaysia",
          "Netherlands",
          "New Zealand",
          "Portugal",
          "Singapore",
          "South Africa",
          "Spain",
          "Sweden",
          "Switzerland",
          "Thailand",
          "United Arab Emirates",
          "United Kingdom",
          "United States"
         ],
         "xaxis": "x",
         "y": [
          4.490445859872612,
          5.8,
          6.88,
          4.582608695652174,
          6.722222222222222,
          5.75,
          3.7142857142857144,
          3.873015873015873,
          4.133333333333334,
          5,
          5.7894736842105265,
          4.375,
          4.904761904761905,
          6.571428571428571,
          5.4,
          4.363636363636363,
          7.214285714285714,
          4.296296296296297,
          5.275,
          6.275862068965517,
          5,
          4.315789473684211,
          4.304347826086956,
          4.086956521739131,
          4.803356282271945,
          3.9338235294117645
         ],
         "yaxis": "y"
        }
       ],
       "layout": {
        "barmode": "relative",
        "legend": {
         "tracegroupgap": 0
        },
        "margin": {
         "t": 60
        },
        "template": {
         "data": {
          "bar": [
           {
            "error_x": {
             "color": "#2a3f5f"
            },
            "error_y": {
             "color": "#2a3f5f"
            },
            "marker": {
             "line": {
              "color": "#E5ECF6",
              "width": 0.5
             },
             "pattern": {
              "fillmode": "overlay",
              "size": 10,
              "solidity": 0.2
             }
            },
            "type": "bar"
           }
          ],
          "barpolar": [
           {
            "marker": {
             "line": {
              "color": "#E5ECF6",
              "width": 0.5
             },
             "pattern": {
              "fillmode": "overlay",
              "size": 10,
              "solidity": 0.2
             }
            },
            "type": "barpolar"
           }
          ],
          "carpet": [
           {
            "aaxis": {
             "endlinecolor": "#2a3f5f",
             "gridcolor": "white",
             "linecolor": "white",
             "minorgridcolor": "white",
             "startlinecolor": "#2a3f5f"
            },
            "baxis": {
             "endlinecolor": "#2a3f5f",
             "gridcolor": "white",
             "linecolor": "white",
             "minorgridcolor": "white",
             "startlinecolor": "#2a3f5f"
            },
            "type": "carpet"
           }
          ],
          "choropleth": [
           {
            "colorbar": {
             "outlinewidth": 0,
             "ticks": ""
            },
            "type": "choropleth"
           }
          ],
          "contour": [
           {
            "colorbar": {
             "outlinewidth": 0,
             "ticks": ""
            },
            "colorscale": [
             [
              0,
              "#0d0887"
             ],
             [
              0.1111111111111111,
              "#46039f"
             ],
             [
              0.2222222222222222,
              "#7201a8"
             ],
             [
              0.3333333333333333,
              "#9c179e"
             ],
             [
              0.4444444444444444,
              "#bd3786"
             ],
             [
              0.5555555555555556,
              "#d8576b"
             ],
             [
              0.6666666666666666,
              "#ed7953"
             ],
             [
              0.7777777777777778,
              "#fb9f3a"
             ],
             [
              0.8888888888888888,
              "#fdca26"
             ],
             [
              1,
              "#f0f921"
             ]
            ],
            "type": "contour"
           }
          ],
          "contourcarpet": [
           {
            "colorbar": {
             "outlinewidth": 0,
             "ticks": ""
            },
            "type": "contourcarpet"
           }
          ],
          "heatmap": [
           {
            "colorbar": {
             "outlinewidth": 0,
             "ticks": ""
            },
            "colorscale": [
             [
              0,
              "#0d0887"
             ],
             [
              0.1111111111111111,
              "#46039f"
             ],
             [
              0.2222222222222222,
              "#7201a8"
             ],
             [
              0.3333333333333333,
              "#9c179e"
             ],
             [
              0.4444444444444444,
              "#bd3786"
             ],
             [
              0.5555555555555556,
              "#d8576b"
             ],
             [
              0.6666666666666666,
              "#ed7953"
             ],
             [
              0.7777777777777778,
              "#fb9f3a"
             ],
             [
              0.8888888888888888,
              "#fdca26"
             ],
             [
              1,
              "#f0f921"
             ]
            ],
            "type": "heatmap"
           }
          ],
          "heatmapgl": [
           {
            "colorbar": {
             "outlinewidth": 0,
             "ticks": ""
            },
            "colorscale": [
             [
              0,
              "#0d0887"
             ],
             [
              0.1111111111111111,
              "#46039f"
             ],
             [
              0.2222222222222222,
              "#7201a8"
             ],
             [
              0.3333333333333333,
              "#9c179e"
             ],
             [
              0.4444444444444444,
              "#bd3786"
             ],
             [
              0.5555555555555556,
              "#d8576b"
             ],
             [
              0.6666666666666666,
              "#ed7953"
             ],
             [
              0.7777777777777778,
              "#fb9f3a"
             ],
             [
              0.8888888888888888,
              "#fdca26"
             ],
             [
              1,
              "#f0f921"
             ]
            ],
            "type": "heatmapgl"
           }
          ],
          "histogram": [
           {
            "marker": {
             "pattern": {
              "fillmode": "overlay",
              "size": 10,
              "solidity": 0.2
             }
            },
            "type": "histogram"
           }
          ],
          "histogram2d": [
           {
            "colorbar": {
             "outlinewidth": 0,
             "ticks": ""
            },
            "colorscale": [
             [
              0,
              "#0d0887"
             ],
             [
              0.1111111111111111,
              "#46039f"
             ],
             [
              0.2222222222222222,
              "#7201a8"
             ],
             [
              0.3333333333333333,
              "#9c179e"
             ],
             [
              0.4444444444444444,
              "#bd3786"
             ],
             [
              0.5555555555555556,
              "#d8576b"
             ],
             [
              0.6666666666666666,
              "#ed7953"
             ],
             [
              0.7777777777777778,
              "#fb9f3a"
             ],
             [
              0.8888888888888888,
              "#fdca26"
             ],
             [
              1,
              "#f0f921"
             ]
            ],
            "type": "histogram2d"
           }
          ],
          "histogram2dcontour": [
           {
            "colorbar": {
             "outlinewidth": 0,
             "ticks": ""
            },
            "colorscale": [
             [
              0,
              "#0d0887"
             ],
             [
              0.1111111111111111,
              "#46039f"
             ],
             [
              0.2222222222222222,
              "#7201a8"
             ],
             [
              0.3333333333333333,
              "#9c179e"
             ],
             [
              0.4444444444444444,
              "#bd3786"
             ],
             [
              0.5555555555555556,
              "#d8576b"
             ],
             [
              0.6666666666666666,
              "#ed7953"
             ],
             [
              0.7777777777777778,
              "#fb9f3a"
             ],
             [
              0.8888888888888888,
              "#fdca26"
             ],
             [
              1,
              "#f0f921"
             ]
            ],
            "type": "histogram2dcontour"
           }
          ],
          "mesh3d": [
           {
            "colorbar": {
             "outlinewidth": 0,
             "ticks": ""
            },
            "type": "mesh3d"
           }
          ],
          "parcoords": [
           {
            "line": {
             "colorbar": {
              "outlinewidth": 0,
              "ticks": ""
             }
            },
            "type": "parcoords"
           }
          ],
          "pie": [
           {
            "automargin": true,
            "type": "pie"
           }
          ],
          "scatter": [
           {
            "fillpattern": {
             "fillmode": "overlay",
             "size": 10,
             "solidity": 0.2
            },
            "type": "scatter"
           }
          ],
          "scatter3d": [
           {
            "line": {
             "colorbar": {
              "outlinewidth": 0,
              "ticks": ""
             }
            },
            "marker": {
             "colorbar": {
              "outlinewidth": 0,
              "ticks": ""
             }
            },
            "type": "scatter3d"
           }
          ],
          "scattercarpet": [
           {
            "marker": {
             "colorbar": {
              "outlinewidth": 0,
              "ticks": ""
             }
            },
            "type": "scattercarpet"
           }
          ],
          "scattergeo": [
           {
            "marker": {
             "colorbar": {
              "outlinewidth": 0,
              "ticks": ""
             }
            },
            "type": "scattergeo"
           }
          ],
          "scattergl": [
           {
            "marker": {
             "colorbar": {
              "outlinewidth": 0,
              "ticks": ""
             }
            },
            "type": "scattergl"
           }
          ],
          "scattermapbox": [
           {
            "marker": {
             "colorbar": {
              "outlinewidth": 0,
              "ticks": ""
             }
            },
            "type": "scattermapbox"
           }
          ],
          "scatterpolar": [
           {
            "marker": {
             "colorbar": {
              "outlinewidth": 0,
              "ticks": ""
             }
            },
            "type": "scatterpolar"
           }
          ],
          "scatterpolargl": [
           {
            "marker": {
             "colorbar": {
              "outlinewidth": 0,
              "ticks": ""
             }
            },
            "type": "scatterpolargl"
           }
          ],
          "scatterternary": [
           {
            "marker": {
             "colorbar": {
              "outlinewidth": 0,
              "ticks": ""
             }
            },
            "type": "scatterternary"
           }
          ],
          "surface": [
           {
            "colorbar": {
             "outlinewidth": 0,
             "ticks": ""
            },
            "colorscale": [
             [
              0,
              "#0d0887"
             ],
             [
              0.1111111111111111,
              "#46039f"
             ],
             [
              0.2222222222222222,
              "#7201a8"
             ],
             [
              0.3333333333333333,
              "#9c179e"
             ],
             [
              0.4444444444444444,
              "#bd3786"
             ],
             [
              0.5555555555555556,
              "#d8576b"
             ],
             [
              0.6666666666666666,
              "#ed7953"
             ],
             [
              0.7777777777777778,
              "#fb9f3a"
             ],
             [
              0.8888888888888888,
              "#fdca26"
             ],
             [
              1,
              "#f0f921"
             ]
            ],
            "type": "surface"
           }
          ],
          "table": [
           {
            "cells": {
             "fill": {
              "color": "#EBF0F8"
             },
             "line": {
              "color": "white"
             }
            },
            "header": {
             "fill": {
              "color": "#C8D4E3"
             },
             "line": {
              "color": "white"
             }
            },
            "type": "table"
           }
          ]
         },
         "layout": {
          "annotationdefaults": {
           "arrowcolor": "#2a3f5f",
           "arrowhead": 0,
           "arrowwidth": 1
          },
          "autotypenumbers": "strict",
          "coloraxis": {
           "colorbar": {
            "outlinewidth": 0,
            "ticks": ""
           }
          },
          "colorscale": {
           "diverging": [
            [
             0,
             "#8e0152"
            ],
            [
             0.1,
             "#c51b7d"
            ],
            [
             0.2,
             "#de77ae"
            ],
            [
             0.3,
             "#f1b6da"
            ],
            [
             0.4,
             "#fde0ef"
            ],
            [
             0.5,
             "#f7f7f7"
            ],
            [
             0.6,
             "#e6f5d0"
            ],
            [
             0.7,
             "#b8e186"
            ],
            [
             0.8,
             "#7fbc41"
            ],
            [
             0.9,
             "#4d9221"
            ],
            [
             1,
             "#276419"
            ]
           ],
           "sequential": [
            [
             0,
             "#0d0887"
            ],
            [
             0.1111111111111111,
             "#46039f"
            ],
            [
             0.2222222222222222,
             "#7201a8"
            ],
            [
             0.3333333333333333,
             "#9c179e"
            ],
            [
             0.4444444444444444,
             "#bd3786"
            ],
            [
             0.5555555555555556,
             "#d8576b"
            ],
            [
             0.6666666666666666,
             "#ed7953"
            ],
            [
             0.7777777777777778,
             "#fb9f3a"
            ],
            [
             0.8888888888888888,
             "#fdca26"
            ],
            [
             1,
             "#f0f921"
            ]
           ],
           "sequentialminus": [
            [
             0,
             "#0d0887"
            ],
            [
             0.1111111111111111,
             "#46039f"
            ],
            [
             0.2222222222222222,
             "#7201a8"
            ],
            [
             0.3333333333333333,
             "#9c179e"
            ],
            [
             0.4444444444444444,
             "#bd3786"
            ],
            [
             0.5555555555555556,
             "#d8576b"
            ],
            [
             0.6666666666666666,
             "#ed7953"
            ],
            [
             0.7777777777777778,
             "#fb9f3a"
            ],
            [
             0.8888888888888888,
             "#fdca26"
            ],
            [
             1,
             "#f0f921"
            ]
           ]
          },
          "colorway": [
           "#636efa",
           "#EF553B",
           "#00cc96",
           "#ab63fa",
           "#FFA15A",
           "#19d3f3",
           "#FF6692",
           "#B6E880",
           "#FF97FF",
           "#FECB52"
          ],
          "font": {
           "color": "#2a3f5f"
          },
          "geo": {
           "bgcolor": "white",
           "lakecolor": "white",
           "landcolor": "#E5ECF6",
           "showlakes": true,
           "showland": true,
           "subunitcolor": "white"
          },
          "hoverlabel": {
           "align": "left"
          },
          "hovermode": "closest",
          "mapbox": {
           "style": "light"
          },
          "paper_bgcolor": "white",
          "plot_bgcolor": "#E5ECF6",
          "polar": {
           "angularaxis": {
            "gridcolor": "white",
            "linecolor": "white",
            "ticks": ""
           },
           "bgcolor": "#E5ECF6",
           "radialaxis": {
            "gridcolor": "white",
            "linecolor": "white",
            "ticks": ""
           }
          },
          "scene": {
           "xaxis": {
            "backgroundcolor": "#E5ECF6",
            "gridcolor": "white",
            "gridwidth": 2,
            "linecolor": "white",
            "showbackground": true,
            "ticks": "",
            "zerolinecolor": "white"
           },
           "yaxis": {
            "backgroundcolor": "#E5ECF6",
            "gridcolor": "white",
            "gridwidth": 2,
            "linecolor": "white",
            "showbackground": true,
            "ticks": "",
            "zerolinecolor": "white"
           },
           "zaxis": {
            "backgroundcolor": "#E5ECF6",
            "gridcolor": "white",
            "gridwidth": 2,
            "linecolor": "white",
            "showbackground": true,
            "ticks": "",
            "zerolinecolor": "white"
           }
          },
          "shapedefaults": {
           "line": {
            "color": "#2a3f5f"
           }
          },
          "ternary": {
           "aaxis": {
            "gridcolor": "white",
            "linecolor": "white",
            "ticks": ""
           },
           "baxis": {
            "gridcolor": "white",
            "linecolor": "white",
            "ticks": ""
           },
           "bgcolor": "#E5ECF6",
           "caxis": {
            "gridcolor": "white",
            "linecolor": "white",
            "ticks": ""
           }
          },
          "title": {
           "x": 0.05
          },
          "xaxis": {
           "automargin": true,
           "gridcolor": "white",
           "linecolor": "white",
           "ticks": "",
           "title": {
            "standoff": 15
           },
           "zerolinecolor": "white",
           "zerolinewidth": 2
          },
          "yaxis": {
           "automargin": true,
           "gridcolor": "white",
           "linecolor": "white",
           "ticks": "",
           "title": {
            "standoff": 15
           },
           "zerolinecolor": "white",
           "zerolinewidth": 2
          }
         }
        },
        "xaxis": {
         "anchor": "y",
         "domain": [
          0,
          1
         ],
         "title": {
          "text": "country"
         }
        },
        "yaxis": {
         "anchor": "x",
         "domain": [
          0,
          1
         ],
         "title": {
          "text": "mean"
         }
        }
       }
      }
     },
     "metadata": {},
     "output_type": "display_data"
    }
   ],
   "source": [
    "fig1 = px.bar(top_country_df, x='country', y='mean')\n",
    "fig1.show()"
   ]
  },
  {
   "cell_type": "markdown",
   "metadata": {},
   "source": [
    "<h4>visualisation of the trend of the average rating per months</h4>"
   ]
  },
  {
   "cell_type": "code",
   "execution_count": 224,
   "metadata": {},
   "outputs": [],
   "source": [
    "# getting the date and rating \n",
    "rating_mnth = []\n",
    "for rev in ba_col.find({},{'_id':0, 'rating':1, 'published':1}):\n",
    "        if 'na' in rev['rating']:\n",
    "                continue\n",
    "        else:\n",
    "                #ratings.append(int(rev['rating']))\n",
    "                rating_mnth.append(rev)"
   ]
  },
  {
   "cell_type": "code",
   "execution_count": 225,
   "metadata": {},
   "outputs": [
    {
     "data": {
      "text/html": [
       "<div>\n",
       "<style scoped>\n",
       "    .dataframe tbody tr th:only-of-type {\n",
       "        vertical-align: middle;\n",
       "    }\n",
       "\n",
       "    .dataframe tbody tr th {\n",
       "        vertical-align: top;\n",
       "    }\n",
       "\n",
       "    .dataframe thead th {\n",
       "        text-align: right;\n",
       "    }\n",
       "</style>\n",
       "<table border=\"1\" class=\"dataframe\">\n",
       "  <thead>\n",
       "    <tr style=\"text-align: right;\">\n",
       "      <th></th>\n",
       "      <th>published</th>\n",
       "      <th>rating</th>\n",
       "    </tr>\n",
       "  </thead>\n",
       "  <tbody>\n",
       "    <tr>\n",
       "      <th>0</th>\n",
       "      <td>2023-11-08</td>\n",
       "      <td>8</td>\n",
       "    </tr>\n",
       "    <tr>\n",
       "      <th>1</th>\n",
       "      <td>2023-11-07</td>\n",
       "      <td>7</td>\n",
       "    </tr>\n",
       "    <tr>\n",
       "      <th>2</th>\n",
       "      <td>2023-11-05</td>\n",
       "      <td>2</td>\n",
       "    </tr>\n",
       "    <tr>\n",
       "      <th>3</th>\n",
       "      <td>2023-11-05</td>\n",
       "      <td>3</td>\n",
       "    </tr>\n",
       "    <tr>\n",
       "      <th>4</th>\n",
       "      <td>2023-11-04</td>\n",
       "      <td>8</td>\n",
       "    </tr>\n",
       "  </tbody>\n",
       "</table>\n",
       "</div>"
      ],
      "text/plain": [
       "    published rating\n",
       "0  2023-11-08      8\n",
       "1  2023-11-07      7\n",
       "2  2023-11-05      2\n",
       "3  2023-11-05      3\n",
       "4  2023-11-04      8"
      ]
     },
     "execution_count": 225,
     "metadata": {},
     "output_type": "execute_result"
    }
   ],
   "source": [
    "# converting to a dataframe\n",
    "rating_mnth_df = pd.DataFrame(rating_mnth)\n",
    "rating_mnth_df.head()"
   ]
  },
  {
   "cell_type": "code",
   "execution_count": 246,
   "metadata": {},
   "outputs": [],
   "source": [
    "# converting the date from an object datatype to a datetime64 object\n",
    "rating_mnth_df['published'] = pd.to_datetime(rating_mnth_df['published'], format='%Y-%m-%d')\n",
    "# converting the rating to int\n",
    "rating_mnth_df['rating'] = rating_mnth_df['rating'].astype('int64')\n",
    "\n",
    "# extracting only the month and year from the date\n",
    "rating_mnth_df['year'] = rating_mnth_df['published'].dt.strftime('%Y')\n",
    "#rating_mnth_df['month'] = pd.to_datetime(rating_mnth_df['month'], format='%Y-%m')"
   ]
  },
  {
   "cell_type": "code",
   "execution_count": 247,
   "metadata": {},
   "outputs": [],
   "source": [
    "year_mean = pd.DataFrame(rating_mnth_df.groupby('year', as_index=False)['rating'].mean())"
   ]
  },
  {
   "cell_type": "code",
   "execution_count": 248,
   "metadata": {},
   "outputs": [
    {
     "data": {
      "text/html": [
       "<div>\n",
       "<style scoped>\n",
       "    .dataframe tbody tr th:only-of-type {\n",
       "        vertical-align: middle;\n",
       "    }\n",
       "\n",
       "    .dataframe tbody tr th {\n",
       "        vertical-align: top;\n",
       "    }\n",
       "\n",
       "    .dataframe thead th {\n",
       "        text-align: right;\n",
       "    }\n",
       "</style>\n",
       "<table border=\"1\" class=\"dataframe\">\n",
       "  <thead>\n",
       "    <tr style=\"text-align: right;\">\n",
       "      <th></th>\n",
       "      <th>year</th>\n",
       "      <th>rating</th>\n",
       "    </tr>\n",
       "  </thead>\n",
       "  <tbody>\n",
       "    <tr>\n",
       "      <th>0</th>\n",
       "      <td>2011</td>\n",
       "      <td>4.333333</td>\n",
       "    </tr>\n",
       "    <tr>\n",
       "      <th>1</th>\n",
       "      <td>2012</td>\n",
       "      <td>5.833333</td>\n",
       "    </tr>\n",
       "    <tr>\n",
       "      <th>2</th>\n",
       "      <td>2014</td>\n",
       "      <td>5.911638</td>\n",
       "    </tr>\n",
       "    <tr>\n",
       "      <th>3</th>\n",
       "      <td>2015</td>\n",
       "      <td>5.450475</td>\n",
       "    </tr>\n",
       "    <tr>\n",
       "      <th>4</th>\n",
       "      <td>2016</td>\n",
       "      <td>4.985965</td>\n",
       "    </tr>\n",
       "  </tbody>\n",
       "</table>\n",
       "</div>"
      ],
      "text/plain": [
       "   year    rating\n",
       "0  2011  4.333333\n",
       "1  2012  5.833333\n",
       "2  2014  5.911638\n",
       "3  2015  5.450475\n",
       "4  2016  4.985965"
      ]
     },
     "execution_count": 248,
     "metadata": {},
     "output_type": "execute_result"
    }
   ],
   "source": [
    "year_mean.head()"
   ]
  },
  {
   "cell_type": "code",
   "execution_count": 249,
   "metadata": {},
   "outputs": [
    {
     "data": {
      "application/vnd.plotly.v1+json": {
       "config": {
        "plotlyServerURL": "https://plot.ly"
       },
       "data": [
        {
         "hovertemplate": "year=%{x}<br>rating=%{y}<extra></extra>",
         "legendgroup": "",
         "line": {
          "color": "#636efa",
          "dash": "solid"
         },
         "marker": {
          "symbol": "circle"
         },
         "mode": "lines",
         "name": "",
         "orientation": "v",
         "showlegend": false,
         "type": "scatter",
         "x": [
          "2011",
          "2012",
          "2014",
          "2015",
          "2016",
          "2017",
          "2018",
          "2019",
          "2020",
          "2021",
          "2022",
          "2023"
         ],
         "xaxis": "x",
         "y": [
          4.333333333333333,
          5.833333333333333,
          5.911637931034483,
          5.450474898236092,
          4.985964912280702,
          3.847902097902098,
          4.317901234567901,
          4.764044943820225,
          4.336538461538462,
          4.2988505747126435,
          3.995305164319249,
          3.2096774193548385
         ],
         "yaxis": "y"
        }
       ],
       "layout": {
        "legend": {
         "tracegroupgap": 0
        },
        "template": {
         "data": {
          "bar": [
           {
            "error_x": {
             "color": "#2a3f5f"
            },
            "error_y": {
             "color": "#2a3f5f"
            },
            "marker": {
             "line": {
              "color": "#E5ECF6",
              "width": 0.5
             },
             "pattern": {
              "fillmode": "overlay",
              "size": 10,
              "solidity": 0.2
             }
            },
            "type": "bar"
           }
          ],
          "barpolar": [
           {
            "marker": {
             "line": {
              "color": "#E5ECF6",
              "width": 0.5
             },
             "pattern": {
              "fillmode": "overlay",
              "size": 10,
              "solidity": 0.2
             }
            },
            "type": "barpolar"
           }
          ],
          "carpet": [
           {
            "aaxis": {
             "endlinecolor": "#2a3f5f",
             "gridcolor": "white",
             "linecolor": "white",
             "minorgridcolor": "white",
             "startlinecolor": "#2a3f5f"
            },
            "baxis": {
             "endlinecolor": "#2a3f5f",
             "gridcolor": "white",
             "linecolor": "white",
             "minorgridcolor": "white",
             "startlinecolor": "#2a3f5f"
            },
            "type": "carpet"
           }
          ],
          "choropleth": [
           {
            "colorbar": {
             "outlinewidth": 0,
             "ticks": ""
            },
            "type": "choropleth"
           }
          ],
          "contour": [
           {
            "colorbar": {
             "outlinewidth": 0,
             "ticks": ""
            },
            "colorscale": [
             [
              0,
              "#0d0887"
             ],
             [
              0.1111111111111111,
              "#46039f"
             ],
             [
              0.2222222222222222,
              "#7201a8"
             ],
             [
              0.3333333333333333,
              "#9c179e"
             ],
             [
              0.4444444444444444,
              "#bd3786"
             ],
             [
              0.5555555555555556,
              "#d8576b"
             ],
             [
              0.6666666666666666,
              "#ed7953"
             ],
             [
              0.7777777777777778,
              "#fb9f3a"
             ],
             [
              0.8888888888888888,
              "#fdca26"
             ],
             [
              1,
              "#f0f921"
             ]
            ],
            "type": "contour"
           }
          ],
          "contourcarpet": [
           {
            "colorbar": {
             "outlinewidth": 0,
             "ticks": ""
            },
            "type": "contourcarpet"
           }
          ],
          "heatmap": [
           {
            "colorbar": {
             "outlinewidth": 0,
             "ticks": ""
            },
            "colorscale": [
             [
              0,
              "#0d0887"
             ],
             [
              0.1111111111111111,
              "#46039f"
             ],
             [
              0.2222222222222222,
              "#7201a8"
             ],
             [
              0.3333333333333333,
              "#9c179e"
             ],
             [
              0.4444444444444444,
              "#bd3786"
             ],
             [
              0.5555555555555556,
              "#d8576b"
             ],
             [
              0.6666666666666666,
              "#ed7953"
             ],
             [
              0.7777777777777778,
              "#fb9f3a"
             ],
             [
              0.8888888888888888,
              "#fdca26"
             ],
             [
              1,
              "#f0f921"
             ]
            ],
            "type": "heatmap"
           }
          ],
          "heatmapgl": [
           {
            "colorbar": {
             "outlinewidth": 0,
             "ticks": ""
            },
            "colorscale": [
             [
              0,
              "#0d0887"
             ],
             [
              0.1111111111111111,
              "#46039f"
             ],
             [
              0.2222222222222222,
              "#7201a8"
             ],
             [
              0.3333333333333333,
              "#9c179e"
             ],
             [
              0.4444444444444444,
              "#bd3786"
             ],
             [
              0.5555555555555556,
              "#d8576b"
             ],
             [
              0.6666666666666666,
              "#ed7953"
             ],
             [
              0.7777777777777778,
              "#fb9f3a"
             ],
             [
              0.8888888888888888,
              "#fdca26"
             ],
             [
              1,
              "#f0f921"
             ]
            ],
            "type": "heatmapgl"
           }
          ],
          "histogram": [
           {
            "marker": {
             "pattern": {
              "fillmode": "overlay",
              "size": 10,
              "solidity": 0.2
             }
            },
            "type": "histogram"
           }
          ],
          "histogram2d": [
           {
            "colorbar": {
             "outlinewidth": 0,
             "ticks": ""
            },
            "colorscale": [
             [
              0,
              "#0d0887"
             ],
             [
              0.1111111111111111,
              "#46039f"
             ],
             [
              0.2222222222222222,
              "#7201a8"
             ],
             [
              0.3333333333333333,
              "#9c179e"
             ],
             [
              0.4444444444444444,
              "#bd3786"
             ],
             [
              0.5555555555555556,
              "#d8576b"
             ],
             [
              0.6666666666666666,
              "#ed7953"
             ],
             [
              0.7777777777777778,
              "#fb9f3a"
             ],
             [
              0.8888888888888888,
              "#fdca26"
             ],
             [
              1,
              "#f0f921"
             ]
            ],
            "type": "histogram2d"
           }
          ],
          "histogram2dcontour": [
           {
            "colorbar": {
             "outlinewidth": 0,
             "ticks": ""
            },
            "colorscale": [
             [
              0,
              "#0d0887"
             ],
             [
              0.1111111111111111,
              "#46039f"
             ],
             [
              0.2222222222222222,
              "#7201a8"
             ],
             [
              0.3333333333333333,
              "#9c179e"
             ],
             [
              0.4444444444444444,
              "#bd3786"
             ],
             [
              0.5555555555555556,
              "#d8576b"
             ],
             [
              0.6666666666666666,
              "#ed7953"
             ],
             [
              0.7777777777777778,
              "#fb9f3a"
             ],
             [
              0.8888888888888888,
              "#fdca26"
             ],
             [
              1,
              "#f0f921"
             ]
            ],
            "type": "histogram2dcontour"
           }
          ],
          "mesh3d": [
           {
            "colorbar": {
             "outlinewidth": 0,
             "ticks": ""
            },
            "type": "mesh3d"
           }
          ],
          "parcoords": [
           {
            "line": {
             "colorbar": {
              "outlinewidth": 0,
              "ticks": ""
             }
            },
            "type": "parcoords"
           }
          ],
          "pie": [
           {
            "automargin": true,
            "type": "pie"
           }
          ],
          "scatter": [
           {
            "fillpattern": {
             "fillmode": "overlay",
             "size": 10,
             "solidity": 0.2
            },
            "type": "scatter"
           }
          ],
          "scatter3d": [
           {
            "line": {
             "colorbar": {
              "outlinewidth": 0,
              "ticks": ""
             }
            },
            "marker": {
             "colorbar": {
              "outlinewidth": 0,
              "ticks": ""
             }
            },
            "type": "scatter3d"
           }
          ],
          "scattercarpet": [
           {
            "marker": {
             "colorbar": {
              "outlinewidth": 0,
              "ticks": ""
             }
            },
            "type": "scattercarpet"
           }
          ],
          "scattergeo": [
           {
            "marker": {
             "colorbar": {
              "outlinewidth": 0,
              "ticks": ""
             }
            },
            "type": "scattergeo"
           }
          ],
          "scattergl": [
           {
            "marker": {
             "colorbar": {
              "outlinewidth": 0,
              "ticks": ""
             }
            },
            "type": "scattergl"
           }
          ],
          "scattermapbox": [
           {
            "marker": {
             "colorbar": {
              "outlinewidth": 0,
              "ticks": ""
             }
            },
            "type": "scattermapbox"
           }
          ],
          "scatterpolar": [
           {
            "marker": {
             "colorbar": {
              "outlinewidth": 0,
              "ticks": ""
             }
            },
            "type": "scatterpolar"
           }
          ],
          "scatterpolargl": [
           {
            "marker": {
             "colorbar": {
              "outlinewidth": 0,
              "ticks": ""
             }
            },
            "type": "scatterpolargl"
           }
          ],
          "scatterternary": [
           {
            "marker": {
             "colorbar": {
              "outlinewidth": 0,
              "ticks": ""
             }
            },
            "type": "scatterternary"
           }
          ],
          "surface": [
           {
            "colorbar": {
             "outlinewidth": 0,
             "ticks": ""
            },
            "colorscale": [
             [
              0,
              "#0d0887"
             ],
             [
              0.1111111111111111,
              "#46039f"
             ],
             [
              0.2222222222222222,
              "#7201a8"
             ],
             [
              0.3333333333333333,
              "#9c179e"
             ],
             [
              0.4444444444444444,
              "#bd3786"
             ],
             [
              0.5555555555555556,
              "#d8576b"
             ],
             [
              0.6666666666666666,
              "#ed7953"
             ],
             [
              0.7777777777777778,
              "#fb9f3a"
             ],
             [
              0.8888888888888888,
              "#fdca26"
             ],
             [
              1,
              "#f0f921"
             ]
            ],
            "type": "surface"
           }
          ],
          "table": [
           {
            "cells": {
             "fill": {
              "color": "#EBF0F8"
             },
             "line": {
              "color": "white"
             }
            },
            "header": {
             "fill": {
              "color": "#C8D4E3"
             },
             "line": {
              "color": "white"
             }
            },
            "type": "table"
           }
          ]
         },
         "layout": {
          "annotationdefaults": {
           "arrowcolor": "#2a3f5f",
           "arrowhead": 0,
           "arrowwidth": 1
          },
          "autotypenumbers": "strict",
          "coloraxis": {
           "colorbar": {
            "outlinewidth": 0,
            "ticks": ""
           }
          },
          "colorscale": {
           "diverging": [
            [
             0,
             "#8e0152"
            ],
            [
             0.1,
             "#c51b7d"
            ],
            [
             0.2,
             "#de77ae"
            ],
            [
             0.3,
             "#f1b6da"
            ],
            [
             0.4,
             "#fde0ef"
            ],
            [
             0.5,
             "#f7f7f7"
            ],
            [
             0.6,
             "#e6f5d0"
            ],
            [
             0.7,
             "#b8e186"
            ],
            [
             0.8,
             "#7fbc41"
            ],
            [
             0.9,
             "#4d9221"
            ],
            [
             1,
             "#276419"
            ]
           ],
           "sequential": [
            [
             0,
             "#0d0887"
            ],
            [
             0.1111111111111111,
             "#46039f"
            ],
            [
             0.2222222222222222,
             "#7201a8"
            ],
            [
             0.3333333333333333,
             "#9c179e"
            ],
            [
             0.4444444444444444,
             "#bd3786"
            ],
            [
             0.5555555555555556,
             "#d8576b"
            ],
            [
             0.6666666666666666,
             "#ed7953"
            ],
            [
             0.7777777777777778,
             "#fb9f3a"
            ],
            [
             0.8888888888888888,
             "#fdca26"
            ],
            [
             1,
             "#f0f921"
            ]
           ],
           "sequentialminus": [
            [
             0,
             "#0d0887"
            ],
            [
             0.1111111111111111,
             "#46039f"
            ],
            [
             0.2222222222222222,
             "#7201a8"
            ],
            [
             0.3333333333333333,
             "#9c179e"
            ],
            [
             0.4444444444444444,
             "#bd3786"
            ],
            [
             0.5555555555555556,
             "#d8576b"
            ],
            [
             0.6666666666666666,
             "#ed7953"
            ],
            [
             0.7777777777777778,
             "#fb9f3a"
            ],
            [
             0.8888888888888888,
             "#fdca26"
            ],
            [
             1,
             "#f0f921"
            ]
           ]
          },
          "colorway": [
           "#636efa",
           "#EF553B",
           "#00cc96",
           "#ab63fa",
           "#FFA15A",
           "#19d3f3",
           "#FF6692",
           "#B6E880",
           "#FF97FF",
           "#FECB52"
          ],
          "font": {
           "color": "#2a3f5f"
          },
          "geo": {
           "bgcolor": "white",
           "lakecolor": "white",
           "landcolor": "#E5ECF6",
           "showlakes": true,
           "showland": true,
           "subunitcolor": "white"
          },
          "hoverlabel": {
           "align": "left"
          },
          "hovermode": "closest",
          "mapbox": {
           "style": "light"
          },
          "paper_bgcolor": "white",
          "plot_bgcolor": "#E5ECF6",
          "polar": {
           "angularaxis": {
            "gridcolor": "white",
            "linecolor": "white",
            "ticks": ""
           },
           "bgcolor": "#E5ECF6",
           "radialaxis": {
            "gridcolor": "white",
            "linecolor": "white",
            "ticks": ""
           }
          },
          "scene": {
           "xaxis": {
            "backgroundcolor": "#E5ECF6",
            "gridcolor": "white",
            "gridwidth": 2,
            "linecolor": "white",
            "showbackground": true,
            "ticks": "",
            "zerolinecolor": "white"
           },
           "yaxis": {
            "backgroundcolor": "#E5ECF6",
            "gridcolor": "white",
            "gridwidth": 2,
            "linecolor": "white",
            "showbackground": true,
            "ticks": "",
            "zerolinecolor": "white"
           },
           "zaxis": {
            "backgroundcolor": "#E5ECF6",
            "gridcolor": "white",
            "gridwidth": 2,
            "linecolor": "white",
            "showbackground": true,
            "ticks": "",
            "zerolinecolor": "white"
           }
          },
          "shapedefaults": {
           "line": {
            "color": "#2a3f5f"
           }
          },
          "ternary": {
           "aaxis": {
            "gridcolor": "white",
            "linecolor": "white",
            "ticks": ""
           },
           "baxis": {
            "gridcolor": "white",
            "linecolor": "white",
            "ticks": ""
           },
           "bgcolor": "#E5ECF6",
           "caxis": {
            "gridcolor": "white",
            "linecolor": "white",
            "ticks": ""
           }
          },
          "title": {
           "x": 0.05
          },
          "xaxis": {
           "automargin": true,
           "gridcolor": "white",
           "linecolor": "white",
           "ticks": "",
           "title": {
            "standoff": 15
           },
           "zerolinecolor": "white",
           "zerolinewidth": 2
          },
          "yaxis": {
           "automargin": true,
           "gridcolor": "white",
           "linecolor": "white",
           "ticks": "",
           "title": {
            "standoff": 15
           },
           "zerolinecolor": "white",
           "zerolinewidth": 2
          }
         }
        },
        "title": {
         "text": "average rating per month over the years"
        },
        "xaxis": {
         "anchor": "y",
         "domain": [
          0,
          1
         ],
         "title": {
          "text": "year"
         }
        },
        "yaxis": {
         "anchor": "x",
         "domain": [
          0,
          1
         ],
         "title": {
          "text": "rating"
         }
        }
       }
      }
     },
     "metadata": {},
     "output_type": "display_data"
    }
   ],
   "source": [
    "# making a line plot\n",
    "line_fig = px.line(year_mean, x='year', y='rating', title='average rating per month over the years')\n",
    "line_fig.show()"
   ]
  },
  {
   "cell_type": "code",
   "execution_count": null,
   "metadata": {},
   "outputs": [],
   "source": []
  }
 ],
 "metadata": {
  "kernelspec": {
   "display_name": "Python 3",
   "language": "python",
   "name": "python3"
  },
  "language_info": {
   "codemirror_mode": {
    "name": "ipython",
    "version": 3
   },
   "file_extension": ".py",
   "mimetype": "text/x-python",
   "name": "python",
   "nbconvert_exporter": "python",
   "pygments_lexer": "ipython3",
   "version": "3.9.0"
  }
 },
 "nbformat": 4,
 "nbformat_minor": 2
}

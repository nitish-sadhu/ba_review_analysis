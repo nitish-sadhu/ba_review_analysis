{
 "cells": [
  {
   "cell_type": "code",
   "execution_count": 14,
   "metadata": {},
   "outputs": [],
   "source": [
    "import pandas as pd\n",
    "import matplotlib.pyplot as plt\n",
    "import seaborn as sns\n",
    "\n",
    "import pymongo\n",
    "from pymongo import MongoClient"
   ]
  },
  {
   "cell_type": "code",
   "execution_count": 2,
   "metadata": {},
   "outputs": [],
   "source": [
    "# creating a mongo client\n",
    "ba_client = MongoClient()\n",
    "\n",
    "# getting the database\n",
    "ba_database = ba_client['ba_database']\n",
    "\n",
    "# getting the reviews collection\n",
    "ba_col = ba_database['ba_review_col']"
   ]
  },
  {
   "cell_type": "code",
   "execution_count": 4,
   "metadata": {},
   "outputs": [
    {
     "data": {
      "text/plain": [
       "{'_id': 0,\n",
       " 'author': 'Graeme Boothman',\n",
       " 'country': 'United Kingdom',\n",
       " 'published': '2023-11-08',\n",
       " 'rating': '8',\n",
       " 'review': \"✅ Trip Verified |  Booked online months ago and the only hitch was replacement aircraft meaning chosen seats were different. I was informed of this prior to departure so could amend. Bag drop at MAN T3 wasn't smooth but I suspect that was MAN fault. Shuttle boarding was slow and delayed meaning a rush at LHR T5. The flight to CPT was full but we left more or less on time. The cabin was clean and PE was what we expected, sufficient leg and arm room plus a few little perks with drinks. Only complaint is the seats actually recline too far. Staff were very good during the first few hours of service, especially George. Food was quite tasty but one option wasn't loaded. Breakfast was also quite tasty and we landed on time. The fly in the ointment is both our cases arrived late on the carousel and only later did we notice both had been broken into, likely at CPT. All in all a pleasant surprise.\",\n",
       " 'tokens': ['booked',\n",
       "  'online',\n",
       "  'month',\n",
       "  'ago',\n",
       "  'hitch',\n",
       "  'replacement',\n",
       "  'aircraft',\n",
       "  'meaning',\n",
       "  'chosen',\n",
       "  'seat',\n",
       "  'different',\n",
       "  'informed',\n",
       "  'prior',\n",
       "  'departure',\n",
       "  'could',\n",
       "  'amend',\n",
       "  'bag',\n",
       "  'drop',\n",
       "  'man',\n",
       "  't3',\n",
       "  'wasnt',\n",
       "  'smooth',\n",
       "  'suspect',\n",
       "  'man',\n",
       "  'fault',\n",
       "  'shuttle',\n",
       "  'boarding',\n",
       "  'slow',\n",
       "  'delayed',\n",
       "  'meaning',\n",
       "  'rush',\n",
       "  'lhr',\n",
       "  't5',\n",
       "  'flight',\n",
       "  'cpt',\n",
       "  'full',\n",
       "  'left',\n",
       "  'le',\n",
       "  'time',\n",
       "  'cabin',\n",
       "  'clean',\n",
       "  'pe',\n",
       "  'expected',\n",
       "  'sufficient',\n",
       "  'leg',\n",
       "  'arm',\n",
       "  'room',\n",
       "  'plus',\n",
       "  'little',\n",
       "  'perk',\n",
       "  'drink',\n",
       "  'complaint',\n",
       "  'seat',\n",
       "  'actually',\n",
       "  'recline',\n",
       "  'far',\n",
       "  'staff',\n",
       "  'good',\n",
       "  'first',\n",
       "  'hour',\n",
       "  'service',\n",
       "  'especially',\n",
       "  'george',\n",
       "  'food',\n",
       "  'quite',\n",
       "  'tasty',\n",
       "  'one',\n",
       "  'option',\n",
       "  'wasnt',\n",
       "  'loaded',\n",
       "  'breakfast',\n",
       "  'also',\n",
       "  'quite',\n",
       "  'tasty',\n",
       "  'landed',\n",
       "  'time',\n",
       "  'fly',\n",
       "  'ointment',\n",
       "  'case',\n",
       "  'arrived',\n",
       "  'late',\n",
       "  'carousel',\n",
       "  'later',\n",
       "  'notice',\n",
       "  'broken',\n",
       "  'likely',\n",
       "  'cpt',\n",
       "  'pleasant',\n",
       "  'surprise'],\n",
       " 'sentiment': {'neg': 0.113, 'neu': 0.762, 'pos': 0.124, 'compound': 0.285}}"
      ]
     },
     "execution_count": 4,
     "metadata": {},
     "output_type": "execute_result"
    }
   ],
   "source": [
    "# example of a document\n",
    "ba_col.find_one()"
   ]
  },
  {
   "cell_type": "markdown",
   "metadata": {},
   "source": [
    "<h4>barchart of ratings</h4>"
   ]
  },
  {
   "cell_type": "code",
   "execution_count": 48,
   "metadata": {},
   "outputs": [],
   "source": [
    "# collecting the ratings\n",
    "ratings = []\n",
    "for rev in ba_col.find({},{'_id':0, 'rating':1}):\n",
    "        if 'na' in rev['rating']:\n",
    "                continue\n",
    "        else:\n",
    "                ratings.append(int(rev['rating']))"
   ]
  },
  {
   "cell_type": "code",
   "execution_count": 49,
   "metadata": {},
   "outputs": [],
   "source": [
    "ratings_df = pd.DataFrame(ratings)\n",
    "rating_counts = pd.DataFrame(ratings_df.value_counts().sort_index())\n",
    "rating_counts.index.names = ['rating']"
   ]
  },
  {
   "cell_type": "code",
   "execution_count": 50,
   "metadata": {},
   "outputs": [
    {
     "data": {
      "text/html": [
       "<div>\n",
       "<style scoped>\n",
       "    .dataframe tbody tr th:only-of-type {\n",
       "        vertical-align: middle;\n",
       "    }\n",
       "\n",
       "    .dataframe tbody tr th {\n",
       "        vertical-align: top;\n",
       "    }\n",
       "\n",
       "    .dataframe thead th {\n",
       "        text-align: right;\n",
       "    }\n",
       "</style>\n",
       "<table border=\"1\" class=\"dataframe\">\n",
       "  <thead>\n",
       "    <tr style=\"text-align: right;\">\n",
       "      <th></th>\n",
       "      <th>count</th>\n",
       "    </tr>\n",
       "    <tr>\n",
       "      <th>rating</th>\n",
       "      <th></th>\n",
       "    </tr>\n",
       "  </thead>\n",
       "  <tbody>\n",
       "    <tr>\n",
       "      <th>1</th>\n",
       "      <td>862</td>\n",
       "    </tr>\n",
       "    <tr>\n",
       "      <th>2</th>\n",
       "      <td>426</td>\n",
       "    </tr>\n",
       "    <tr>\n",
       "      <th>3</th>\n",
       "      <td>406</td>\n",
       "    </tr>\n",
       "    <tr>\n",
       "      <th>4</th>\n",
       "      <td>253</td>\n",
       "    </tr>\n",
       "    <tr>\n",
       "      <th>5</th>\n",
       "      <td>234</td>\n",
       "    </tr>\n",
       "  </tbody>\n",
       "</table>\n",
       "</div>"
      ],
      "text/plain": [
       "        count\n",
       "rating       \n",
       "1         862\n",
       "2         426\n",
       "3         406\n",
       "4         253\n",
       "5         234"
      ]
     },
     "execution_count": 50,
     "metadata": {},
     "output_type": "execute_result"
    }
   ],
   "source": [
    "rating_counts.head()"
   ]
  },
  {
   "cell_type": "code",
   "execution_count": 46,
   "metadata": {},
   "outputs": [
    {
     "ename": "ValueError",
     "evalue": "Could not interpret input 'rating'",
     "output_type": "error",
     "traceback": [
      "\u001b[1;31m---------------------------------------------------------------------------\u001b[0m",
      "\u001b[1;31mValueError\u001b[0m                                Traceback (most recent call last)",
      "\u001b[1;32mUntitled-1.ipynb Cell 8\u001b[0m line \u001b[0;36m2\n\u001b[0;32m      <a href='vscode-notebook-cell:Untitled-1.ipynb?jupyter-notebook#X10sdW50aXRsZWQ%3D?line=0'>1</a>\u001b[0m \u001b[39m# visualizing the ratings\u001b[39;00m\n\u001b[1;32m----> <a href='vscode-notebook-cell:Untitled-1.ipynb?jupyter-notebook#X10sdW50aXRsZWQ%3D?line=1'>2</a>\u001b[0m sns\u001b[39m.\u001b[39;49mbarplot(rating_counts, x\u001b[39m=\u001b[39;49m\u001b[39m'\u001b[39;49m\u001b[39mrating\u001b[39;49m\u001b[39m'\u001b[39;49m,y\u001b[39m=\u001b[39;49m\u001b[39m'\u001b[39;49m\u001b[39mcount\u001b[39;49m\u001b[39m'\u001b[39;49m)\n\u001b[0;32m      <a href='vscode-notebook-cell:Untitled-1.ipynb?jupyter-notebook#X10sdW50aXRsZWQ%3D?line=2'>3</a>\u001b[0m plt\u001b[39m.\u001b[39mshow()\n",
      "File \u001b[1;32mc:\\Users\\snkri\\AppData\\Local\\Programs\\Python\\Python39\\lib\\site-packages\\seaborn\\categorical.py:2755\u001b[0m, in \u001b[0;36mbarplot\u001b[1;34m(data, x, y, hue, order, hue_order, estimator, errorbar, n_boot, units, seed, orient, color, palette, saturation, width, errcolor, errwidth, capsize, dodge, ci, ax, **kwargs)\u001b[0m\n\u001b[0;32m   2752\u001b[0m \u001b[39mif\u001b[39;00m estimator \u001b[39mis\u001b[39;00m \u001b[39mlen\u001b[39m:\n\u001b[0;32m   2753\u001b[0m     estimator \u001b[39m=\u001b[39m \u001b[39m\"\u001b[39m\u001b[39msize\u001b[39m\u001b[39m\"\u001b[39m\n\u001b[1;32m-> 2755\u001b[0m plotter \u001b[39m=\u001b[39m _BarPlotter(x, y, hue, data, order, hue_order,\n\u001b[0;32m   2756\u001b[0m                       estimator, errorbar, n_boot, units, seed,\n\u001b[0;32m   2757\u001b[0m                       orient, color, palette, saturation,\n\u001b[0;32m   2758\u001b[0m                       width, errcolor, errwidth, capsize, dodge)\n\u001b[0;32m   2760\u001b[0m \u001b[39mif\u001b[39;00m ax \u001b[39mis\u001b[39;00m \u001b[39mNone\u001b[39;00m:\n\u001b[0;32m   2761\u001b[0m     ax \u001b[39m=\u001b[39m plt\u001b[39m.\u001b[39mgca()\n",
      "File \u001b[1;32mc:\\Users\\snkri\\AppData\\Local\\Programs\\Python\\Python39\\lib\\site-packages\\seaborn\\categorical.py:1530\u001b[0m, in \u001b[0;36m_BarPlotter.__init__\u001b[1;34m(self, x, y, hue, data, order, hue_order, estimator, errorbar, n_boot, units, seed, orient, color, palette, saturation, width, errcolor, errwidth, capsize, dodge)\u001b[0m\n\u001b[0;32m   1525\u001b[0m \u001b[39mdef\u001b[39;00m \u001b[39m__init__\u001b[39m(\u001b[39mself\u001b[39m, x, y, hue, data, order, hue_order,\n\u001b[0;32m   1526\u001b[0m              estimator, errorbar, n_boot, units, seed,\n\u001b[0;32m   1527\u001b[0m              orient, color, palette, saturation, width,\n\u001b[0;32m   1528\u001b[0m              errcolor, errwidth, capsize, dodge):\n\u001b[0;32m   1529\u001b[0m \u001b[39m    \u001b[39m\u001b[39m\"\"\"Initialize the plotter.\"\"\"\u001b[39;00m\n\u001b[1;32m-> 1530\u001b[0m     \u001b[39mself\u001b[39;49m\u001b[39m.\u001b[39;49mestablish_variables(x, y, hue, data, orient,\n\u001b[0;32m   1531\u001b[0m                              order, hue_order, units)\n\u001b[0;32m   1532\u001b[0m     \u001b[39mself\u001b[39m\u001b[39m.\u001b[39mestablish_colors(color, palette, saturation)\n\u001b[0;32m   1533\u001b[0m     \u001b[39mself\u001b[39m\u001b[39m.\u001b[39mestimate_statistic(estimator, errorbar, n_boot, seed)\n",
      "File \u001b[1;32mc:\\Users\\snkri\\AppData\\Local\\Programs\\Python\\Python39\\lib\\site-packages\\seaborn\\categorical.py:541\u001b[0m, in \u001b[0;36m_CategoricalPlotter.establish_variables\u001b[1;34m(self, x, y, hue, data, orient, order, hue_order, units)\u001b[0m\n\u001b[0;32m    539\u001b[0m     \u001b[39mif\u001b[39;00m \u001b[39misinstance\u001b[39m(var, \u001b[39mstr\u001b[39m):\n\u001b[0;32m    540\u001b[0m         err \u001b[39m=\u001b[39m \u001b[39mf\u001b[39m\u001b[39m\"\u001b[39m\u001b[39mCould not interpret input \u001b[39m\u001b[39m'\u001b[39m\u001b[39m{\u001b[39;00mvar\u001b[39m}\u001b[39;00m\u001b[39m'\u001b[39m\u001b[39m\"\u001b[39m\n\u001b[1;32m--> 541\u001b[0m         \u001b[39mraise\u001b[39;00m \u001b[39mValueError\u001b[39;00m(err)\n\u001b[0;32m    543\u001b[0m \u001b[39m# Figure out the plotting orientation\u001b[39;00m\n\u001b[0;32m    544\u001b[0m orient \u001b[39m=\u001b[39m infer_orient(\n\u001b[0;32m    545\u001b[0m     x, y, orient, require_numeric\u001b[39m=\u001b[39m\u001b[39mself\u001b[39m\u001b[39m.\u001b[39mrequire_numeric\n\u001b[0;32m    546\u001b[0m )\n",
      "\u001b[1;31mValueError\u001b[0m: Could not interpret input 'rating'"
     ]
    }
   ],
   "source": [
    "# visualizing the ratings\n",
    "sns.barplot(rating_counts, x='rating',y='count')\n",
    "plt.show()"
   ]
  },
  {
   "cell_type": "code",
   "execution_count": null,
   "metadata": {},
   "outputs": [],
   "source": []
  }
 ],
 "metadata": {
  "kernelspec": {
   "display_name": "Python 3",
   "language": "python",
   "name": "python3"
  },
  "language_info": {
   "codemirror_mode": {
    "name": "ipython",
    "version": 3
   },
   "file_extension": ".py",
   "mimetype": "text/x-python",
   "name": "python",
   "nbconvert_exporter": "python",
   "pygments_lexer": "ipython3",
   "version": "3.9.0"
  }
 },
 "nbformat": 4,
 "nbformat_minor": 2
}
